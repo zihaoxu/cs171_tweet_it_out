{
 "cells": [
  {
   "cell_type": "markdown",
   "metadata": {},
   "source": [
    "# Search Mode"
   ]
  },
  {
   "cell_type": "code",
   "execution_count": null,
   "metadata": {},
   "outputs": [],
   "source": [
    "import os\n",
    "import tweepy\n",
    "import csv\n",
    "import pandas as pd\n",
    "\n",
    "def get_tweet_data(tweet):\n",
    "    \"\"\" A function that extracts the info from a given tweet\n",
    "    \"\"\"\n",
    "    # Gather any hashtags\n",
    "    hashtags = []\n",
    "    for hashtag in tweet.entities[\"hashtags\"]:\n",
    "        hashtags.append(hashtag[\"text\"])\n",
    "        \n",
    "    # Extract the info\n",
    "    row_info = {'user_name': tweet.user.name, \n",
    "            'user_location': tweet.user.location,\n",
    "            'user_description': tweet.user.description,\n",
    "            'user_created': tweet.user.created_at,\n",
    "            'user_followers': tweet.user.followers_count,\n",
    "            'user_friends': tweet.user.friends_count,\n",
    "            'user_favourites': tweet.user.favourites_count,\n",
    "            'user_verified': tweet.user.verified,\n",
    "            'date': tweet.created_at,\n",
    "            'full_text': tweet.full_text, \n",
    "            'hashtags': hashtags if hashtags else None,\n",
    "            'source': tweet.source}\n",
    "    return row_info\n",
    "\n",
    "consumer_key = os.environ[\"CONSUMER_KEY\"]\n",
    "consumer_secret = os.environ[\"CONSUMER_SECRET\"]\n",
    "\n",
    "auth = tweepy.AppAuthHandler(consumer_key, consumer_secret)\n",
    "api = tweepy.API(auth, wait_on_rate_limit=True, wait_on_rate_limit_notify=True)\n",
    "\n",
    "# Define Consts\n",
    "search_words = \"#covid19 -filter:retweets\"\n",
    "date_list = pd.bdate_range('2020-03-01', '2020-11-01').date\n",
    "columns = ['user_name','user_location', 'user_description', 'user_created', 'user_followers', 'user_friends',\n",
    "          'user_favourites', 'user_verified', 'date', 'full_text', 'hashtags', 'source']\n",
    "\n",
    "with open(r'covid_tweets.csv', 'a', newline='') as csvfile:\n",
    "    writer = csv.DictWriter(csvfile, fieldnames=columns)\n",
    "    for since, until in zip(date_list, date_list[1:]):\n",
    "        for tweet in tweepy.Cursor(api.search,\n",
    "                               q=search_words,\n",
    "                               lang=\"en\",\n",
    "                               since=since,\n",
    "                               until = until,\n",
    "                               tweet_mode='extended').items(10):\n",
    "            row_info = get_tweet_data(tweet)\n",
    "            writer.writerow(row_info)"
   ]
  },
  {
   "cell_type": "code",
   "execution_count": null,
   "metadata": {},
   "outputs": [],
   "source": [
    "df = pd.read_csv('covid_tweets.csv', header=None)\n",
    "df.columns = columns\n",
    "df"
   ]
  },
  {
   "cell_type": "markdown",
   "metadata": {},
   "source": [
    "# Download by ID"
   ]
  },
  {
   "cell_type": "code",
   "execution_count": null,
   "metadata": {},
   "outputs": [],
   "source": [
    "import os\n",
    "import tweepy\n",
    "import csv\n",
    "import pandas as pd\n",
    "from tweet import config\n",
    "\n",
    "\n",
    "def get_tweet_data(tweet_id):\n",
    "    \"\"\" A function that extracts the info from a given tweet_id\n",
    "    \"\"\"\n",
    "    # Ping API for tweet\n",
    "    tweet = api.get_status(tweet_id, tweet_mode='extended')\n",
    "    \n",
    "    # Check if is retweet\n",
    "    if hasattr(tweet, \"retweeted_status\"):\n",
    "        tweet = tweet.retweeted_status\n",
    "            \n",
    "    # Gather any hashtags\n",
    "    hashtags = []\n",
    "    for hashtag in tweet.entities[\"hashtags\"]:\n",
    "        hashtags.append(hashtag[\"text\"])\n",
    "        \n",
    "    # Extract the info\n",
    "    row_info = {'user_name': tweet.user.name, \n",
    "            'user_location': tweet.user.location,\n",
    "            'user_description': tweet.user.description,\n",
    "            'user_created': tweet.user.created_at,\n",
    "            'user_followers': tweet.user.followers_count,\n",
    "            'user_friends': tweet.user.friends_count,\n",
    "            'user_favourites': tweet.user.favourites_count,\n",
    "            'user_verified': tweet.user.verified,\n",
    "            'date': tweet.created_at,\n",
    "            'full_text': tweet.full_text, \n",
    "            'hashtags': hashtags if hashtags else None,\n",
    "            'source': tweet.source}\n",
    "    return row_info\n",
    "\n",
    "\n",
    "consumer_key = os.environ[\"CONSUMER_KEY\"]\n",
    "consumer_secret = os.environ[\"CONSUMER_SECRET\"]\n",
    "\n",
    "auth = tweepy.AppAuthHandler(consumer_key, consumer_secret)\n",
    "api = tweepy.API(auth, wait_on_rate_limit=True, wait_on_rate_limit_notify=True)\n",
    "\n",
    "# Define dirs\n",
    "save_dir = config.data / 'covid19_id_reduced'\n",
    "f_list = sorted(save_dir.iterdir())\n",
    "    \n",
    "columns = ['user_name','user_location', 'user_description', 'user_created', 'user_followers', 'user_friends',\n",
    "          'user_favourites', 'user_verified', 'date', 'full_text', 'hashtags', 'source']\n",
    "\n",
    "with open(r'covid_tweets.csv', 'a', newline='') as csvfile:\n",
    "    writer = csv.DictWriter(csvfile, fieldnames=columns)\n",
    "    for date_df in f_list[-1:]:\n",
    "        date = pd.read_csv(date_df).columns[0]\n",
    "        IDs = pd.read_csv(date_df).values.flatten()\n",
    "        for tweet_id in IDs[:10]:\n",
    "            try:\n",
    "                row_info = get_tweet_data(tweet_id)\n",
    "                writer.writerow(row_info)\n",
    "            except Exception as e:\n",
    "                print(tweet_id, \":\", e)\n",
    "                continue"
   ]
  },
  {
   "cell_type": "code",
   "execution_count": null,
   "metadata": {
    "scrolled": true
   },
   "outputs": [],
   "source": [
    "df = pd.read_csv('covid_tweets.csv', header=None)\n",
    "for t in df[9]:\n",
    "    print(len(t))"
   ]
  },
  {
   "cell_type": "code",
   "execution_count": null,
   "metadata": {},
   "outputs": [],
   "source": [
    "row_info['full_text']"
   ]
  },
  {
   "cell_type": "markdown",
   "metadata": {},
   "source": [
    "# Tests"
   ]
  },
  {
   "cell_type": "code",
   "execution_count": 10,
   "metadata": {
    "scrolled": false
   },
   "outputs": [
    {
     "data": {
      "text/plain": [
       "Status(_api=<tweepy.api.API object at 0x7fe61738df40>, _json={'created_at': 'Tue Jan 21 23:35:35 +0000 2020', 'id': 1219765513514930176, 'id_str': '1219765513514930176', 'full_text': 'RT @nikki_miumiu: #CDC has confirmed the first #US case of #WuhanPneumonia, the patient is now under observation in Washington state. This…', 'truncated': False, 'display_text_range': [0, 139], 'entities': {'hashtags': [{'text': 'CDC', 'indices': [18, 22]}, {'text': 'US', 'indices': [47, 50]}, {'text': 'WuhanPneumonia', 'indices': [59, 74]}], 'symbols': [], 'user_mentions': [{'screen_name': 'nikki_miumiu', 'name': 'Nikki😷', 'id': 1162111357, 'id_str': '1162111357', 'indices': [3, 16]}], 'urls': []}, 'source': '<a href=\"http://twitter.com/download/android\" rel=\"nofollow\">Twitter for Android</a>', 'in_reply_to_status_id': None, 'in_reply_to_status_id_str': None, 'in_reply_to_user_id': None, 'in_reply_to_user_id_str': None, 'in_reply_to_screen_name': None, 'user': {'id': 1202169343250821120, 'id_str': '1202169343250821120', 'name': '森健介', 'screen_name': 'Z2QoUru1fsqYqZI', 'location': '', 'description': '情報収集目的で作ったアカウント。思ったより自分から発信してる今日この頃。やはり自分はオタク気質なんだなぁと思う。\\nOften follows & retweets English tweets. Mostly tweets in Japanese.', 'url': None, 'entities': {'description': {'urls': []}}, 'protected': False, 'followers_count': 702, 'friends_count': 2109, 'listed_count': 4, 'created_at': 'Wed Dec 04 10:14:58 +0000 2019', 'favourites_count': 89072, 'utc_offset': None, 'time_zone': None, 'geo_enabled': False, 'verified': False, 'statuses_count': 28979, 'lang': None, 'contributors_enabled': False, 'is_translator': False, 'is_translation_enabled': False, 'profile_background_color': 'F5F8FA', 'profile_background_image_url': None, 'profile_background_image_url_https': None, 'profile_background_tile': False, 'profile_image_url': 'http://pbs.twimg.com/profile_images/1291359274862391296/i_gIVyZK_normal.png', 'profile_image_url_https': 'https://pbs.twimg.com/profile_images/1291359274862391296/i_gIVyZK_normal.png', 'profile_banner_url': 'https://pbs.twimg.com/profile_banners/1202169343250821120/1600607330', 'profile_link_color': '1DA1F2', 'profile_sidebar_border_color': 'C0DEED', 'profile_sidebar_fill_color': 'DDEEF6', 'profile_text_color': '333333', 'profile_use_background_image': True, 'has_extended_profile': False, 'default_profile': True, 'default_profile_image': False, 'following': None, 'follow_request_sent': None, 'notifications': None, 'translator_type': 'none'}, 'geo': None, 'coordinates': None, 'place': None, 'contributors': None, 'retweeted_status': {'created_at': 'Tue Jan 21 22:57:10 +0000 2020', 'id': 1219755848127279104, 'id_str': '1219755848127279104', 'full_text': '#CDC has confirmed the first #US case of #WuhanPneumonia, the patient is now under observation in Washington state. This mysterious coronavirus has already claimed at least six lives in China. https://t.co/ywAz4Hp0Dq', 'truncated': False, 'display_text_range': [0, 192], 'entities': {'hashtags': [{'text': 'CDC', 'indices': [0, 4]}, {'text': 'US', 'indices': [29, 32]}, {'text': 'WuhanPneumonia', 'indices': [41, 56]}], 'symbols': [], 'user_mentions': [], 'urls': [{'url': 'https://t.co/ywAz4Hp0Dq', 'expanded_url': 'https://twitter.com/cheddar/status/1219699777614512130', 'display_url': 'twitter.com/cheddar/status…', 'indices': [193, 216]}]}, 'source': '<a href=\"http://twitter.com/download/iphone\" rel=\"nofollow\">Twitter for iPhone</a>', 'in_reply_to_status_id': None, 'in_reply_to_status_id_str': None, 'in_reply_to_user_id': None, 'in_reply_to_user_id_str': None, 'in_reply_to_screen_name': None, 'user': {'id': 1162111357, 'id_str': '1162111357', 'name': 'Nikki😷', 'screen_name': 'nikki_miumiu', 'location': 'United States', 'description': 'My life is totally unremarkable, staying in a country which doesnt belongs to me, eating, sleeping and living by myself... So yea, this is me. Welcome to hell.', 'url': None, 'entities': {'description': {'urls': []}}, 'protected': False, 'followers_count': 18533, 'friends_count': 539, 'listed_count': 69, 'created_at': 'Sat Feb 09 05:58:19 +0000 2013', 'favourites_count': 42045, 'utc_offset': None, 'time_zone': None, 'geo_enabled': False, 'verified': False, 'statuses_count': 26929, 'lang': None, 'contributors_enabled': False, 'is_translator': False, 'is_translation_enabled': False, 'profile_background_color': 'C0DEED', 'profile_background_image_url': 'http://abs.twimg.com/images/themes/theme1/bg.png', 'profile_background_image_url_https': 'https://abs.twimg.com/images/themes/theme1/bg.png', 'profile_background_tile': False, 'profile_image_url': 'http://pbs.twimg.com/profile_images/1186172371570327553/tZbZfvxm_normal.jpg', 'profile_image_url_https': 'https://pbs.twimg.com/profile_images/1186172371570327553/tZbZfvxm_normal.jpg', 'profile_banner_url': 'https://pbs.twimg.com/profile_banners/1162111357/1603910691', 'profile_link_color': '1DA1F2', 'profile_sidebar_border_color': 'C0DEED', 'profile_sidebar_fill_color': 'DDEEF6', 'profile_text_color': '333333', 'profile_use_background_image': True, 'has_extended_profile': True, 'default_profile': True, 'default_profile_image': False, 'following': None, 'follow_request_sent': None, 'notifications': None, 'translator_type': 'none'}, 'geo': None, 'coordinates': None, 'place': None, 'contributors': None, 'is_quote_status': True, 'quoted_status_id': 1219699777614512130, 'quoted_status_id_str': '1219699777614512130', 'quoted_status_permalink': {'url': 'https://t.co/ywAz4Hp0Dq', 'expanded': 'https://twitter.com/cheddar/status/1219699777614512130', 'display': 'twitter.com/cheddar/status…'}, 'quoted_status': {'created_at': 'Tue Jan 21 19:14:22 +0000 2020', 'id': 1219699777614512130, 'id_str': '1219699777614512130', 'full_text': 'NEW: The CDC has confirmed the first U.S. case of the Wuhan coronavirus after a traveler was diagnosed in Washington State. #CheddarLive https://t.co/PKfX6hTCEA', 'truncated': False, 'display_text_range': [0, 136], 'entities': {'hashtags': [{'text': 'CheddarLive', 'indices': [124, 136]}], 'symbols': [], 'user_mentions': [], 'urls': [], 'media': [{'id': 1219699570453753856, 'id_str': '1219699570453753856', 'indices': [137, 160], 'media_url': 'http://pbs.twimg.com/media/EO0-Y1KWsAAwJl2.jpg', 'media_url_https': 'https://pbs.twimg.com/media/EO0-Y1KWsAAwJl2.jpg', 'url': 'https://t.co/PKfX6hTCEA', 'display_url': 'pic.twitter.com/PKfX6hTCEA', 'expanded_url': 'https://twitter.com/cheddar/status/1219699777614512130/video/1', 'type': 'photo', 'sizes': {'thumb': {'w': 150, 'h': 150, 'resize': 'crop'}, 'medium': {'w': 1200, 'h': 675, 'resize': 'fit'}, 'small': {'w': 680, 'h': 383, 'resize': 'fit'}, 'large': {'w': 1280, 'h': 720, 'resize': 'fit'}}}]}, 'extended_entities': {'media': [{'id': 1219699570453753856, 'id_str': '1219699570453753856', 'indices': [137, 160], 'media_url': 'http://pbs.twimg.com/media/EO0-Y1KWsAAwJl2.jpg', 'media_url_https': 'https://pbs.twimg.com/media/EO0-Y1KWsAAwJl2.jpg', 'url': 'https://t.co/PKfX6hTCEA', 'display_url': 'pic.twitter.com/PKfX6hTCEA', 'expanded_url': 'https://twitter.com/cheddar/status/1219699777614512130/video/1', 'type': 'video', 'sizes': {'thumb': {'w': 150, 'h': 150, 'resize': 'crop'}, 'medium': {'w': 1200, 'h': 675, 'resize': 'fit'}, 'small': {'w': 680, 'h': 383, 'resize': 'fit'}, 'large': {'w': 1280, 'h': 720, 'resize': 'fit'}}, 'video_info': {'aspect_ratio': [16, 9], 'duration_millis': 100881, 'variants': [{'bitrate': 288000, 'content_type': 'video/mp4', 'url': 'https://video.twimg.com/amplify_video/1219699570453753856/vid/480x270/uItxo9ryezPaL3X7.mp4?tag=13'}, {'bitrate': 2176000, 'content_type': 'video/mp4', 'url': 'https://video.twimg.com/amplify_video/1219699570453753856/vid/1280x720/GMzgNHxXXK1ZByCj.mp4?tag=13'}, {'bitrate': 832000, 'content_type': 'video/mp4', 'url': 'https://video.twimg.com/amplify_video/1219699570453753856/vid/640x360/GjgvIYBOADScDw_W.mp4?tag=13'}, {'content_type': 'application/x-mpegURL', 'url': 'https://video.twimg.com/amplify_video/1219699570453753856/pl/JoiEof6XXjMjF5uI.m3u8?tag=13'}]}, 'additional_media_info': {'title': '', 'description': '', 'embeddable': True, 'monetizable': False}}]}, 'source': '<a href=\"https://studio.twitter.com\" rel=\"nofollow\">Twitter Media Studio</a>', 'in_reply_to_status_id': None, 'in_reply_to_status_id_str': None, 'in_reply_to_user_id': None, 'in_reply_to_user_id_str': None, 'in_reply_to_screen_name': None, 'user': {'id': 700784500658208768, 'id_str': '700784500658208768', 'name': 'Cheddar🧀', 'screen_name': 'cheddar', 'location': 'New York, NY', 'description': 'Cheddar covers the latest in news, business, media, and tech. Live weekdays from 7am - 6pm ET. \\n\\n📺 TUNE IN: https://t.co/ANU6bV5Xgt', 'url': 'https://t.co/tf0BsbRMXt', 'entities': {'url': {'urls': [{'url': 'https://t.co/tf0BsbRMXt', 'expanded_url': 'http://cheddar.com', 'display_url': 'cheddar.com', 'indices': [0, 23]}]}, 'description': {'urls': [{'url': 'https://t.co/ANU6bV5Xgt', 'expanded_url': 'http://chdr.tv/e11e1', 'display_url': 'chdr.tv/e11e1', 'indices': [108, 131]}]}}, 'protected': False, 'followers_count': 251446, 'friends_count': 7134, 'listed_count': 2107, 'created_at': 'Fri Feb 19 20:50:19 +0000 2016', 'favourites_count': 12693, 'utc_offset': None, 'time_zone': None, 'geo_enabled': True, 'verified': True, 'statuses_count': 50424, 'lang': None, 'contributors_enabled': False, 'is_translator': False, 'is_translation_enabled': False, 'profile_background_color': 'F5F8FA', 'profile_background_image_url': None, 'profile_background_image_url_https': None, 'profile_background_tile': False, 'profile_image_url': 'http://pbs.twimg.com/profile_images/1266402727770324994/0WqkjtYo_normal.jpg', 'profile_image_url_https': 'https://pbs.twimg.com/profile_images/1266402727770324994/0WqkjtYo_normal.jpg', 'profile_banner_url': 'https://pbs.twimg.com/profile_banners/700784500658208768/1604587151', 'profile_link_color': '1DA1F2', 'profile_sidebar_border_color': 'C0DEED', 'profile_sidebar_fill_color': 'DDEEF6', 'profile_text_color': '333333', 'profile_use_background_image': True, 'has_extended_profile': True, 'default_profile': True, 'default_profile_image': False, 'following': None, 'follow_request_sent': None, 'notifications': None, 'translator_type': 'none'}, 'geo': None, 'coordinates': None, 'place': None, 'contributors': None, 'is_quote_status': False, 'retweet_count': 25, 'favorite_count': 14, 'favorited': False, 'retweeted': False, 'possibly_sensitive': False, 'possibly_sensitive_appealable': False, 'lang': 'en'}, 'retweet_count': 64, 'favorite_count': 64, 'favorited': False, 'retweeted': False, 'possibly_sensitive': False, 'possibly_sensitive_appealable': False, 'lang': 'en'}, 'is_quote_status': True, 'quoted_status_id': 1219699777614512130, 'quoted_status_id_str': '1219699777614512130', 'quoted_status_permalink': {'url': 'https://t.co/ywAz4Hp0Dq', 'expanded': 'https://twitter.com/cheddar/status/1219699777614512130', 'display': 'twitter.com/cheddar/status…'}, 'retweet_count': 64, 'favorite_count': 0, 'favorited': False, 'retweeted': False, 'lang': 'en'}, created_at=datetime.datetime(2020, 1, 21, 23, 35, 35), id=1219765513514930176, id_str='1219765513514930176', full_text='RT @nikki_miumiu: #CDC has confirmed the first #US case of #WuhanPneumonia, the patient is now under observation in Washington state. This…', truncated=False, display_text_range=[0, 139], entities={'hashtags': [{'text': 'CDC', 'indices': [18, 22]}, {'text': 'US', 'indices': [47, 50]}, {'text': 'WuhanPneumonia', 'indices': [59, 74]}], 'symbols': [], 'user_mentions': [{'screen_name': 'nikki_miumiu', 'name': 'Nikki😷', 'id': 1162111357, 'id_str': '1162111357', 'indices': [3, 16]}], 'urls': []}, source='Twitter for Android', source_url='http://twitter.com/download/android', in_reply_to_status_id=None, in_reply_to_status_id_str=None, in_reply_to_user_id=None, in_reply_to_user_id_str=None, in_reply_to_screen_name=None, author=User(_api=<tweepy.api.API object at 0x7fe61738df40>, _json={'id': 1202169343250821120, 'id_str': '1202169343250821120', 'name': '森健介', 'screen_name': 'Z2QoUru1fsqYqZI', 'location': '', 'description': '情報収集目的で作ったアカウント。思ったより自分から発信してる今日この頃。やはり自分はオタク気質なんだなぁと思う。\\nOften follows & retweets English tweets. Mostly tweets in Japanese.', 'url': None, 'entities': {'description': {'urls': []}}, 'protected': False, 'followers_count': 702, 'friends_count': 2109, 'listed_count': 4, 'created_at': 'Wed Dec 04 10:14:58 +0000 2019', 'favourites_count': 89072, 'utc_offset': None, 'time_zone': None, 'geo_enabled': False, 'verified': False, 'statuses_count': 28979, 'lang': None, 'contributors_enabled': False, 'is_translator': False, 'is_translation_enabled': False, 'profile_background_color': 'F5F8FA', 'profile_background_image_url': None, 'profile_background_image_url_https': None, 'profile_background_tile': False, 'profile_image_url': 'http://pbs.twimg.com/profile_images/1291359274862391296/i_gIVyZK_normal.png', 'profile_image_url_https': 'https://pbs.twimg.com/profile_images/1291359274862391296/i_gIVyZK_normal.png', 'profile_banner_url': 'https://pbs.twimg.com/profile_banners/1202169343250821120/1600607330', 'profile_link_color': '1DA1F2', 'profile_sidebar_border_color': 'C0DEED', 'profile_sidebar_fill_color': 'DDEEF6', 'profile_text_color': '333333', 'profile_use_background_image': True, 'has_extended_profile': False, 'default_profile': True, 'default_profile_image': False, 'following': None, 'follow_request_sent': None, 'notifications': None, 'translator_type': 'none'}, id=1202169343250821120, id_str='1202169343250821120', name='森健介', screen_name='Z2QoUru1fsqYqZI', location='', description='情報収集目的で作ったアカウント。思ったより自分から発信してる今日この頃。やはり自分はオタク気質なんだなぁと思う。\\nOften follows & retweets English tweets. Mostly tweets in Japanese.', url=None, entities={'description': {'urls': []}}, protected=False, followers_count=702, friends_count=2109, listed_count=4, created_at=datetime.datetime(2019, 12, 4, 10, 14, 58), favourites_count=89072, utc_offset=None, time_zone=None, geo_enabled=False, verified=False, statuses_count=28979, lang=None, contributors_enabled=False, is_translator=False, is_translation_enabled=False, profile_background_color='F5F8FA', profile_background_image_url=None, profile_background_image_url_https=None, profile_background_tile=False, profile_image_url='http://pbs.twimg.com/profile_images/1291359274862391296/i_gIVyZK_normal.png', profile_image_url_https='https://pbs.twimg.com/profile_images/1291359274862391296/i_gIVyZK_normal.png', profile_banner_url='https://pbs.twimg.com/profile_banners/1202169343250821120/1600607330', profile_link_color='1DA1F2', profile_sidebar_border_color='C0DEED', profile_sidebar_fill_color='DDEEF6', profile_text_color='333333', profile_use_background_image=True, has_extended_profile=False, default_profile=True, default_profile_image=False, following=False, follow_request_sent=None, notifications=None, translator_type='none'), user=User(_api=<tweepy.api.API object at 0x7fe61738df40>, _json={'id': 1202169343250821120, 'id_str': '1202169343250821120', 'name': '森健介', 'screen_name': 'Z2QoUru1fsqYqZI', 'location': '', 'description': '情報収集目的で作ったアカウント。思ったより自分から発信してる今日この頃。やはり自分はオタク気質なんだなぁと思う。\\nOften follows & retweets English tweets. Mostly tweets in Japanese.', 'url': None, 'entities': {'description': {'urls': []}}, 'protected': False, 'followers_count': 702, 'friends_count': 2109, 'listed_count': 4, 'created_at': 'Wed Dec 04 10:14:58 +0000 2019', 'favourites_count': 89072, 'utc_offset': None, 'time_zone': None, 'geo_enabled': False, 'verified': False, 'statuses_count': 28979, 'lang': None, 'contributors_enabled': False, 'is_translator': False, 'is_translation_enabled': False, 'profile_background_color': 'F5F8FA', 'profile_background_image_url': None, 'profile_background_image_url_https': None, 'profile_background_tile': False, 'profile_image_url': 'http://pbs.twimg.com/profile_images/1291359274862391296/i_gIVyZK_normal.png', 'profile_image_url_https': 'https://pbs.twimg.com/profile_images/1291359274862391296/i_gIVyZK_normal.png', 'profile_banner_url': 'https://pbs.twimg.com/profile_banners/1202169343250821120/1600607330', 'profile_link_color': '1DA1F2', 'profile_sidebar_border_color': 'C0DEED', 'profile_sidebar_fill_color': 'DDEEF6', 'profile_text_color': '333333', 'profile_use_background_image': True, 'has_extended_profile': False, 'default_profile': True, 'default_profile_image': False, 'following': None, 'follow_request_sent': None, 'notifications': None, 'translator_type': 'none'}, id=1202169343250821120, id_str='1202169343250821120', name='森健介', screen_name='Z2QoUru1fsqYqZI', location='', description='情報収集目的で作ったアカウント。思ったより自分から発信してる今日この頃。やはり自分はオタク気質なんだなぁと思う。\\nOften follows & retweets English tweets. Mostly tweets in Japanese.', url=None, entities={'description': {'urls': []}}, protected=False, followers_count=702, friends_count=2109, listed_count=4, created_at=datetime.datetime(2019, 12, 4, 10, 14, 58), favourites_count=89072, utc_offset=None, time_zone=None, geo_enabled=False, verified=False, statuses_count=28979, lang=None, contributors_enabled=False, is_translator=False, is_translation_enabled=False, profile_background_color='F5F8FA', profile_background_image_url=None, profile_background_image_url_https=None, profile_background_tile=False, profile_image_url='http://pbs.twimg.com/profile_images/1291359274862391296/i_gIVyZK_normal.png', profile_image_url_https='https://pbs.twimg.com/profile_images/1291359274862391296/i_gIVyZK_normal.png', profile_banner_url='https://pbs.twimg.com/profile_banners/1202169343250821120/1600607330', profile_link_color='1DA1F2', profile_sidebar_border_color='C0DEED', profile_sidebar_fill_color='DDEEF6', profile_text_color='333333', profile_use_background_image=True, has_extended_profile=False, default_profile=True, default_profile_image=False, following=False, follow_request_sent=None, notifications=None, translator_type='none'), geo=None, coordinates=None, place=None, contributors=None, retweeted_status=Status(_api=<tweepy.api.API object at 0x7fe61738df40>, _json={'created_at': 'Tue Jan 21 22:57:10 +0000 2020', 'id': 1219755848127279104, 'id_str': '1219755848127279104', 'full_text': '#CDC has confirmed the first #US case of #WuhanPneumonia, the patient is now under observation in Washington state. This mysterious coronavirus has already claimed at least six lives in China. https://t.co/ywAz4Hp0Dq', 'truncated': False, 'display_text_range': [0, 192], 'entities': {'hashtags': [{'text': 'CDC', 'indices': [0, 4]}, {'text': 'US', 'indices': [29, 32]}, {'text': 'WuhanPneumonia', 'indices': [41, 56]}], 'symbols': [], 'user_mentions': [], 'urls': [{'url': 'https://t.co/ywAz4Hp0Dq', 'expanded_url': 'https://twitter.com/cheddar/status/1219699777614512130', 'display_url': 'twitter.com/cheddar/status…', 'indices': [193, 216]}]}, 'source': '<a href=\"http://twitter.com/download/iphone\" rel=\"nofollow\">Twitter for iPhone</a>', 'in_reply_to_status_id': None, 'in_reply_to_status_id_str': None, 'in_reply_to_user_id': None, 'in_reply_to_user_id_str': None, 'in_reply_to_screen_name': None, 'user': {'id': 1162111357, 'id_str': '1162111357', 'name': 'Nikki😷', 'screen_name': 'nikki_miumiu', 'location': 'United States', 'description': 'My life is totally unremarkable, staying in a country which doesnt belongs to me, eating, sleeping and living by myself... So yea, this is me. Welcome to hell.', 'url': None, 'entities': {'description': {'urls': []}}, 'protected': False, 'followers_count': 18533, 'friends_count': 539, 'listed_count': 69, 'created_at': 'Sat Feb 09 05:58:19 +0000 2013', 'favourites_count': 42045, 'utc_offset': None, 'time_zone': None, 'geo_enabled': False, 'verified': False, 'statuses_count': 26929, 'lang': None, 'contributors_enabled': False, 'is_translator': False, 'is_translation_enabled': False, 'profile_background_color': 'C0DEED', 'profile_background_image_url': 'http://abs.twimg.com/images/themes/theme1/bg.png', 'profile_background_image_url_https': 'https://abs.twimg.com/images/themes/theme1/bg.png', 'profile_background_tile': False, 'profile_image_url': 'http://pbs.twimg.com/profile_images/1186172371570327553/tZbZfvxm_normal.jpg', 'profile_image_url_https': 'https://pbs.twimg.com/profile_images/1186172371570327553/tZbZfvxm_normal.jpg', 'profile_banner_url': 'https://pbs.twimg.com/profile_banners/1162111357/1603910691', 'profile_link_color': '1DA1F2', 'profile_sidebar_border_color': 'C0DEED', 'profile_sidebar_fill_color': 'DDEEF6', 'profile_text_color': '333333', 'profile_use_background_image': True, 'has_extended_profile': True, 'default_profile': True, 'default_profile_image': False, 'following': None, 'follow_request_sent': None, 'notifications': None, 'translator_type': 'none'}, 'geo': None, 'coordinates': None, 'place': None, 'contributors': None, 'is_quote_status': True, 'quoted_status_id': 1219699777614512130, 'quoted_status_id_str': '1219699777614512130', 'quoted_status_permalink': {'url': 'https://t.co/ywAz4Hp0Dq', 'expanded': 'https://twitter.com/cheddar/status/1219699777614512130', 'display': 'twitter.com/cheddar/status…'}, 'quoted_status': {'created_at': 'Tue Jan 21 19:14:22 +0000 2020', 'id': 1219699777614512130, 'id_str': '1219699777614512130', 'full_text': 'NEW: The CDC has confirmed the first U.S. case of the Wuhan coronavirus after a traveler was diagnosed in Washington State. #CheddarLive https://t.co/PKfX6hTCEA', 'truncated': False, 'display_text_range': [0, 136], 'entities': {'hashtags': [{'text': 'CheddarLive', 'indices': [124, 136]}], 'symbols': [], 'user_mentions': [], 'urls': [], 'media': [{'id': 1219699570453753856, 'id_str': '1219699570453753856', 'indices': [137, 160], 'media_url': 'http://pbs.twimg.com/media/EO0-Y1KWsAAwJl2.jpg', 'media_url_https': 'https://pbs.twimg.com/media/EO0-Y1KWsAAwJl2.jpg', 'url': 'https://t.co/PKfX6hTCEA', 'display_url': 'pic.twitter.com/PKfX6hTCEA', 'expanded_url': 'https://twitter.com/cheddar/status/1219699777614512130/video/1', 'type': 'photo', 'sizes': {'thumb': {'w': 150, 'h': 150, 'resize': 'crop'}, 'medium': {'w': 1200, 'h': 675, 'resize': 'fit'}, 'small': {'w': 680, 'h': 383, 'resize': 'fit'}, 'large': {'w': 1280, 'h': 720, 'resize': 'fit'}}}]}, 'extended_entities': {'media': [{'id': 1219699570453753856, 'id_str': '1219699570453753856', 'indices': [137, 160], 'media_url': 'http://pbs.twimg.com/media/EO0-Y1KWsAAwJl2.jpg', 'media_url_https': 'https://pbs.twimg.com/media/EO0-Y1KWsAAwJl2.jpg', 'url': 'https://t.co/PKfX6hTCEA', 'display_url': 'pic.twitter.com/PKfX6hTCEA', 'expanded_url': 'https://twitter.com/cheddar/status/1219699777614512130/video/1', 'type': 'video', 'sizes': {'thumb': {'w': 150, 'h': 150, 'resize': 'crop'}, 'medium': {'w': 1200, 'h': 675, 'resize': 'fit'}, 'small': {'w': 680, 'h': 383, 'resize': 'fit'}, 'large': {'w': 1280, 'h': 720, 'resize': 'fit'}}, 'video_info': {'aspect_ratio': [16, 9], 'duration_millis': 100881, 'variants': [{'bitrate': 288000, 'content_type': 'video/mp4', 'url': 'https://video.twimg.com/amplify_video/1219699570453753856/vid/480x270/uItxo9ryezPaL3X7.mp4?tag=13'}, {'bitrate': 2176000, 'content_type': 'video/mp4', 'url': 'https://video.twimg.com/amplify_video/1219699570453753856/vid/1280x720/GMzgNHxXXK1ZByCj.mp4?tag=13'}, {'bitrate': 832000, 'content_type': 'video/mp4', 'url': 'https://video.twimg.com/amplify_video/1219699570453753856/vid/640x360/GjgvIYBOADScDw_W.mp4?tag=13'}, {'content_type': 'application/x-mpegURL', 'url': 'https://video.twimg.com/amplify_video/1219699570453753856/pl/JoiEof6XXjMjF5uI.m3u8?tag=13'}]}, 'additional_media_info': {'title': '', 'description': '', 'embeddable': True, 'monetizable': False}}]}, 'source': '<a href=\"https://studio.twitter.com\" rel=\"nofollow\">Twitter Media Studio</a>', 'in_reply_to_status_id': None, 'in_reply_to_status_id_str': None, 'in_reply_to_user_id': None, 'in_reply_to_user_id_str': None, 'in_reply_to_screen_name': None, 'user': {'id': 700784500658208768, 'id_str': '700784500658208768', 'name': 'Cheddar🧀', 'screen_name': 'cheddar', 'location': 'New York, NY', 'description': 'Cheddar covers the latest in news, business, media, and tech. Live weekdays from 7am - 6pm ET. \\n\\n📺 TUNE IN: https://t.co/ANU6bV5Xgt', 'url': 'https://t.co/tf0BsbRMXt', 'entities': {'url': {'urls': [{'url': 'https://t.co/tf0BsbRMXt', 'expanded_url': 'http://cheddar.com', 'display_url': 'cheddar.com', 'indices': [0, 23]}]}, 'description': {'urls': [{'url': 'https://t.co/ANU6bV5Xgt', 'expanded_url': 'http://chdr.tv/e11e1', 'display_url': 'chdr.tv/e11e1', 'indices': [108, 131]}]}}, 'protected': False, 'followers_count': 251446, 'friends_count': 7134, 'listed_count': 2107, 'created_at': 'Fri Feb 19 20:50:19 +0000 2016', 'favourites_count': 12693, 'utc_offset': None, 'time_zone': None, 'geo_enabled': True, 'verified': True, 'statuses_count': 50424, 'lang': None, 'contributors_enabled': False, 'is_translator': False, 'is_translation_enabled': False, 'profile_background_color': 'F5F8FA', 'profile_background_image_url': None, 'profile_background_image_url_https': None, 'profile_background_tile': False, 'profile_image_url': 'http://pbs.twimg.com/profile_images/1266402727770324994/0WqkjtYo_normal.jpg', 'profile_image_url_https': 'https://pbs.twimg.com/profile_images/1266402727770324994/0WqkjtYo_normal.jpg', 'profile_banner_url': 'https://pbs.twimg.com/profile_banners/700784500658208768/1604587151', 'profile_link_color': '1DA1F2', 'profile_sidebar_border_color': 'C0DEED', 'profile_sidebar_fill_color': 'DDEEF6', 'profile_text_color': '333333', 'profile_use_background_image': True, 'has_extended_profile': True, 'default_profile': True, 'default_profile_image': False, 'following': None, 'follow_request_sent': None, 'notifications': None, 'translator_type': 'none'}, 'geo': None, 'coordinates': None, 'place': None, 'contributors': None, 'is_quote_status': False, 'retweet_count': 25, 'favorite_count': 14, 'favorited': False, 'retweeted': False, 'possibly_sensitive': False, 'possibly_sensitive_appealable': False, 'lang': 'en'}, 'retweet_count': 64, 'favorite_count': 64, 'favorited': False, 'retweeted': False, 'possibly_sensitive': False, 'possibly_sensitive_appealable': False, 'lang': 'en'}, created_at=datetime.datetime(2020, 1, 21, 22, 57, 10), id=1219755848127279104, id_str='1219755848127279104', full_text='#CDC has confirmed the first #US case of #WuhanPneumonia, the patient is now under observation in Washington state. This mysterious coronavirus has already claimed at least six lives in China. https://t.co/ywAz4Hp0Dq', truncated=False, display_text_range=[0, 192], entities={'hashtags': [{'text': 'CDC', 'indices': [0, 4]}, {'text': 'US', 'indices': [29, 32]}, {'text': 'WuhanPneumonia', 'indices': [41, 56]}], 'symbols': [], 'user_mentions': [], 'urls': [{'url': 'https://t.co/ywAz4Hp0Dq', 'expanded_url': 'https://twitter.com/cheddar/status/1219699777614512130', 'display_url': 'twitter.com/cheddar/status…', 'indices': [193, 216]}]}, source='Twitter for iPhone', source_url='http://twitter.com/download/iphone', in_reply_to_status_id=None, in_reply_to_status_id_str=None, in_reply_to_user_id=None, in_reply_to_user_id_str=None, in_reply_to_screen_name=None, author=User(_api=<tweepy.api.API object at 0x7fe61738df40>, _json={'id': 1162111357, 'id_str': '1162111357', 'name': 'Nikki😷', 'screen_name': 'nikki_miumiu', 'location': 'United States', 'description': 'My life is totally unremarkable, staying in a country which doesnt belongs to me, eating, sleeping and living by myself... So yea, this is me. Welcome to hell.', 'url': None, 'entities': {'description': {'urls': []}}, 'protected': False, 'followers_count': 18533, 'friends_count': 539, 'listed_count': 69, 'created_at': 'Sat Feb 09 05:58:19 +0000 2013', 'favourites_count': 42045, 'utc_offset': None, 'time_zone': None, 'geo_enabled': False, 'verified': False, 'statuses_count': 26929, 'lang': None, 'contributors_enabled': False, 'is_translator': False, 'is_translation_enabled': False, 'profile_background_color': 'C0DEED', 'profile_background_image_url': 'http://abs.twimg.com/images/themes/theme1/bg.png', 'profile_background_image_url_https': 'https://abs.twimg.com/images/themes/theme1/bg.png', 'profile_background_tile': False, 'profile_image_url': 'http://pbs.twimg.com/profile_images/1186172371570327553/tZbZfvxm_normal.jpg', 'profile_image_url_https': 'https://pbs.twimg.com/profile_images/1186172371570327553/tZbZfvxm_normal.jpg', 'profile_banner_url': 'https://pbs.twimg.com/profile_banners/1162111357/1603910691', 'profile_link_color': '1DA1F2', 'profile_sidebar_border_color': 'C0DEED', 'profile_sidebar_fill_color': 'DDEEF6', 'profile_text_color': '333333', 'profile_use_background_image': True, 'has_extended_profile': True, 'default_profile': True, 'default_profile_image': False, 'following': None, 'follow_request_sent': None, 'notifications': None, 'translator_type': 'none'}, id=1162111357, id_str='1162111357', name='Nikki😷', screen_name='nikki_miumiu', location='United States', description='My life is totally unremarkable, staying in a country which doesnt belongs to me, eating, sleeping and living by myself... So yea, this is me. Welcome to hell.', url=None, entities={'description': {'urls': []}}, protected=False, followers_count=18533, friends_count=539, listed_count=69, created_at=datetime.datetime(2013, 2, 9, 5, 58, 19), favourites_count=42045, utc_offset=None, time_zone=None, geo_enabled=False, verified=False, statuses_count=26929, lang=None, contributors_enabled=False, is_translator=False, is_translation_enabled=False, profile_background_color='C0DEED', profile_background_image_url='http://abs.twimg.com/images/themes/theme1/bg.png', profile_background_image_url_https='https://abs.twimg.com/images/themes/theme1/bg.png', profile_background_tile=False, profile_image_url='http://pbs.twimg.com/profile_images/1186172371570327553/tZbZfvxm_normal.jpg', profile_image_url_https='https://pbs.twimg.com/profile_images/1186172371570327553/tZbZfvxm_normal.jpg', profile_banner_url='https://pbs.twimg.com/profile_banners/1162111357/1603910691', profile_link_color='1DA1F2', profile_sidebar_border_color='C0DEED', profile_sidebar_fill_color='DDEEF6', profile_text_color='333333', profile_use_background_image=True, has_extended_profile=True, default_profile=True, default_profile_image=False, following=False, follow_request_sent=None, notifications=None, translator_type='none'), user=User(_api=<tweepy.api.API object at 0x7fe61738df40>, _json={'id': 1162111357, 'id_str': '1162111357', 'name': 'Nikki😷', 'screen_name': 'nikki_miumiu', 'location': 'United States', 'description': 'My life is totally unremarkable, staying in a country which doesnt belongs to me, eating, sleeping and living by myself... So yea, this is me. Welcome to hell.', 'url': None, 'entities': {'description': {'urls': []}}, 'protected': False, 'followers_count': 18533, 'friends_count': 539, 'listed_count': 69, 'created_at': 'Sat Feb 09 05:58:19 +0000 2013', 'favourites_count': 42045, 'utc_offset': None, 'time_zone': None, 'geo_enabled': False, 'verified': False, 'statuses_count': 26929, 'lang': None, 'contributors_enabled': False, 'is_translator': False, 'is_translation_enabled': False, 'profile_background_color': 'C0DEED', 'profile_background_image_url': 'http://abs.twimg.com/images/themes/theme1/bg.png', 'profile_background_image_url_https': 'https://abs.twimg.com/images/themes/theme1/bg.png', 'profile_background_tile': False, 'profile_image_url': 'http://pbs.twimg.com/profile_images/1186172371570327553/tZbZfvxm_normal.jpg', 'profile_image_url_https': 'https://pbs.twimg.com/profile_images/1186172371570327553/tZbZfvxm_normal.jpg', 'profile_banner_url': 'https://pbs.twimg.com/profile_banners/1162111357/1603910691', 'profile_link_color': '1DA1F2', 'profile_sidebar_border_color': 'C0DEED', 'profile_sidebar_fill_color': 'DDEEF6', 'profile_text_color': '333333', 'profile_use_background_image': True, 'has_extended_profile': True, 'default_profile': True, 'default_profile_image': False, 'following': None, 'follow_request_sent': None, 'notifications': None, 'translator_type': 'none'}, id=1162111357, id_str='1162111357', name='Nikki😷', screen_name='nikki_miumiu', location='United States', description='My life is totally unremarkable, staying in a country which doesnt belongs to me, eating, sleeping and living by myself... So yea, this is me. Welcome to hell.', url=None, entities={'description': {'urls': []}}, protected=False, followers_count=18533, friends_count=539, listed_count=69, created_at=datetime.datetime(2013, 2, 9, 5, 58, 19), favourites_count=42045, utc_offset=None, time_zone=None, geo_enabled=False, verified=False, statuses_count=26929, lang=None, contributors_enabled=False, is_translator=False, is_translation_enabled=False, profile_background_color='C0DEED', profile_background_image_url='http://abs.twimg.com/images/themes/theme1/bg.png', profile_background_image_url_https='https://abs.twimg.com/images/themes/theme1/bg.png', profile_background_tile=False, profile_image_url='http://pbs.twimg.com/profile_images/1186172371570327553/tZbZfvxm_normal.jpg', profile_image_url_https='https://pbs.twimg.com/profile_images/1186172371570327553/tZbZfvxm_normal.jpg', profile_banner_url='https://pbs.twimg.com/profile_banners/1162111357/1603910691', profile_link_color='1DA1F2', profile_sidebar_border_color='C0DEED', profile_sidebar_fill_color='DDEEF6', profile_text_color='333333', profile_use_background_image=True, has_extended_profile=True, default_profile=True, default_profile_image=False, following=False, follow_request_sent=None, notifications=None, translator_type='none'), geo=None, coordinates=None, place=None, contributors=None, is_quote_status=True, quoted_status_id=1219699777614512130, quoted_status_id_str='1219699777614512130', quoted_status_permalink={'url': 'https://t.co/ywAz4Hp0Dq', 'expanded': 'https://twitter.com/cheddar/status/1219699777614512130', 'display': 'twitter.com/cheddar/status…'}, quoted_status=Status(_api=<tweepy.api.API object at 0x7fe61738df40>, _json={'created_at': 'Tue Jan 21 19:14:22 +0000 2020', 'id': 1219699777614512130, 'id_str': '1219699777614512130', 'full_text': 'NEW: The CDC has confirmed the first U.S. case of the Wuhan coronavirus after a traveler was diagnosed in Washington State. #CheddarLive https://t.co/PKfX6hTCEA', 'truncated': False, 'display_text_range': [0, 136], 'entities': {'hashtags': [{'text': 'CheddarLive', 'indices': [124, 136]}], 'symbols': [], 'user_mentions': [], 'urls': [], 'media': [{'id': 1219699570453753856, 'id_str': '1219699570453753856', 'indices': [137, 160], 'media_url': 'http://pbs.twimg.com/media/EO0-Y1KWsAAwJl2.jpg', 'media_url_https': 'https://pbs.twimg.com/media/EO0-Y1KWsAAwJl2.jpg', 'url': 'https://t.co/PKfX6hTCEA', 'display_url': 'pic.twitter.com/PKfX6hTCEA', 'expanded_url': 'https://twitter.com/cheddar/status/1219699777614512130/video/1', 'type': 'photo', 'sizes': {'thumb': {'w': 150, 'h': 150, 'resize': 'crop'}, 'medium': {'w': 1200, 'h': 675, 'resize': 'fit'}, 'small': {'w': 680, 'h': 383, 'resize': 'fit'}, 'large': {'w': 1280, 'h': 720, 'resize': 'fit'}}}]}, 'extended_entities': {'media': [{'id': 1219699570453753856, 'id_str': '1219699570453753856', 'indices': [137, 160], 'media_url': 'http://pbs.twimg.com/media/EO0-Y1KWsAAwJl2.jpg', 'media_url_https': 'https://pbs.twimg.com/media/EO0-Y1KWsAAwJl2.jpg', 'url': 'https://t.co/PKfX6hTCEA', 'display_url': 'pic.twitter.com/PKfX6hTCEA', 'expanded_url': 'https://twitter.com/cheddar/status/1219699777614512130/video/1', 'type': 'video', 'sizes': {'thumb': {'w': 150, 'h': 150, 'resize': 'crop'}, 'medium': {'w': 1200, 'h': 675, 'resize': 'fit'}, 'small': {'w': 680, 'h': 383, 'resize': 'fit'}, 'large': {'w': 1280, 'h': 720, 'resize': 'fit'}}, 'video_info': {'aspect_ratio': [16, 9], 'duration_millis': 100881, 'variants': [{'bitrate': 288000, 'content_type': 'video/mp4', 'url': 'https://video.twimg.com/amplify_video/1219699570453753856/vid/480x270/uItxo9ryezPaL3X7.mp4?tag=13'}, {'bitrate': 2176000, 'content_type': 'video/mp4', 'url': 'https://video.twimg.com/amplify_video/1219699570453753856/vid/1280x720/GMzgNHxXXK1ZByCj.mp4?tag=13'}, {'bitrate': 832000, 'content_type': 'video/mp4', 'url': 'https://video.twimg.com/amplify_video/1219699570453753856/vid/640x360/GjgvIYBOADScDw_W.mp4?tag=13'}, {'content_type': 'application/x-mpegURL', 'url': 'https://video.twimg.com/amplify_video/1219699570453753856/pl/JoiEof6XXjMjF5uI.m3u8?tag=13'}]}, 'additional_media_info': {'title': '', 'description': '', 'embeddable': True, 'monetizable': False}}]}, 'source': '<a href=\"https://studio.twitter.com\" rel=\"nofollow\">Twitter Media Studio</a>', 'in_reply_to_status_id': None, 'in_reply_to_status_id_str': None, 'in_reply_to_user_id': None, 'in_reply_to_user_id_str': None, 'in_reply_to_screen_name': None, 'user': {'id': 700784500658208768, 'id_str': '700784500658208768', 'name': 'Cheddar🧀', 'screen_name': 'cheddar', 'location': 'New York, NY', 'description': 'Cheddar covers the latest in news, business, media, and tech. Live weekdays from 7am - 6pm ET. \\n\\n📺 TUNE IN: https://t.co/ANU6bV5Xgt', 'url': 'https://t.co/tf0BsbRMXt', 'entities': {'url': {'urls': [{'url': 'https://t.co/tf0BsbRMXt', 'expanded_url': 'http://cheddar.com', 'display_url': 'cheddar.com', 'indices': [0, 23]}]}, 'description': {'urls': [{'url': 'https://t.co/ANU6bV5Xgt', 'expanded_url': 'http://chdr.tv/e11e1', 'display_url': 'chdr.tv/e11e1', 'indices': [108, 131]}]}}, 'protected': False, 'followers_count': 251446, 'friends_count': 7134, 'listed_count': 2107, 'created_at': 'Fri Feb 19 20:50:19 +0000 2016', 'favourites_count': 12693, 'utc_offset': None, 'time_zone': None, 'geo_enabled': True, 'verified': True, 'statuses_count': 50424, 'lang': None, 'contributors_enabled': False, 'is_translator': False, 'is_translation_enabled': False, 'profile_background_color': 'F5F8FA', 'profile_background_image_url': None, 'profile_background_image_url_https': None, 'profile_background_tile': False, 'profile_image_url': 'http://pbs.twimg.com/profile_images/1266402727770324994/0WqkjtYo_normal.jpg', 'profile_image_url_https': 'https://pbs.twimg.com/profile_images/1266402727770324994/0WqkjtYo_normal.jpg', 'profile_banner_url': 'https://pbs.twimg.com/profile_banners/700784500658208768/1604587151', 'profile_link_color': '1DA1F2', 'profile_sidebar_border_color': 'C0DEED', 'profile_sidebar_fill_color': 'DDEEF6', 'profile_text_color': '333333', 'profile_use_background_image': True, 'has_extended_profile': True, 'default_profile': True, 'default_profile_image': False, 'following': None, 'follow_request_sent': None, 'notifications': None, 'translator_type': 'none'}, 'geo': None, 'coordinates': None, 'place': None, 'contributors': None, 'is_quote_status': False, 'retweet_count': 25, 'favorite_count': 14, 'favorited': False, 'retweeted': False, 'possibly_sensitive': False, 'possibly_sensitive_appealable': False, 'lang': 'en'}, created_at=datetime.datetime(2020, 1, 21, 19, 14, 22), id=1219699777614512130, id_str='1219699777614512130', full_text='NEW: The CDC has confirmed the first U.S. case of the Wuhan coronavirus after a traveler was diagnosed in Washington State. #CheddarLive https://t.co/PKfX6hTCEA', truncated=False, display_text_range=[0, 136], entities={'hashtags': [{'text': 'CheddarLive', 'indices': [124, 136]}], 'symbols': [], 'user_mentions': [], 'urls': [], 'media': [{'id': 1219699570453753856, 'id_str': '1219699570453753856', 'indices': [137, 160], 'media_url': 'http://pbs.twimg.com/media/EO0-Y1KWsAAwJl2.jpg', 'media_url_https': 'https://pbs.twimg.com/media/EO0-Y1KWsAAwJl2.jpg', 'url': 'https://t.co/PKfX6hTCEA', 'display_url': 'pic.twitter.com/PKfX6hTCEA', 'expanded_url': 'https://twitter.com/cheddar/status/1219699777614512130/video/1', 'type': 'photo', 'sizes': {'thumb': {'w': 150, 'h': 150, 'resize': 'crop'}, 'medium': {'w': 1200, 'h': 675, 'resize': 'fit'}, 'small': {'w': 680, 'h': 383, 'resize': 'fit'}, 'large': {'w': 1280, 'h': 720, 'resize': 'fit'}}}]}, extended_entities={'media': [{'id': 1219699570453753856, 'id_str': '1219699570453753856', 'indices': [137, 160], 'media_url': 'http://pbs.twimg.com/media/EO0-Y1KWsAAwJl2.jpg', 'media_url_https': 'https://pbs.twimg.com/media/EO0-Y1KWsAAwJl2.jpg', 'url': 'https://t.co/PKfX6hTCEA', 'display_url': 'pic.twitter.com/PKfX6hTCEA', 'expanded_url': 'https://twitter.com/cheddar/status/1219699777614512130/video/1', 'type': 'video', 'sizes': {'thumb': {'w': 150, 'h': 150, 'resize': 'crop'}, 'medium': {'w': 1200, 'h': 675, 'resize': 'fit'}, 'small': {'w': 680, 'h': 383, 'resize': 'fit'}, 'large': {'w': 1280, 'h': 720, 'resize': 'fit'}}, 'video_info': {'aspect_ratio': [16, 9], 'duration_millis': 100881, 'variants': [{'bitrate': 288000, 'content_type': 'video/mp4', 'url': 'https://video.twimg.com/amplify_video/1219699570453753856/vid/480x270/uItxo9ryezPaL3X7.mp4?tag=13'}, {'bitrate': 2176000, 'content_type': 'video/mp4', 'url': 'https://video.twimg.com/amplify_video/1219699570453753856/vid/1280x720/GMzgNHxXXK1ZByCj.mp4?tag=13'}, {'bitrate': 832000, 'content_type': 'video/mp4', 'url': 'https://video.twimg.com/amplify_video/1219699570453753856/vid/640x360/GjgvIYBOADScDw_W.mp4?tag=13'}, {'content_type': 'application/x-mpegURL', 'url': 'https://video.twimg.com/amplify_video/1219699570453753856/pl/JoiEof6XXjMjF5uI.m3u8?tag=13'}]}, 'additional_media_info': {'title': '', 'description': '', 'embeddable': True, 'monetizable': False}}]}, source='Twitter Media Studio', source_url='https://studio.twitter.com', in_reply_to_status_id=None, in_reply_to_status_id_str=None, in_reply_to_user_id=None, in_reply_to_user_id_str=None, in_reply_to_screen_name=None, author=User(_api=<tweepy.api.API object at 0x7fe61738df40>, _json={'id': 700784500658208768, 'id_str': '700784500658208768', 'name': 'Cheddar🧀', 'screen_name': 'cheddar', 'location': 'New York, NY', 'description': 'Cheddar covers the latest in news, business, media, and tech. Live weekdays from 7am - 6pm ET. \\n\\n📺 TUNE IN: https://t.co/ANU6bV5Xgt', 'url': 'https://t.co/tf0BsbRMXt', 'entities': {'url': {'urls': [{'url': 'https://t.co/tf0BsbRMXt', 'expanded_url': 'http://cheddar.com', 'display_url': 'cheddar.com', 'indices': [0, 23]}]}, 'description': {'urls': [{'url': 'https://t.co/ANU6bV5Xgt', 'expanded_url': 'http://chdr.tv/e11e1', 'display_url': 'chdr.tv/e11e1', 'indices': [108, 131]}]}}, 'protected': False, 'followers_count': 251446, 'friends_count': 7134, 'listed_count': 2107, 'created_at': 'Fri Feb 19 20:50:19 +0000 2016', 'favourites_count': 12693, 'utc_offset': None, 'time_zone': None, 'geo_enabled': True, 'verified': True, 'statuses_count': 50424, 'lang': None, 'contributors_enabled': False, 'is_translator': False, 'is_translation_enabled': False, 'profile_background_color': 'F5F8FA', 'profile_background_image_url': None, 'profile_background_image_url_https': None, 'profile_background_tile': False, 'profile_image_url': 'http://pbs.twimg.com/profile_images/1266402727770324994/0WqkjtYo_normal.jpg', 'profile_image_url_https': 'https://pbs.twimg.com/profile_images/1266402727770324994/0WqkjtYo_normal.jpg', 'profile_banner_url': 'https://pbs.twimg.com/profile_banners/700784500658208768/1604587151', 'profile_link_color': '1DA1F2', 'profile_sidebar_border_color': 'C0DEED', 'profile_sidebar_fill_color': 'DDEEF6', 'profile_text_color': '333333', 'profile_use_background_image': True, 'has_extended_profile': True, 'default_profile': True, 'default_profile_image': False, 'following': None, 'follow_request_sent': None, 'notifications': None, 'translator_type': 'none'}, id=700784500658208768, id_str='700784500658208768', name='Cheddar🧀', screen_name='cheddar', location='New York, NY', description='Cheddar covers the latest in news, business, media, and tech. Live weekdays from 7am - 6pm ET. \\n\\n📺 TUNE IN: https://t.co/ANU6bV5Xgt', url='https://t.co/tf0BsbRMXt', entities={'url': {'urls': [{'url': 'https://t.co/tf0BsbRMXt', 'expanded_url': 'http://cheddar.com', 'display_url': 'cheddar.com', 'indices': [0, 23]}]}, 'description': {'urls': [{'url': 'https://t.co/ANU6bV5Xgt', 'expanded_url': 'http://chdr.tv/e11e1', 'display_url': 'chdr.tv/e11e1', 'indices': [108, 131]}]}}, protected=False, followers_count=251446, friends_count=7134, listed_count=2107, created_at=datetime.datetime(2016, 2, 19, 20, 50, 19), favourites_count=12693, utc_offset=None, time_zone=None, geo_enabled=True, verified=True, statuses_count=50424, lang=None, contributors_enabled=False, is_translator=False, is_translation_enabled=False, profile_background_color='F5F8FA', profile_background_image_url=None, profile_background_image_url_https=None, profile_background_tile=False, profile_image_url='http://pbs.twimg.com/profile_images/1266402727770324994/0WqkjtYo_normal.jpg', profile_image_url_https='https://pbs.twimg.com/profile_images/1266402727770324994/0WqkjtYo_normal.jpg', profile_banner_url='https://pbs.twimg.com/profile_banners/700784500658208768/1604587151', profile_link_color='1DA1F2', profile_sidebar_border_color='C0DEED', profile_sidebar_fill_color='DDEEF6', profile_text_color='333333', profile_use_background_image=True, has_extended_profile=True, default_profile=True, default_profile_image=False, following=False, follow_request_sent=None, notifications=None, translator_type='none'), user=User(_api=<tweepy.api.API object at 0x7fe61738df40>, _json={'id': 700784500658208768, 'id_str': '700784500658208768', 'name': 'Cheddar🧀', 'screen_name': 'cheddar', 'location': 'New York, NY', 'description': 'Cheddar covers the latest in news, business, media, and tech. Live weekdays from 7am - 6pm ET. \\n\\n📺 TUNE IN: https://t.co/ANU6bV5Xgt', 'url': 'https://t.co/tf0BsbRMXt', 'entities': {'url': {'urls': [{'url': 'https://t.co/tf0BsbRMXt', 'expanded_url': 'http://cheddar.com', 'display_url': 'cheddar.com', 'indices': [0, 23]}]}, 'description': {'urls': [{'url': 'https://t.co/ANU6bV5Xgt', 'expanded_url': 'http://chdr.tv/e11e1', 'display_url': 'chdr.tv/e11e1', 'indices': [108, 131]}]}}, 'protected': False, 'followers_count': 251446, 'friends_count': 7134, 'listed_count': 2107, 'created_at': 'Fri Feb 19 20:50:19 +0000 2016', 'favourites_count': 12693, 'utc_offset': None, 'time_zone': None, 'geo_enabled': True, 'verified': True, 'statuses_count': 50424, 'lang': None, 'contributors_enabled': False, 'is_translator': False, 'is_translation_enabled': False, 'profile_background_color': 'F5F8FA', 'profile_background_image_url': None, 'profile_background_image_url_https': None, 'profile_background_tile': False, 'profile_image_url': 'http://pbs.twimg.com/profile_images/1266402727770324994/0WqkjtYo_normal.jpg', 'profile_image_url_https': 'https://pbs.twimg.com/profile_images/1266402727770324994/0WqkjtYo_normal.jpg', 'profile_banner_url': 'https://pbs.twimg.com/profile_banners/700784500658208768/1604587151', 'profile_link_color': '1DA1F2', 'profile_sidebar_border_color': 'C0DEED', 'profile_sidebar_fill_color': 'DDEEF6', 'profile_text_color': '333333', 'profile_use_background_image': True, 'has_extended_profile': True, 'default_profile': True, 'default_profile_image': False, 'following': None, 'follow_request_sent': None, 'notifications': None, 'translator_type': 'none'}, id=700784500658208768, id_str='700784500658208768', name='Cheddar🧀', screen_name='cheddar', location='New York, NY', description='Cheddar covers the latest in news, business, media, and tech. Live weekdays from 7am - 6pm ET. \\n\\n📺 TUNE IN: https://t.co/ANU6bV5Xgt', url='https://t.co/tf0BsbRMXt', entities={'url': {'urls': [{'url': 'https://t.co/tf0BsbRMXt', 'expanded_url': 'http://cheddar.com', 'display_url': 'cheddar.com', 'indices': [0, 23]}]}, 'description': {'urls': [{'url': 'https://t.co/ANU6bV5Xgt', 'expanded_url': 'http://chdr.tv/e11e1', 'display_url': 'chdr.tv/e11e1', 'indices': [108, 131]}]}}, protected=False, followers_count=251446, friends_count=7134, listed_count=2107, created_at=datetime.datetime(2016, 2, 19, 20, 50, 19), favourites_count=12693, utc_offset=None, time_zone=None, geo_enabled=True, verified=True, statuses_count=50424, lang=None, contributors_enabled=False, is_translator=False, is_translation_enabled=False, profile_background_color='F5F8FA', profile_background_image_url=None, profile_background_image_url_https=None, profile_background_tile=False, profile_image_url='http://pbs.twimg.com/profile_images/1266402727770324994/0WqkjtYo_normal.jpg', profile_image_url_https='https://pbs.twimg.com/profile_images/1266402727770324994/0WqkjtYo_normal.jpg', profile_banner_url='https://pbs.twimg.com/profile_banners/700784500658208768/1604587151', profile_link_color='1DA1F2', profile_sidebar_border_color='C0DEED', profile_sidebar_fill_color='DDEEF6', profile_text_color='333333', profile_use_background_image=True, has_extended_profile=True, default_profile=True, default_profile_image=False, following=False, follow_request_sent=None, notifications=None, translator_type='none'), geo=None, coordinates=None, place=None, contributors=None, is_quote_status=False, retweet_count=25, favorite_count=14, favorited=False, retweeted=False, possibly_sensitive=False, possibly_sensitive_appealable=False, lang='en'), retweet_count=64, favorite_count=64, favorited=False, retweeted=False, possibly_sensitive=False, possibly_sensitive_appealable=False, lang='en'), is_quote_status=True, quoted_status_id=1219699777614512130, quoted_status_id_str='1219699777614512130', quoted_status_permalink={'url': 'https://t.co/ywAz4Hp0Dq', 'expanded': 'https://twitter.com/cheddar/status/1219699777614512130', 'display': 'twitter.com/cheddar/status…'}, retweet_count=64, favorite_count=0, favorited=False, retweeted=False, lang='en')"
      ]
     },
     "execution_count": 10,
     "metadata": {},
     "output_type": "execute_result"
    }
   ],
   "source": [
    "import os\n",
    "import tweepy\n",
    "import csv\n",
    "import pandas as pd\n",
    "from tweet import config\n",
    "\n",
    "consumer_key = os.environ[\"CONSUMER_KEY\"]\n",
    "consumer_secret = os.environ[\"CONSUMER_SECRET\"]\n",
    "\n",
    "auth = tweepy.AppAuthHandler(consumer_key, consumer_secret)\n",
    "api = tweepy.API(auth, wait_on_rate_limit=True, wait_on_rate_limit_notify=True)\n",
    "\n",
    "tweet_id = '1219765513514930176'\n",
    "tweet = api.get_status(tweet_id, tweet_mode='extended')\n",
    "tweet"
   ]
  },
  {
   "cell_type": "code",
   "execution_count": 6,
   "metadata": {},
   "outputs": [
    {
     "data": {
      "text/plain": [
       "en    83\n",
       "Name: 12, dtype: int64"
      ]
     },
     "execution_count": 6,
     "metadata": {},
     "output_type": "execute_result"
    }
   ],
   "source": [
    "save_path = config.data / 'covid19_tweets_id_subset.csv'\n",
    "df = pd.read_csv(save_path, header=None)\n",
    "df[12].value_counts()"
   ]
  },
  {
   "cell_type": "code",
   "execution_count": 16,
   "metadata": {
    "scrolled": false
   },
   "outputs": [
    {
     "data": {
      "text/plain": [
       "64"
      ]
     },
     "execution_count": 16,
     "metadata": {},
     "output_type": "execute_result"
    }
   ],
   "source": [
    "tweet.retweeted_status.favorite_count"
   ]
  },
  {
   "cell_type": "code",
   "execution_count": null,
   "metadata": {},
   "outputs": [],
   "source": []
  }
 ],
 "metadata": {
  "kernelspec": {
   "display_name": "Python 3",
   "language": "python",
   "name": "python3"
  },
  "language_info": {
   "codemirror_mode": {
    "name": "ipython",
    "version": 3
   },
   "file_extension": ".py",
   "mimetype": "text/x-python",
   "name": "python",
   "nbconvert_exporter": "python",
   "pygments_lexer": "ipython3",
   "version": "3.8.5"
  }
 },
 "nbformat": 4,
 "nbformat_minor": 4
}
