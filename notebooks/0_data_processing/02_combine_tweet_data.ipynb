{
 "cells": [
  {
   "cell_type": "code",
   "execution_count": 1,
   "metadata": {},
   "outputs": [],
   "source": [
    "import pandas as pd\n",
    "import numpy as np\n",
    "from tweet import config"
   ]
  },
  {
   "cell_type": "code",
   "execution_count": 2,
   "metadata": {},
   "outputs": [],
   "source": [
    "df1 = pd.read_csv(config.data / 'covid19_tweets_id_subset.csv', header = None)\n",
    "df2 = pd.read_csv(config.data / 'covid19_tweets_id_subset2.csv', header = None)\n",
    "df3 = pd.read_csv(config.data / 'covid19_tweets_id_subset3.csv', header = None)\n",
    "df4 = pd.read_csv(config.data / 'covid19_tweets_id_subset4.csv', header = None)\n",
    "df5 = pd.read_csv(config.data / 'covid19_tweets_id_subset5.csv', header = None)\n",
    "df6 = pd.read_csv(config.data / 'covid19_tweets_id_subset6.csv', header = None)"
   ]
  },
  {
   "cell_type": "code",
   "execution_count": 3,
   "metadata": {},
   "outputs": [
    {
     "name": "stdout",
     "output_type": "stream",
     "text": [
      "(55534, 13) (53173, 13) (30555, 13) (32118, 13) (60028, 13) (63148, 13)\n"
     ]
    }
   ],
   "source": [
    "print(df1.shape, df2.shape, df3.shape, df4.shape, df5.shape, df6.shape)"
   ]
  },
  {
   "cell_type": "code",
   "execution_count": 4,
   "metadata": {},
   "outputs": [
    {
     "data": {
      "text/plain": [
       "(143173, 13)"
      ]
     },
     "execution_count": 4,
     "metadata": {},
     "output_type": "execute_result"
    }
   ],
   "source": [
    "columns = ['user_name','user_location', 'user_description', 'user_created', 'user_followers', 'user_friends',\n",
    "           'user_favourites', 'user_verified', 'date', 'full_text', 'hashtags', 'source', 'lang']\n",
    "\n",
    "df = pd.concat([df1, df2, df3, df4, df5, df6], axis=0)\n",
    "df.columns = columns\n",
    "df = df.drop_duplicates(subset=['full_text','date','user_name'])\n",
    "df = df.sort_values('date')\n",
    "df.shape"
   ]
  },
  {
   "cell_type": "code",
   "execution_count": 5,
   "metadata": {},
   "outputs": [
    {
     "data": {
      "text/html": [
       "<div>\n",
       "<style scoped>\n",
       "    .dataframe tbody tr th:only-of-type {\n",
       "        vertical-align: middle;\n",
       "    }\n",
       "\n",
       "    .dataframe tbody tr th {\n",
       "        vertical-align: top;\n",
       "    }\n",
       "\n",
       "    .dataframe thead th {\n",
       "        text-align: right;\n",
       "    }\n",
       "</style>\n",
       "<table border=\"1\" class=\"dataframe\">\n",
       "  <thead>\n",
       "    <tr style=\"text-align: right;\">\n",
       "      <th></th>\n",
       "      <th>user_name</th>\n",
       "      <th>user_location</th>\n",
       "      <th>user_description</th>\n",
       "      <th>user_created</th>\n",
       "      <th>user_followers</th>\n",
       "      <th>user_friends</th>\n",
       "      <th>user_favourites</th>\n",
       "      <th>user_verified</th>\n",
       "      <th>date</th>\n",
       "      <th>full_text</th>\n",
       "      <th>hashtags</th>\n",
       "      <th>source</th>\n",
       "      <th>lang</th>\n",
       "    </tr>\n",
       "  </thead>\n",
       "  <tbody>\n",
       "    <tr>\n",
       "      <th>30221</th>\n",
       "      <td>tolu ogunlesi</td>\n",
       "      <td>Lagos/Abuja [Nigeria]</td>\n",
       "      <td>Special Assistant to President Buhari on Digit...</td>\n",
       "      <td>2009-03-10 12:11:22</td>\n",
       "      <td>662352</td>\n",
       "      <td>2339</td>\n",
       "      <td>26778</td>\n",
       "      <td>True</td>\n",
       "      <td>2010-02-09 13:28:53</td>\n",
       "      <td>I'm busy. Writing a new constitution for Niger...</td>\n",
       "      <td>NaN</td>\n",
       "      <td>Twitter Web Client</td>\n",
       "      <td>en</td>\n",
       "    </tr>\n",
       "    <tr>\n",
       "      <th>442</th>\n",
       "      <td>Guardian Science</td>\n",
       "      <td>London</td>\n",
       "      <td>Science, health and environment news from the ...</td>\n",
       "      <td>2009-02-22 17:43:35</td>\n",
       "      <td>1118108</td>\n",
       "      <td>2184</td>\n",
       "      <td>120</td>\n",
       "      <td>True</td>\n",
       "      <td>2013-03-15 20:13:39</td>\n",
       "      <td>Coronavirus: Is this the next pandemic? http:/...</td>\n",
       "      <td>NaN</td>\n",
       "      <td>twitterfeed</td>\n",
       "      <td>en</td>\n",
       "    </tr>\n",
       "    <tr>\n",
       "      <th>18159</th>\n",
       "      <td>Marco</td>\n",
       "      <td>NaN</td>\n",
       "      <td>Lost in the right direction</td>\n",
       "      <td>2013-03-05 01:28:11</td>\n",
       "      <td>5944</td>\n",
       "      <td>102</td>\n",
       "      <td>4815</td>\n",
       "      <td>False</td>\n",
       "      <td>2013-06-03 15:32:48</td>\n",
       "      <td>Corona virus....its coming</td>\n",
       "      <td>NaN</td>\n",
       "      <td>Twitter for Android</td>\n",
       "      <td>en</td>\n",
       "    </tr>\n",
       "    <tr>\n",
       "      <th>5100</th>\n",
       "      <td>Jeremy PLEASE WEAR MASKS! Konyndyk</td>\n",
       "      <td>Washington DC</td>\n",
       "      <td>Dad, baker, beer snob. Pandemic prep &amp; humanit...</td>\n",
       "      <td>2011-10-25 17:44:25</td>\n",
       "      <td>90029</td>\n",
       "      <td>601</td>\n",
       "      <td>9605</td>\n",
       "      <td>True</td>\n",
       "      <td>2017-02-17 15:53:38</td>\n",
       "      <td>This matters ENORMOUSLY. Outbreak control rest...</td>\n",
       "      <td>NaN</td>\n",
       "      <td>Twitter Web Client</td>\n",
       "      <td>en</td>\n",
       "    </tr>\n",
       "    <tr>\n",
       "      <th>20464</th>\n",
       "      <td>keanu doing things</td>\n",
       "      <td>not affiliated with keanu reeves</td>\n",
       "      <td>your #1 source for keanu reeves doing things</td>\n",
       "      <td>2018-03-04 00:59:36</td>\n",
       "      <td>234115</td>\n",
       "      <td>11</td>\n",
       "      <td>382</td>\n",
       "      <td>False</td>\n",
       "      <td>2018-03-04 01:06:09</td>\n",
       "      <td>keanu reeves drinking a corona &amp;amp; having an...</td>\n",
       "      <td>NaN</td>\n",
       "      <td>Twitter Web Client</td>\n",
       "      <td>en</td>\n",
       "    </tr>\n",
       "  </tbody>\n",
       "</table>\n",
       "</div>"
      ],
      "text/plain": [
       "                                user_name                     user_location  \\\n",
       "30221                       tolu ogunlesi             Lagos/Abuja [Nigeria]   \n",
       "442                      Guardian Science                            London   \n",
       "18159                               Marco                               NaN   \n",
       "5100   Jeremy PLEASE WEAR MASKS! Konyndyk                     Washington DC   \n",
       "20464                  keanu doing things  not affiliated with keanu reeves   \n",
       "\n",
       "                                        user_description         user_created  \\\n",
       "30221  Special Assistant to President Buhari on Digit...  2009-03-10 12:11:22   \n",
       "442    Science, health and environment news from the ...  2009-02-22 17:43:35   \n",
       "18159                        Lost in the right direction  2013-03-05 01:28:11   \n",
       "5100   Dad, baker, beer snob. Pandemic prep & humanit...  2011-10-25 17:44:25   \n",
       "20464       your #1 source for keanu reeves doing things  2018-03-04 00:59:36   \n",
       "\n",
       "       user_followers  user_friends  user_favourites  user_verified  \\\n",
       "30221          662352          2339            26778           True   \n",
       "442           1118108          2184              120           True   \n",
       "18159            5944           102             4815          False   \n",
       "5100            90029           601             9605           True   \n",
       "20464          234115            11              382          False   \n",
       "\n",
       "                      date                                          full_text  \\\n",
       "30221  2010-02-09 13:28:53  I'm busy. Writing a new constitution for Niger...   \n",
       "442    2013-03-15 20:13:39  Coronavirus: Is this the next pandemic? http:/...   \n",
       "18159  2013-06-03 15:32:48                         Corona virus....its coming   \n",
       "5100   2017-02-17 15:53:38  This matters ENORMOUSLY. Outbreak control rest...   \n",
       "20464  2018-03-04 01:06:09  keanu reeves drinking a corona &amp; having an...   \n",
       "\n",
       "      hashtags               source lang  \n",
       "30221      NaN   Twitter Web Client   en  \n",
       "442        NaN          twitterfeed   en  \n",
       "18159      NaN  Twitter for Android   en  \n",
       "5100       NaN   Twitter Web Client   en  \n",
       "20464      NaN   Twitter Web Client   en  "
      ]
     },
     "execution_count": 5,
     "metadata": {},
     "output_type": "execute_result"
    }
   ],
   "source": [
    "df.head()"
   ]
  },
  {
   "cell_type": "code",
   "execution_count": 6,
   "metadata": {},
   "outputs": [
    {
     "data": {
      "text/plain": [
       "(143173, 18)"
      ]
     },
     "execution_count": 6,
     "metadata": {},
     "output_type": "execute_result"
    }
   ],
   "source": [
    "# Add new features\n",
    "\n",
    "# top10 sources\n",
    "top_sources = df['source'].value_counts().reset_index().head(10)['index']\n",
    "df['source_top10'] = np.where(df['source'].isin(top_sources), df['source'], 'other')\n",
    "\n",
    "# Date related columns\n",
    "df['date'] = pd.to_datetime(df['date'])\n",
    "df['date_short'] = df['date'].dt.date\n",
    "df['weekday'] = df['date'].dt.weekday\n",
    "df['hour'] = df['date'].dt.hour\n",
    "\n",
    "# Tweet related\n",
    "df['tweet_length'] = df['full_text'].apply(lambda x:len(x))\n",
    "\n",
    "df.shape"
   ]
  },
  {
   "cell_type": "code",
   "execution_count": 7,
   "metadata": {},
   "outputs": [
    {
     "data": {
      "image/png": "[encoded data removed]",
      "text/plain": [
       "<Figure size 576x432 with 1 Axes>"
      ]
     },
     "metadata": {
      "needs_background": "light"
     },
     "output_type": "display_data"
    }
   ],
   "source": [
    "import seaborn as sns\n",
    "import matplotlib.pyplot as plt\n",
    "\n",
    "tmp = df['date_short'].value_counts().reset_index().sort_values('index')\n",
    "tmp['index'] = tmp['index'].apply(lambda x: str(x))\n",
    "tmp = tmp[tmp['index'] > '2020-01-27']\n",
    "tmp['index'] = pd.to_datetime(tmp['index'])\n",
    "\n",
    "plt.figure(figsize=(8,6))\n",
    "plt.plot(tmp['index'], tmp['date_short'])\n",
    "plt.xticks(rotation=90)\n",
    "plt.show()"
   ]
  },
  {
   "cell_type": "code",
   "execution_count": 8,
   "metadata": {},
   "outputs": [
    {
     "data": {
      "text/plain": [
       "(array([3.4121e+04, 4.5240e+04, 5.2660e+04, 1.0977e+04, 8.8000e+01,\n",
       "        1.9000e+01, 1.1000e+01, 1.4000e+01, 2.1000e+01, 2.2000e+01]),\n",
       " array([  8. , 104.6, 201.2, 297.8, 394.4, 491. , 587.6, 684.2, 780.8,\n",
       "        877.4, 974. ]),\n",
       " <BarContainer object of 10 artists>)"
      ]
     },
     "execution_count": 8,
     "metadata": {},
     "output_type": "execute_result"
    },
    {
     "data": {
      "image/png": "[encoded data removed]",
      "text/plain": [
       "<Figure size 432x288 with 1 Axes>"
      ]
     },
     "metadata": {
      "needs_background": "light"
     },
     "output_type": "display_data"
    }
   ],
   "source": [
    "plt.hist(df['tweet_length'])"
   ]
  },
  {
   "cell_type": "code",
   "execution_count": 9,
   "metadata": {},
   "outputs": [],
   "source": [
    "df.to_csv(config.data / 'covid19_tweets_clean.csv', index = None)"
   ]
  }
 ],
 "metadata": {
  "kernelspec": {
   "display_name": "Python 3",
   "language": "python",
   "name": "python3"
  },
  "language_info": {
   "codemirror_mode": {
    "name": "ipython",
    "version": 3
   },
   "file_extension": ".py",
   "mimetype": "text/x-python",
   "name": "python",
   "nbconvert_exporter": "python",
   "pygments_lexer": "ipython3",
   "version": "3.8.5"
  }
 },
 "nbformat": 4,
 "nbformat_minor": 4
}
