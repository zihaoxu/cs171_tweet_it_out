{
 "cells": [
  {
   "cell_type": "code",
   "execution_count": 95,
   "metadata": {},
   "outputs": [],
   "source": [
    "import pandas as pd\n",
    "import re\n",
    "import emoji\n",
    "import matplotlib.pyplot as plt\n",
    "import numpy as np\n",
    "import itertools\n",
    "from itertools import groupby, islice"
   ]
  },
  {
   "cell_type": "code",
   "execution_count": 2,
   "metadata": {},
   "outputs": [
    {
     "name": "stderr",
     "output_type": "stream",
     "text": [
      "/Users/ivywang/opt/anaconda3/lib/python3.7/site-packages/IPython/core/interactiveshell.py:3058: DtypeWarning: Columns (4,7,12) have mixed types. Specify dtype option on import or set low_memory=False.\n",
      "  interactivity=interactivity, compiler=compiler, result=result)\n"
     ]
    }
   ],
   "source": [
    "covid = pd.read_csv('covid19_tweets_sentiment.csv')"
   ]
  },
  {
   "cell_type": "code",
   "execution_count": 58,
   "metadata": {},
   "outputs": [
    {
     "data": {
      "text/html": [
       "<div>\n",
       "<style scoped>\n",
       "    .dataframe tbody tr th:only-of-type {\n",
       "        vertical-align: middle;\n",
       "    }\n",
       "\n",
       "    .dataframe tbody tr th {\n",
       "        vertical-align: top;\n",
       "    }\n",
       "\n",
       "    .dataframe thead th {\n",
       "        text-align: right;\n",
       "    }\n",
       "</style>\n",
       "<table border=\"1\" class=\"dataframe\">\n",
       "  <thead>\n",
       "    <tr style=\"text-align: right;\">\n",
       "      <th></th>\n",
       "      <th>user_name</th>\n",
       "      <th>user_location</th>\n",
       "      <th>user_description</th>\n",
       "      <th>user_created</th>\n",
       "      <th>user_followers</th>\n",
       "      <th>user_friends</th>\n",
       "      <th>user_favourites</th>\n",
       "      <th>user_verified</th>\n",
       "      <th>date</th>\n",
       "      <th>text</th>\n",
       "      <th>hashtags</th>\n",
       "      <th>source</th>\n",
       "      <th>is_retweet</th>\n",
       "      <th>sentiment</th>\n",
       "      <th>sentiment_score</th>\n",
       "    </tr>\n",
       "  </thead>\n",
       "  <tbody>\n",
       "    <tr>\n",
       "      <td>0</td>\n",
       "      <td>ᏉᎥ☻լꂅϮ</td>\n",
       "      <td>astroworld</td>\n",
       "      <td>wednesday addams as a disney princess keepin i...</td>\n",
       "      <td>2017-05-26 05:46:42</td>\n",
       "      <td>624</td>\n",
       "      <td>950.0</td>\n",
       "      <td>18775.0</td>\n",
       "      <td>False</td>\n",
       "      <td>2020-07-25 12:27:21</td>\n",
       "      <td>If I smelled the scent of hand sanitizers toda...</td>\n",
       "      <td>NaN</td>\n",
       "      <td>Twitter for iPhone</td>\n",
       "      <td>False</td>\n",
       "      <td>NEGATIVE</td>\n",
       "      <td>0.993067</td>\n",
       "    </tr>\n",
       "    <tr>\n",
       "      <td>1</td>\n",
       "      <td>Tom Basile 🇺🇸</td>\n",
       "      <td>New York, NY</td>\n",
       "      <td>Husband, Father, Columnist &amp; Commentator. Auth...</td>\n",
       "      <td>2009-04-16 20:06:23</td>\n",
       "      <td>2253</td>\n",
       "      <td>1677.0</td>\n",
       "      <td>24.0</td>\n",
       "      <td>True</td>\n",
       "      <td>2020-07-25 12:27:17</td>\n",
       "      <td>Hey @Yankees @YankeesPR and @MLB - wouldn't it...</td>\n",
       "      <td>NaN</td>\n",
       "      <td>Twitter for Android</td>\n",
       "      <td>False</td>\n",
       "      <td>NEGATIVE</td>\n",
       "      <td>0.987818</td>\n",
       "    </tr>\n",
       "    <tr>\n",
       "      <td>2</td>\n",
       "      <td>Time4fisticuffs</td>\n",
       "      <td>Pewee Valley, KY</td>\n",
       "      <td>#Christian #Catholic #Conservative #Reagan #Re...</td>\n",
       "      <td>2009-02-28 18:57:41</td>\n",
       "      <td>9275</td>\n",
       "      <td>9525.0</td>\n",
       "      <td>7254.0</td>\n",
       "      <td>False</td>\n",
       "      <td>2020-07-25 12:27:14</td>\n",
       "      <td>@diane3443 @wdunlap @realDonaldTrump Trump nev...</td>\n",
       "      <td>['COVID19']</td>\n",
       "      <td>Twitter for Android</td>\n",
       "      <td>False</td>\n",
       "      <td>NEGATIVE</td>\n",
       "      <td>0.992243</td>\n",
       "    </tr>\n",
       "    <tr>\n",
       "      <td>3</td>\n",
       "      <td>ethel mertz</td>\n",
       "      <td>Stuck in the Middle</td>\n",
       "      <td>#Browns #Indians #ClevelandProud #[]_[] #Cavs ...</td>\n",
       "      <td>2019-03-07 01:45:06</td>\n",
       "      <td>197</td>\n",
       "      <td>987.0</td>\n",
       "      <td>1488.0</td>\n",
       "      <td>False</td>\n",
       "      <td>2020-07-25 12:27:10</td>\n",
       "      <td>@brookbanktv The one gift #COVID19 has give me...</td>\n",
       "      <td>['COVID19']</td>\n",
       "      <td>Twitter for iPhone</td>\n",
       "      <td>False</td>\n",
       "      <td>POSITIVE</td>\n",
       "      <td>0.998897</td>\n",
       "    </tr>\n",
       "    <tr>\n",
       "      <td>4</td>\n",
       "      <td>DIPR-J&amp;K</td>\n",
       "      <td>Jammu and Kashmir</td>\n",
       "      <td>🖊️Official Twitter handle of Department of Inf...</td>\n",
       "      <td>2017-02-12 06:45:15</td>\n",
       "      <td>101009</td>\n",
       "      <td>168.0</td>\n",
       "      <td>101.0</td>\n",
       "      <td>False</td>\n",
       "      <td>2020-07-25 12:27:08</td>\n",
       "      <td>25 July : Media Bulletin on Novel #CoronaVirus...</td>\n",
       "      <td>['CoronaVirusUpdates', 'COVID19']</td>\n",
       "      <td>Twitter for Android</td>\n",
       "      <td>False</td>\n",
       "      <td>NEGATIVE</td>\n",
       "      <td>0.992979</td>\n",
       "    </tr>\n",
       "    <tr>\n",
       "      <td>5</td>\n",
       "      <td>🎹 Franz Schubert</td>\n",
       "      <td>Новоро́ссия</td>\n",
       "      <td>🎼  #Новоро́ссия #Novorossiya #оставайсядома #S...</td>\n",
       "      <td>2018-03-19 16:29:52</td>\n",
       "      <td>1180</td>\n",
       "      <td>1071.0</td>\n",
       "      <td>1287.0</td>\n",
       "      <td>False</td>\n",
       "      <td>2020-07-25 12:27:06</td>\n",
       "      <td>#coronavirus #covid19 deaths continue to rise....</td>\n",
       "      <td>['coronavirus', 'covid19']</td>\n",
       "      <td>Twitter Web App</td>\n",
       "      <td>False</td>\n",
       "      <td>NEGATIVE</td>\n",
       "      <td>0.997776</td>\n",
       "    </tr>\n",
       "    <tr>\n",
       "      <td>6</td>\n",
       "      <td>hr bartender</td>\n",
       "      <td>Gainesville, FL</td>\n",
       "      <td>Workplace tips and advice served up in a frien...</td>\n",
       "      <td>2008-08-12 18:19:49</td>\n",
       "      <td>79956</td>\n",
       "      <td>54810.0</td>\n",
       "      <td>3801.0</td>\n",
       "      <td>False</td>\n",
       "      <td>2020-07-25 12:27:03</td>\n",
       "      <td>How #COVID19 Will Change Work in General (and ...</td>\n",
       "      <td>['COVID19', 'Recruiting']</td>\n",
       "      <td>Buffer</td>\n",
       "      <td>False</td>\n",
       "      <td>NEGATIVE</td>\n",
       "      <td>0.983864</td>\n",
       "    </tr>\n",
       "    <tr>\n",
       "      <td>7</td>\n",
       "      <td>Derbyshire LPC</td>\n",
       "      <td>NaN</td>\n",
       "      <td>NaN</td>\n",
       "      <td>2012-02-03 18:08:10</td>\n",
       "      <td>608</td>\n",
       "      <td>355.0</td>\n",
       "      <td>95.0</td>\n",
       "      <td>False</td>\n",
       "      <td>2020-07-25 12:27:00</td>\n",
       "      <td>You now have to wear face coverings when out s...</td>\n",
       "      <td>NaN</td>\n",
       "      <td>TweetDeck</td>\n",
       "      <td>False</td>\n",
       "      <td>NEGATIVE</td>\n",
       "      <td>0.965411</td>\n",
       "    </tr>\n",
       "    <tr>\n",
       "      <td>8</td>\n",
       "      <td>Prathamesh Bendre</td>\n",
       "      <td>NaN</td>\n",
       "      <td>A poet, reiki practitioner and a student of law.</td>\n",
       "      <td>2015-04-25 08:15:41</td>\n",
       "      <td>25</td>\n",
       "      <td>29.0</td>\n",
       "      <td>18.0</td>\n",
       "      <td>False</td>\n",
       "      <td>2020-07-25 12:26:59</td>\n",
       "      <td>Praying for good health and recovery of @Chouh...</td>\n",
       "      <td>['covid19', 'covidPositive']</td>\n",
       "      <td>Twitter for Android</td>\n",
       "      <td>False</td>\n",
       "      <td>NEGATIVE</td>\n",
       "      <td>0.964648</td>\n",
       "    </tr>\n",
       "    <tr>\n",
       "      <td>9</td>\n",
       "      <td>Member of Christ 🇨🇳🇺🇸🇮🇳🇮🇩🇧🇷🇳🇬🇧🇩🇷🇺</td>\n",
       "      <td>👇🏻location at link below👇🏻</td>\n",
       "      <td>Just as the body is one &amp; has many members, &amp; ...</td>\n",
       "      <td>2014-08-17 04:53:22</td>\n",
       "      <td>55201</td>\n",
       "      <td>34239.0</td>\n",
       "      <td>29802.0</td>\n",
       "      <td>False</td>\n",
       "      <td>2020-07-25 12:26:54</td>\n",
       "      <td>POPE AS GOD - Prophet Sadhu Sundar Selvaraj. W...</td>\n",
       "      <td>['HurricaneHanna', 'COVID19']</td>\n",
       "      <td>Twitter for iPhone</td>\n",
       "      <td>False</td>\n",
       "      <td>NEGATIVE</td>\n",
       "      <td>0.979755</td>\n",
       "    </tr>\n",
       "  </tbody>\n",
       "</table>\n",
       "</div>"
      ],
      "text/plain": [
       "                           user_name               user_location  \\\n",
       "0                             ᏉᎥ☻լꂅϮ                  astroworld   \n",
       "1                      Tom Basile 🇺🇸                New York, NY   \n",
       "2                    Time4fisticuffs            Pewee Valley, KY   \n",
       "3                        ethel mertz        Stuck in the Middle    \n",
       "4                           DIPR-J&K           Jammu and Kashmir   \n",
       "5                   🎹 Franz Schubert                 Новоро́ссия   \n",
       "6                       hr bartender             Gainesville, FL   \n",
       "7                     Derbyshire LPC                         NaN   \n",
       "8                  Prathamesh Bendre                         NaN   \n",
       "9  Member of Christ 🇨🇳🇺🇸🇮🇳🇮🇩🇧🇷🇳🇬🇧🇩🇷🇺  👇🏻location at link below👇🏻   \n",
       "\n",
       "                                    user_description         user_created  \\\n",
       "0  wednesday addams as a disney princess keepin i...  2017-05-26 05:46:42   \n",
       "1  Husband, Father, Columnist & Commentator. Auth...  2009-04-16 20:06:23   \n",
       "2  #Christian #Catholic #Conservative #Reagan #Re...  2009-02-28 18:57:41   \n",
       "3  #Browns #Indians #ClevelandProud #[]_[] #Cavs ...  2019-03-07 01:45:06   \n",
       "4  🖊️Official Twitter handle of Department of Inf...  2017-02-12 06:45:15   \n",
       "5  🎼  #Новоро́ссия #Novorossiya #оставайсядома #S...  2018-03-19 16:29:52   \n",
       "6  Workplace tips and advice served up in a frien...  2008-08-12 18:19:49   \n",
       "7                                                NaN  2012-02-03 18:08:10   \n",
       "8   A poet, reiki practitioner and a student of law.  2015-04-25 08:15:41   \n",
       "9  Just as the body is one & has many members, & ...  2014-08-17 04:53:22   \n",
       "\n",
       "  user_followers  user_friends  user_favourites user_verified  \\\n",
       "0            624         950.0          18775.0         False   \n",
       "1           2253        1677.0             24.0          True   \n",
       "2           9275        9525.0           7254.0         False   \n",
       "3            197         987.0           1488.0         False   \n",
       "4         101009         168.0            101.0         False   \n",
       "5           1180        1071.0           1287.0         False   \n",
       "6          79956       54810.0           3801.0         False   \n",
       "7            608         355.0             95.0         False   \n",
       "8             25          29.0             18.0         False   \n",
       "9          55201       34239.0          29802.0         False   \n",
       "\n",
       "                  date                                               text  \\\n",
       "0  2020-07-25 12:27:21  If I smelled the scent of hand sanitizers toda...   \n",
       "1  2020-07-25 12:27:17  Hey @Yankees @YankeesPR and @MLB - wouldn't it...   \n",
       "2  2020-07-25 12:27:14  @diane3443 @wdunlap @realDonaldTrump Trump nev...   \n",
       "3  2020-07-25 12:27:10  @brookbanktv The one gift #COVID19 has give me...   \n",
       "4  2020-07-25 12:27:08  25 July : Media Bulletin on Novel #CoronaVirus...   \n",
       "5  2020-07-25 12:27:06  #coronavirus #covid19 deaths continue to rise....   \n",
       "6  2020-07-25 12:27:03  How #COVID19 Will Change Work in General (and ...   \n",
       "7  2020-07-25 12:27:00  You now have to wear face coverings when out s...   \n",
       "8  2020-07-25 12:26:59  Praying for good health and recovery of @Chouh...   \n",
       "9  2020-07-25 12:26:54  POPE AS GOD - Prophet Sadhu Sundar Selvaraj. W...   \n",
       "\n",
       "                            hashtags               source is_retweet  \\\n",
       "0                                NaN   Twitter for iPhone      False   \n",
       "1                                NaN  Twitter for Android      False   \n",
       "2                        ['COVID19']  Twitter for Android      False   \n",
       "3                        ['COVID19']   Twitter for iPhone      False   \n",
       "4  ['CoronaVirusUpdates', 'COVID19']  Twitter for Android      False   \n",
       "5         ['coronavirus', 'covid19']      Twitter Web App      False   \n",
       "6          ['COVID19', 'Recruiting']               Buffer      False   \n",
       "7                                NaN            TweetDeck      False   \n",
       "8       ['covid19', 'covidPositive']  Twitter for Android      False   \n",
       "9      ['HurricaneHanna', 'COVID19']   Twitter for iPhone      False   \n",
       "\n",
       "  sentiment  sentiment_score  \n",
       "0  NEGATIVE         0.993067  \n",
       "1  NEGATIVE         0.987818  \n",
       "2  NEGATIVE         0.992243  \n",
       "3  POSITIVE         0.998897  \n",
       "4  NEGATIVE         0.992979  \n",
       "5  NEGATIVE         0.997776  \n",
       "6  NEGATIVE         0.983864  \n",
       "7  NEGATIVE         0.965411  \n",
       "8  NEGATIVE         0.964648  \n",
       "9  NEGATIVE         0.979755  "
      ]
     },
     "execution_count": 58,
     "metadata": {},
     "output_type": "execute_result"
    }
   ],
   "source": [
    "covid.head(10)"
   ]
  },
  {
   "cell_type": "code",
   "execution_count": 62,
   "metadata": {},
   "outputs": [
    {
     "data": {
      "text/plain": [
       "':pen_selector:Official Twitter handle of Department of Information and Public Relations, Govt of Jammu & Kashmir'"
      ]
     },
     "execution_count": 62,
     "metadata": {},
     "output_type": "execute_result"
    }
   ],
   "source": [
    "emoji.demojize(covid['user_description'][4])"
   ]
  },
  {
   "cell_type": "code",
   "execution_count": 64,
   "metadata": {},
   "outputs": [
    {
     "data": {
      "text/plain": [
       "'🖊️'"
      ]
     },
     "execution_count": 64,
     "metadata": {},
     "output_type": "execute_result"
    }
   ],
   "source": [
    "pattern = \"\\:\\w+\\:\"\n",
    "emoji.emojize(re.findall(pattern,emoji.demojize(covid['user_description'][4]))[0])"
   ]
  },
  {
   "cell_type": "code",
   "execution_count": 84,
   "metadata": {},
   "outputs": [],
   "source": [
    "def extractMentions(text):\n",
    "    '''Extract @ information from tweets'''\n",
    "    pattern = \"\\@\\w+\"\n",
    "    mention = []\n",
    "    for i in range(len(text)):\n",
    "        mention.append(re.findall(pattern, str(text[i]) ))\n",
    "    return mention\n",
    "\n",
    "def extractHashTags(text):\n",
    "    '''Extract # information from tweets'''\n",
    "    pattern = \"\\#\\w+\"\n",
    "    hashtag = []\n",
    "    for i in range(len(text)):\n",
    "        mention.append(re.findall(pattern, str(text[i]) ))\n",
    "    return hashtag\n",
    "\n",
    "def extractEmoji(text):\n",
    "    '''Extract Emojis from tweets'''\n",
    "    pattern = \"\\:\\w+\\:\"\n",
    "    emoji_list = []\n",
    "    for i in range(len(text)):\n",
    "        emoji_list.append(re.findall(pattern, emoji.demojize(str(text[i]))))\n",
    "    return emoji_list"
   ]
  },
  {
   "cell_type": "code",
   "execution_count": 39,
   "metadata": {},
   "outputs": [
    {
     "data": {
      "text/plain": [
       "179113"
      ]
     },
     "execution_count": 39,
     "metadata": {},
     "output_type": "execute_result"
    }
   ],
   "source": [
    "len(covid['text'])"
   ]
  },
  {
   "cell_type": "code",
   "execution_count": 67,
   "metadata": {},
   "outputs": [],
   "source": [
    "mentions = extractMentions(covid['text'].values)"
   ]
  },
  {
   "cell_type": "code",
   "execution_count": 65,
   "metadata": {},
   "outputs": [],
   "source": [
    "hashtags = extractHashTags(covid['text'].values)"
   ]
  },
  {
   "cell_type": "code",
   "execution_count": 178,
   "metadata": {},
   "outputs": [],
   "source": [
    "emojis = extractEmoji(covid['text'].values)"
   ]
  },
  {
   "cell_type": "code",
   "execution_count": 89,
   "metadata": {},
   "outputs": [],
   "source": [
    "emojis_user = extractEmoji(covid['user_description'].values)"
   ]
  },
  {
   "cell_type": "code",
   "execution_count": 153,
   "metadata": {},
   "outputs": [],
   "source": [
    "individual_entity = list(itertools.chain(*mentions))\n",
    "entity_freq = {}\n",
    "for item in individual_entity: \n",
    "    if (item in entity_freq): \n",
    "        entity_freq[item] += 1\n",
    "    else: \n",
    "        entity_freq[item] = 1\n",
    "entity_freq_sorted = {k: v for k, v in sorted(entity_freq.items(), key=lambda item: item[1],reverse=True)}\n",
    "entity_freq_top_k = list(islice(entity_freq_sorted.items(), 10))\n",
    "entity_freq_top_k_tags = [i[0] for i in entity_freq_top_k]\n",
    "entity_freq_top_k_freq = [i[1] for i in entity_freq_top_k]\n",
    "    "
   ]
  },
  {
   "cell_type": "code",
   "execution_count": 161,
   "metadata": {},
   "outputs": [],
   "source": [
    "def top_k_entities(extracted, k, extract_type, plot = True):\n",
    "    individual_entity = list(itertools.chain(*extracted))\n",
    "    entity_freq = {}\n",
    "    for item in individual_entity: \n",
    "        if (item in entity_freq): \n",
    "            entity_freq[item] += 1\n",
    "        else: \n",
    "            entity_freq[item] = 1\n",
    "    entity_freq_sorted = {k: v for k, v in sorted(entity_freq.items(), key=lambda item: item[1],reverse=True)}\n",
    "    entity_freq_top_k = list(islice(entity_freq_sorted.items(), k))\n",
    "    entity_freq_top_k_tags = [i[0] for i in entity_freq_top_k]\n",
    "    entity_freq_top_k_freq = [i[1] for i in entity_freq_top_k]\n",
    "    if plot:\n",
    "        plt.figure(figsize=(15,8))\n",
    "        plt.bar(entity_freq_top_k_tags,entity_freq_top_k_freq)\n",
    "        plt.title('Histogram of the Top '+str(k)+ ' '+extract_type)\n",
    "        plt.xticks(rotation=30)\n",
    "        plt.show()\n",
    "    return entity_freq_top_k,entity_freq_top_k_tags,entity_freq_top_k_freq\n",
    "    "
   ]
  },
  {
   "cell_type": "code",
   "execution_count": 166,
   "metadata": {},
   "outputs": [
    {
     "data": {
      "image/png": "[encoded data removed]",
      "text/plain": [
       "<Figure size 1080x576 with 1 Axes>"
      ]
     },
     "metadata": {
      "needs_background": "light"
     },
     "output_type": "display_data"
    }
   ],
   "source": [
    "_ = top_k_entities(mentions,10,'Mentions')"
   ]
  },
  {
   "cell_type": "code",
   "execution_count": 167,
   "metadata": {
    "scrolled": false
   },
   "outputs": [
    {
     "data": {
      "image/png": "[encoded data removed]",
      "text/plain": [
       "<Figure size 1080x576 with 1 Axes>"
      ]
     },
     "metadata": {
      "needs_background": "light"
     },
     "output_type": "display_data"
    }
   ],
   "source": [
    "_ = top_k_entities(hashtags,10,'Hashtags')"
   ]
  },
  {
   "cell_type": "code",
   "execution_count": 169,
   "metadata": {},
   "outputs": [
    {
     "data": {
      "image/png": "[encoded data removed]",
      "text/plain": [
       "<Figure size 1080x576 with 1 Axes>"
      ]
     },
     "metadata": {
      "needs_background": "light"
     },
     "output_type": "display_data"
    }
   ],
   "source": [
    "_ = top_k_entities(emojis,10,'emojis')"
   ]
  },
  {
   "cell_type": "code",
   "execution_count": 174,
   "metadata": {},
   "outputs": [
    {
     "data": {
      "text/plain": [
       "'❤️'"
      ]
     },
     "execution_count": 174,
     "metadata": {},
     "output_type": "execute_result"
    }
   ],
   "source": [
    "emoji.emojize(':red_heart_selector:')"
   ]
  },
  {
   "cell_type": "code",
   "execution_count": 176,
   "metadata": {
    "scrolled": true
   },
   "outputs": [
    {
     "data": {
      "text/plain": [
       "'🌊'"
      ]
     },
     "execution_count": 176,
     "metadata": {},
     "output_type": "execute_result"
    }
   ],
   "source": [
    "emoji.emojize(':water_wave:')"
   ]
  },
  {
   "cell_type": "code",
   "execution_count": 177,
   "metadata": {},
   "outputs": [
    {
     "data": {
      "image/png": "[encoded data removed]",
      "text/plain": [
       "<Figure size 1080x576 with 1 Axes>"
      ]
     },
     "metadata": {
      "needs_background": "light"
     },
     "output_type": "display_data"
    }
   ],
   "source": [
    "_ = top_k_entities(emojis_user,10,'emojis in user description')"
   ]
  }
 ],
 "metadata": {
  "kernelspec": {
   "display_name": "Python 3",
   "language": "python",
   "name": "python3"
  },
  "language_info": {
   "codemirror_mode": {
    "name": "ipython",
    "version": 3
   },
   "file_extension": ".py",
   "mimetype": "text/x-python",
   "name": "python",
   "nbconvert_exporter": "python",
   "pygments_lexer": "ipython3",
   "version": "3.7.4"
  }
 },
 "nbformat": 4,
 "nbformat_minor": 2
}
