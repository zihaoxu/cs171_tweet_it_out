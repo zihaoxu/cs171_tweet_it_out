{
 "cells": [
  {
   "cell_type": "code",
   "execution_count": 1,
   "metadata": {},
   "outputs": [],
   "source": [
    "import os\n",
    "import pandas as pd\n",
    "from pathlib import Path\n",
    "from tqdm import tqdm"
   ]
  },
  {
   "cell_type": "code",
   "execution_count": 5,
   "metadata": {},
   "outputs": [
    {
     "name": "stdout",
     "output_type": "stream",
     "text": [
      "/Users/gazimahmud/Documents/Harvard/CSCI-171/finalproject/cs171_tweet_it_out/data/covid19_tweets.csv\n"
     ]
    }
   ],
   "source": [
    "data_root = Path.cwd().parent.parent\n",
    "df_path = data_root / 'data' / 'covid19_tweets.csv'\n",
    "print(df_path)"
   ]
  },
  {
   "cell_type": "code",
   "execution_count": 6,
   "metadata": {},
   "outputs": [
    {
     "data": {
      "text/html": [
       "<div>\n",
       "<style scoped>\n",
       "    .dataframe tbody tr th:only-of-type {\n",
       "        vertical-align: middle;\n",
       "    }\n",
       "\n",
       "    .dataframe tbody tr th {\n",
       "        vertical-align: top;\n",
       "    }\n",
       "\n",
       "    .dataframe thead th {\n",
       "        text-align: right;\n",
       "    }\n",
       "</style>\n",
       "<table border=\"1\" class=\"dataframe\">\n",
       "  <thead>\n",
       "    <tr style=\"text-align: right;\">\n",
       "      <th></th>\n",
       "      <th>user_name</th>\n",
       "      <th>user_location</th>\n",
       "      <th>user_description</th>\n",
       "      <th>user_created</th>\n",
       "      <th>user_followers</th>\n",
       "      <th>user_friends</th>\n",
       "      <th>user_favourites</th>\n",
       "      <th>user_verified</th>\n",
       "      <th>date</th>\n",
       "      <th>text</th>\n",
       "      <th>hashtags</th>\n",
       "      <th>source</th>\n",
       "      <th>is_retweet</th>\n",
       "    </tr>\n",
       "  </thead>\n",
       "  <tbody>\n",
       "    <tr>\n",
       "      <th>0</th>\n",
       "      <td>ᏉᎥ☻լꂅϮ</td>\n",
       "      <td>astroworld</td>\n",
       "      <td>wednesday addams as a disney princess keepin i...</td>\n",
       "      <td>2017-05-26 05:46:42</td>\n",
       "      <td>624</td>\n",
       "      <td>950</td>\n",
       "      <td>18775</td>\n",
       "      <td>False</td>\n",
       "      <td>2020-07-25 12:27:21</td>\n",
       "      <td>If I smelled the scent of hand sanitizers toda...</td>\n",
       "      <td>NaN</td>\n",
       "      <td>Twitter for iPhone</td>\n",
       "      <td>False</td>\n",
       "    </tr>\n",
       "    <tr>\n",
       "      <th>1</th>\n",
       "      <td>Tom Basile 🇺🇸</td>\n",
       "      <td>New York, NY</td>\n",
       "      <td>Husband, Father, Columnist &amp; Commentator. Auth...</td>\n",
       "      <td>2009-04-16 20:06:23</td>\n",
       "      <td>2253</td>\n",
       "      <td>1677</td>\n",
       "      <td>24</td>\n",
       "      <td>True</td>\n",
       "      <td>2020-07-25 12:27:17</td>\n",
       "      <td>Hey @Yankees @YankeesPR and @MLB - wouldn't it...</td>\n",
       "      <td>NaN</td>\n",
       "      <td>Twitter for Android</td>\n",
       "      <td>False</td>\n",
       "    </tr>\n",
       "    <tr>\n",
       "      <th>2</th>\n",
       "      <td>Time4fisticuffs</td>\n",
       "      <td>Pewee Valley, KY</td>\n",
       "      <td>#Christian #Catholic #Conservative #Reagan #Re...</td>\n",
       "      <td>2009-02-28 18:57:41</td>\n",
       "      <td>9275</td>\n",
       "      <td>9525</td>\n",
       "      <td>7254</td>\n",
       "      <td>False</td>\n",
       "      <td>2020-07-25 12:27:14</td>\n",
       "      <td>@diane3443 @wdunlap @realDonaldTrump Trump nev...</td>\n",
       "      <td>['COVID19']</td>\n",
       "      <td>Twitter for Android</td>\n",
       "      <td>False</td>\n",
       "    </tr>\n",
       "    <tr>\n",
       "      <th>3</th>\n",
       "      <td>ethel mertz</td>\n",
       "      <td>Stuck in the Middle</td>\n",
       "      <td>#Browns #Indians #ClevelandProud #[]_[] #Cavs ...</td>\n",
       "      <td>2019-03-07 01:45:06</td>\n",
       "      <td>197</td>\n",
       "      <td>987</td>\n",
       "      <td>1488</td>\n",
       "      <td>False</td>\n",
       "      <td>2020-07-25 12:27:10</td>\n",
       "      <td>@brookbanktv The one gift #COVID19 has give me...</td>\n",
       "      <td>['COVID19']</td>\n",
       "      <td>Twitter for iPhone</td>\n",
       "      <td>False</td>\n",
       "    </tr>\n",
       "    <tr>\n",
       "      <th>4</th>\n",
       "      <td>DIPR-J&amp;K</td>\n",
       "      <td>Jammu and Kashmir</td>\n",
       "      <td>🖊️Official Twitter handle of Department of Inf...</td>\n",
       "      <td>2017-02-12 06:45:15</td>\n",
       "      <td>101009</td>\n",
       "      <td>168</td>\n",
       "      <td>101</td>\n",
       "      <td>False</td>\n",
       "      <td>2020-07-25 12:27:08</td>\n",
       "      <td>25 July : Media Bulletin on Novel #CoronaVirus...</td>\n",
       "      <td>['CoronaVirusUpdates', 'COVID19']</td>\n",
       "      <td>Twitter for Android</td>\n",
       "      <td>False</td>\n",
       "    </tr>\n",
       "  </tbody>\n",
       "</table>\n",
       "</div>"
      ],
      "text/plain": [
       "         user_name         user_location  \\\n",
       "0           ᏉᎥ☻լꂅϮ            astroworld   \n",
       "1    Tom Basile 🇺🇸          New York, NY   \n",
       "2  Time4fisticuffs      Pewee Valley, KY   \n",
       "3      ethel mertz  Stuck in the Middle    \n",
       "4         DIPR-J&K     Jammu and Kashmir   \n",
       "\n",
       "                                    user_description         user_created  \\\n",
       "0  wednesday addams as a disney princess keepin i...  2017-05-26 05:46:42   \n",
       "1  Husband, Father, Columnist & Commentator. Auth...  2009-04-16 20:06:23   \n",
       "2  #Christian #Catholic #Conservative #Reagan #Re...  2009-02-28 18:57:41   \n",
       "3  #Browns #Indians #ClevelandProud #[]_[] #Cavs ...  2019-03-07 01:45:06   \n",
       "4  🖊️Official Twitter handle of Department of Inf...  2017-02-12 06:45:15   \n",
       "\n",
       "   user_followers  user_friends  user_favourites  user_verified  \\\n",
       "0             624           950            18775          False   \n",
       "1            2253          1677               24           True   \n",
       "2            9275          9525             7254          False   \n",
       "3             197           987             1488          False   \n",
       "4          101009           168              101          False   \n",
       "\n",
       "                  date                                               text  \\\n",
       "0  2020-07-25 12:27:21  If I smelled the scent of hand sanitizers toda...   \n",
       "1  2020-07-25 12:27:17  Hey @Yankees @YankeesPR and @MLB - wouldn't it...   \n",
       "2  2020-07-25 12:27:14  @diane3443 @wdunlap @realDonaldTrump Trump nev...   \n",
       "3  2020-07-25 12:27:10  @brookbanktv The one gift #COVID19 has give me...   \n",
       "4  2020-07-25 12:27:08  25 July : Media Bulletin on Novel #CoronaVirus...   \n",
       "\n",
       "                            hashtags               source  is_retweet  \n",
       "0                                NaN   Twitter for iPhone       False  \n",
       "1                                NaN  Twitter for Android       False  \n",
       "2                        ['COVID19']  Twitter for Android       False  \n",
       "3                        ['COVID19']   Twitter for iPhone       False  \n",
       "4  ['CoronaVirusUpdates', 'COVID19']  Twitter for Android       False  "
      ]
     },
     "execution_count": 6,
     "metadata": {},
     "output_type": "execute_result"
    }
   ],
   "source": [
    "df = pd.read_csv(df_path)\n",
    "df.head()"
   ]
  },
  {
   "cell_type": "code",
   "execution_count": 7,
   "metadata": {},
   "outputs": [
    {
     "data": {
      "text/plain": [
       "Twitter Web App        56891\n",
       "Twitter for Android    40179\n",
       "Twitter for iPhone     35472\n",
       "TweetDeck               8543\n",
       "Hootsuite Inc.          7321\n",
       "                       ...  \n",
       "WP to Twitter EPR          1\n",
       "standard3d                 1\n",
       "Apphi                      1\n",
       "Emphatic                   1\n",
       "BrentStafford.com          1\n",
       "Name: source, Length: 610, dtype: int64"
      ]
     },
     "execution_count": 7,
     "metadata": {},
     "output_type": "execute_result"
    }
   ],
   "source": [
    "df['source'].value_counts()"
   ]
  },
  {
   "cell_type": "code",
   "execution_count": 8,
   "metadata": {},
   "outputs": [
    {
     "data": {
      "text/plain": [
       "\"['CoronaVirusUpdates', 'COVID19']\""
      ]
     },
     "execution_count": 8,
     "metadata": {},
     "output_type": "execute_result"
    }
   ],
   "source": [
    "df['hashtags'][4]"
   ]
  },
  {
   "cell_type": "code",
   "execution_count": 9,
   "metadata": {},
   "outputs": [
    {
     "data": {
      "text/plain": [
       "user_name           object\n",
       "user_location       object\n",
       "user_description    object\n",
       "user_created        object\n",
       "user_followers       int64\n",
       "user_friends         int64\n",
       "user_favourites      int64\n",
       "user_verified         bool\n",
       "date                object\n",
       "text                object\n",
       "hashtags            object\n",
       "source              object\n",
       "is_retweet            bool\n",
       "dtype: object"
      ]
     },
     "execution_count": 9,
     "metadata": {},
     "output_type": "execute_result"
    }
   ],
   "source": [
    "df.dtypes"
   ]
  },
  {
   "cell_type": "code",
   "execution_count": 11,
   "metadata": {},
   "outputs": [
    {
     "data": {
      "text/plain": [
       "Index(['user_name', 'user_location', 'user_description', 'user_created',\n",
       "       'user_followers', 'user_friends', 'user_favourites', 'user_verified',\n",
       "       'date', 'text', 'hashtags', 'source', 'is_retweet'],\n",
       "      dtype='object')"
      ]
     },
     "execution_count": 11,
     "metadata": {},
     "output_type": "execute_result"
    }
   ],
   "source": [
    "df.columns"
   ]
  },
  {
   "cell_type": "code",
   "execution_count": 14,
   "metadata": {},
   "outputs": [
    {
     "data": {
      "application/vnd.jupyter.widget-view+json": {
       "model_id": "2aa85d7675b44585b2282e12e4b8e7fe",
       "version_major": 2,
       "version_minor": 0
      },
      "text/plain": [
       "HBox(children=(HTML(value=''), FloatProgress(value=1.0, bar_style='info', layout=Layout(width='20px'), max=1.0…"
      ]
     },
     "metadata": {},
     "output_type": "display_data"
    }
   ],
   "source": [
    "import warnings\n",
    "warnings.filterwarnings('ignore')\n",
    "from langdetect import detect\n",
    "from tqdm import tqdm_notebook\n",
    "tqdm_notebook().pandas()"
   ]
  },
  {
   "cell_type": "code",
   "execution_count": 22,
   "metadata": {},
   "outputs": [],
   "source": [
    "from nltk.tokenize import sent_tokenize\n",
    "from nltk.tokenize import word_tokenize\n",
    "from nltk import pos_tag"
   ]
  },
  {
   "cell_type": "code",
   "execution_count": 17,
   "metadata": {},
   "outputs": [
    {
     "data": {
      "application/vnd.jupyter.widget-view+json": {
       "model_id": "93e8ed0f2f7d4a67958b52edc3757421",
       "version_major": 2,
       "version_minor": 0
      },
      "text/plain": [
       "HBox(children=(HTML(value=''), FloatProgress(value=0.0, max=179108.0), HTML(value='')))"
      ]
     },
     "metadata": {},
     "output_type": "display_data"
    },
    {
     "name": "stdout",
     "output_type": "stream",
     "text": [
      "\n"
     ]
    },
    {
     "data": {
      "text/plain": [
       "['If I smelled the scent of hand sanitizers today on someone in the past, I would think they were so intoxicated that… https://t.co/QZvYbrOgb0']"
      ]
     },
     "execution_count": 17,
     "metadata": {},
     "output_type": "execute_result"
    }
   ],
   "source": [
    "df['sentences'] = df.text.progress_map(sent_tokenize)\n",
    "df['sentences'].head(1).tolist()[0][:3]"
   ]
  },
  {
   "cell_type": "code",
   "execution_count": 19,
   "metadata": {},
   "outputs": [
    {
     "data": {
      "application/vnd.jupyter.widget-view+json": {
       "model_id": "a4d94b07b1a24565b20710ef42353444",
       "version_major": 2,
       "version_minor": 0
      },
      "text/plain": [
       "HBox(children=(HTML(value=''), FloatProgress(value=0.0, max=179108.0), HTML(value='')))"
      ]
     },
     "metadata": {},
     "output_type": "display_data"
    },
    {
     "name": "stdout",
     "output_type": "stream",
     "text": [
      "\n",
      "[['If', 'I', 'smelled', 'the', 'scent', 'of', 'hand', 'sanitizers', 'today', 'on', 'someone', 'in', 'the', 'past', ',', 'I', 'would', 'think', 'they', 'were', 'so', 'intoxicated', 'that…', 'https', ':', '//t.co/QZvYbrOgb0']]\n"
     ]
    }
   ],
   "source": [
    "df['tokens_sentences'] = df['sentences'].progress_map(lambda sentences: [word_tokenize(sentence) for sentence in sentences])\n",
    "print(df['tokens_sentences'].head(1).tolist()[0][:3])"
   ]
  },
  {
   "cell_type": "code",
   "execution_count": 21,
   "metadata": {},
   "outputs": [
    {
     "data": {
      "text/html": [
       "<div>\n",
       "<style scoped>\n",
       "    .dataframe tbody tr th:only-of-type {\n",
       "        vertical-align: middle;\n",
       "    }\n",
       "\n",
       "    .dataframe tbody tr th {\n",
       "        vertical-align: top;\n",
       "    }\n",
       "\n",
       "    .dataframe thead th {\n",
       "        text-align: right;\n",
       "    }\n",
       "</style>\n",
       "<table border=\"1\" class=\"dataframe\">\n",
       "  <thead>\n",
       "    <tr style=\"text-align: right;\">\n",
       "      <th></th>\n",
       "      <th>user_name</th>\n",
       "      <th>user_location</th>\n",
       "      <th>user_description</th>\n",
       "      <th>user_created</th>\n",
       "      <th>user_followers</th>\n",
       "      <th>user_friends</th>\n",
       "      <th>user_favourites</th>\n",
       "      <th>user_verified</th>\n",
       "      <th>date</th>\n",
       "      <th>text</th>\n",
       "      <th>hashtags</th>\n",
       "      <th>source</th>\n",
       "      <th>is_retweet</th>\n",
       "      <th>sentences</th>\n",
       "      <th>tokens_sentences</th>\n",
       "    </tr>\n",
       "  </thead>\n",
       "  <tbody>\n",
       "    <tr>\n",
       "      <th>0</th>\n",
       "      <td>ᏉᎥ☻լꂅϮ</td>\n",
       "      <td>astroworld</td>\n",
       "      <td>wednesday addams as a disney princess keepin i...</td>\n",
       "      <td>2017-05-26 05:46:42</td>\n",
       "      <td>624</td>\n",
       "      <td>950</td>\n",
       "      <td>18775</td>\n",
       "      <td>False</td>\n",
       "      <td>2020-07-25 12:27:21</td>\n",
       "      <td>If I smelled the scent of hand sanitizers toda...</td>\n",
       "      <td>NaN</td>\n",
       "      <td>Twitter for iPhone</td>\n",
       "      <td>False</td>\n",
       "      <td>[If I smelled the scent of hand sanitizers tod...</td>\n",
       "      <td>[[If, I, smelled, the, scent, of, hand, saniti...</td>\n",
       "    </tr>\n",
       "    <tr>\n",
       "      <th>1</th>\n",
       "      <td>Tom Basile 🇺🇸</td>\n",
       "      <td>New York, NY</td>\n",
       "      <td>Husband, Father, Columnist &amp; Commentator. Auth...</td>\n",
       "      <td>2009-04-16 20:06:23</td>\n",
       "      <td>2253</td>\n",
       "      <td>1677</td>\n",
       "      <td>24</td>\n",
       "      <td>True</td>\n",
       "      <td>2020-07-25 12:27:17</td>\n",
       "      <td>Hey @Yankees @YankeesPR and @MLB - wouldn't it...</td>\n",
       "      <td>NaN</td>\n",
       "      <td>Twitter for Android</td>\n",
       "      <td>False</td>\n",
       "      <td>[Hey @Yankees @YankeesPR and @MLB - wouldn't i...</td>\n",
       "      <td>[[Hey, @, Yankees, @, YankeesPR, and, @, MLB, ...</td>\n",
       "    </tr>\n",
       "    <tr>\n",
       "      <th>2</th>\n",
       "      <td>Time4fisticuffs</td>\n",
       "      <td>Pewee Valley, KY</td>\n",
       "      <td>#Christian #Catholic #Conservative #Reagan #Re...</td>\n",
       "      <td>2009-02-28 18:57:41</td>\n",
       "      <td>9275</td>\n",
       "      <td>9525</td>\n",
       "      <td>7254</td>\n",
       "      <td>False</td>\n",
       "      <td>2020-07-25 12:27:14</td>\n",
       "      <td>@diane3443 @wdunlap @realDonaldTrump Trump nev...</td>\n",
       "      <td>['COVID19']</td>\n",
       "      <td>Twitter for Android</td>\n",
       "      <td>False</td>\n",
       "      <td>[@diane3443 @wdunlap @realDonaldTrump Trump ne...</td>\n",
       "      <td>[[@, diane3443, @, wdunlap, @, realDonaldTrump...</td>\n",
       "    </tr>\n",
       "    <tr>\n",
       "      <th>3</th>\n",
       "      <td>ethel mertz</td>\n",
       "      <td>Stuck in the Middle</td>\n",
       "      <td>#Browns #Indians #ClevelandProud #[]_[] #Cavs ...</td>\n",
       "      <td>2019-03-07 01:45:06</td>\n",
       "      <td>197</td>\n",
       "      <td>987</td>\n",
       "      <td>1488</td>\n",
       "      <td>False</td>\n",
       "      <td>2020-07-25 12:27:10</td>\n",
       "      <td>@brookbanktv The one gift #COVID19 has give me...</td>\n",
       "      <td>['COVID19']</td>\n",
       "      <td>Twitter for iPhone</td>\n",
       "      <td>False</td>\n",
       "      <td>[@brookbanktv The one gift #COVID19 has give m...</td>\n",
       "      <td>[[@, brookbanktv, The, one, gift, #, COVID19, ...</td>\n",
       "    </tr>\n",
       "    <tr>\n",
       "      <th>4</th>\n",
       "      <td>DIPR-J&amp;K</td>\n",
       "      <td>Jammu and Kashmir</td>\n",
       "      <td>🖊️Official Twitter handle of Department of Inf...</td>\n",
       "      <td>2017-02-12 06:45:15</td>\n",
       "      <td>101009</td>\n",
       "      <td>168</td>\n",
       "      <td>101</td>\n",
       "      <td>False</td>\n",
       "      <td>2020-07-25 12:27:08</td>\n",
       "      <td>25 July : Media Bulletin on Novel #CoronaVirus...</td>\n",
       "      <td>['CoronaVirusUpdates', 'COVID19']</td>\n",
       "      <td>Twitter for Android</td>\n",
       "      <td>False</td>\n",
       "      <td>[25 July : Media Bulletin on Novel #CoronaViru...</td>\n",
       "      <td>[[25, July, :, Media, Bulletin, on, Novel, #, ...</td>\n",
       "    </tr>\n",
       "  </tbody>\n",
       "</table>\n",
       "</div>"
      ],
      "text/plain": [
       "         user_name         user_location  \\\n",
       "0           ᏉᎥ☻լꂅϮ            astroworld   \n",
       "1    Tom Basile 🇺🇸          New York, NY   \n",
       "2  Time4fisticuffs      Pewee Valley, KY   \n",
       "3      ethel mertz  Stuck in the Middle    \n",
       "4         DIPR-J&K     Jammu and Kashmir   \n",
       "\n",
       "                                    user_description         user_created  \\\n",
       "0  wednesday addams as a disney princess keepin i...  2017-05-26 05:46:42   \n",
       "1  Husband, Father, Columnist & Commentator. Auth...  2009-04-16 20:06:23   \n",
       "2  #Christian #Catholic #Conservative #Reagan #Re...  2009-02-28 18:57:41   \n",
       "3  #Browns #Indians #ClevelandProud #[]_[] #Cavs ...  2019-03-07 01:45:06   \n",
       "4  🖊️Official Twitter handle of Department of Inf...  2017-02-12 06:45:15   \n",
       "\n",
       "   user_followers  user_friends  user_favourites  user_verified  \\\n",
       "0             624           950            18775          False   \n",
       "1            2253          1677               24           True   \n",
       "2            9275          9525             7254          False   \n",
       "3             197           987             1488          False   \n",
       "4          101009           168              101          False   \n",
       "\n",
       "                  date                                               text  \\\n",
       "0  2020-07-25 12:27:21  If I smelled the scent of hand sanitizers toda...   \n",
       "1  2020-07-25 12:27:17  Hey @Yankees @YankeesPR and @MLB - wouldn't it...   \n",
       "2  2020-07-25 12:27:14  @diane3443 @wdunlap @realDonaldTrump Trump nev...   \n",
       "3  2020-07-25 12:27:10  @brookbanktv The one gift #COVID19 has give me...   \n",
       "4  2020-07-25 12:27:08  25 July : Media Bulletin on Novel #CoronaVirus...   \n",
       "\n",
       "                            hashtags               source  is_retweet  \\\n",
       "0                                NaN   Twitter for iPhone       False   \n",
       "1                                NaN  Twitter for Android       False   \n",
       "2                        ['COVID19']  Twitter for Android       False   \n",
       "3                        ['COVID19']   Twitter for iPhone       False   \n",
       "4  ['CoronaVirusUpdates', 'COVID19']  Twitter for Android       False   \n",
       "\n",
       "                                           sentences  \\\n",
       "0  [If I smelled the scent of hand sanitizers tod...   \n",
       "1  [Hey @Yankees @YankeesPR and @MLB - wouldn't i...   \n",
       "2  [@diane3443 @wdunlap @realDonaldTrump Trump ne...   \n",
       "3  [@brookbanktv The one gift #COVID19 has give m...   \n",
       "4  [25 July : Media Bulletin on Novel #CoronaViru...   \n",
       "\n",
       "                                    tokens_sentences  \n",
       "0  [[If, I, smelled, the, scent, of, hand, saniti...  \n",
       "1  [[Hey, @, Yankees, @, YankeesPR, and, @, MLB, ...  \n",
       "2  [[@, diane3443, @, wdunlap, @, realDonaldTrump...  \n",
       "3  [[@, brookbanktv, The, one, gift, #, COVID19, ...  \n",
       "4  [[25, July, :, Media, Bulletin, on, Novel, #, ...  "
      ]
     },
     "execution_count": 21,
     "metadata": {},
     "output_type": "execute_result"
    }
   ],
   "source": [
    "df.head(5)"
   ]
  },
  {
   "cell_type": "markdown",
   "metadata": {},
   "source": [
    "## Lemmatizing with POS tagging\n",
    "\n",
    "morphological analysis of words, normally aiming to remove inflectional endings only and to return the base or dictionary form of a word"
   ]
  },
  {
   "cell_type": "code",
   "execution_count": 25,
   "metadata": {},
   "outputs": [
    {
     "name": "stderr",
     "output_type": "stream",
     "text": [
      "[nltk_data] Downloading package averaged_perceptron_tagger to\n",
      "[nltk_data]     /Users/gazimahmud/nltk_data...\n",
      "[nltk_data]   Package averaged_perceptron_tagger is already up-to-\n",
      "[nltk_data]       date!\n"
     ]
    },
    {
     "data": {
      "application/vnd.jupyter.widget-view+json": {
       "model_id": "150e45bc8d7944d49915f6978cdde314",
       "version_major": 2,
       "version_minor": 0
      },
      "text/plain": [
       "HBox(children=(HTML(value=''), FloatProgress(value=0.0, max=179108.0), HTML(value='')))"
      ]
     },
     "metadata": {},
     "output_type": "display_data"
    },
    {
     "name": "stdout",
     "output_type": "stream",
     "text": [
      "\n",
      "[[('If', 'IN'), ('I', 'PRP'), ('smelled', 'VBD'), ('the', 'DT'), ('scent', 'NN'), ('of', 'IN'), ('hand', 'NN'), ('sanitizers', 'NNS'), ('today', 'NN'), ('on', 'IN'), ('someone', 'NN'), ('in', 'IN'), ('the', 'DT'), ('past', 'JJ'), (',', ','), ('I', 'PRP'), ('would', 'MD'), ('think', 'VB'), ('they', 'PRP'), ('were', 'VBD'), ('so', 'RB'), ('intoxicated', 'JJ'), ('that…', 'NN'), ('https', 'NN'), (':', ':'), ('//t.co/QZvYbrOgb0', 'NN')]]\n"
     ]
    }
   ],
   "source": [
    "import nltk\n",
    "nltk.download('averaged_perceptron_tagger')\n",
    "df['POS_tokens'] = df['tokens_sentences'].progress_map(lambda tokens_sentences: [pos_tag(tokens) for tokens in tokens_sentences])\n",
    "print(df['POS_tokens'].head(1).tolist()[0][:3])"
   ]
  },
  {
   "cell_type": "code",
   "execution_count": 26,
   "metadata": {},
   "outputs": [],
   "source": [
    "from nltk.corpus import wordnet\n",
    "\n",
    "def get_wordnet_pos(treebank_tag):\n",
    "\n",
    "    if treebank_tag.startswith('J'):\n",
    "        return wordnet.ADJ\n",
    "    elif treebank_tag.startswith('V'):\n",
    "        return wordnet.VERB\n",
    "    elif treebank_tag.startswith('N'):\n",
    "        return wordnet.NOUN\n",
    "    elif treebank_tag.startswith('R'):\n",
    "        return wordnet.ADV\n",
    "    else:\n",
    "        return ''\n",
    "\n",
    "from nltk.stem.wordnet import WordNetLemmatizer\n",
    "lemmatizer = WordNetLemmatizer()"
   ]
  },
  {
   "cell_type": "code",
   "execution_count": 28,
   "metadata": {},
   "outputs": [
    {
     "name": "stderr",
     "output_type": "stream",
     "text": [
      "[nltk_data] Downloading package wordnet to\n",
      "[nltk_data]     /Users/gazimahmud/nltk_data...\n",
      "[nltk_data]   Package wordnet is already up-to-date!\n"
     ]
    },
    {
     "data": {
      "application/vnd.jupyter.widget-view+json": {
       "model_id": "0ccd4f7081e24785b587b02bea0c9dc7",
       "version_major": 2,
       "version_minor": 0
      },
      "text/plain": [
       "HBox(children=(HTML(value=''), FloatProgress(value=0.0, max=179108.0), HTML(value='')))"
      ]
     },
     "metadata": {},
     "output_type": "display_data"
    },
    {
     "name": "stdout",
     "output_type": "stream",
     "text": [
      "\n"
     ]
    }
   ],
   "source": [
    "#!pip3 install wordnet\n",
    "nltk.download('wordnet')\n",
    "# Lemmatizing each word with its POS tag, in each sentence\n",
    "df['tokens_sentences_lemmatized'] = df['POS_tokens'].progress_map(\n",
    "    lambda list_tokens_POS: [\n",
    "        [\n",
    "            lemmatizer.lemmatize(el[0], get_wordnet_pos(el[1])) \n",
    "            if get_wordnet_pos(el[1]) != '' else el[0] for el in tokens_POS\n",
    "        ] \n",
    "        for tokens_POS in list_tokens_POS\n",
    "    ]\n",
    ")"
   ]
  },
  {
   "cell_type": "code",
   "execution_count": 29,
   "metadata": {},
   "outputs": [
    {
     "data": {
      "text/plain": [
       "[['If',\n",
       "  'I',\n",
       "  'smell',\n",
       "  'the',\n",
       "  'scent',\n",
       "  'of',\n",
       "  'hand',\n",
       "  'sanitizers',\n",
       "  'today',\n",
       "  'on',\n",
       "  'someone',\n",
       "  'in',\n",
       "  'the',\n",
       "  'past',\n",
       "  ',',\n",
       "  'I',\n",
       "  'would',\n",
       "  'think',\n",
       "  'they',\n",
       "  'be',\n",
       "  'so',\n",
       "  'intoxicated',\n",
       "  'that…',\n",
       "  'http',\n",
       "  ':',\n",
       "  '//t.co/QZvYbrOgb0']]"
      ]
     },
     "execution_count": 29,
     "metadata": {},
     "output_type": "execute_result"
    }
   ],
   "source": [
    "df['tokens_sentences_lemmatized'].head(1).tolist()[0][:3]"
   ]
  },
  {
   "cell_type": "markdown",
   "metadata": {},
   "source": [
    "## Regrouping tokens and removing stop words"
   ]
  },
  {
   "cell_type": "code",
   "execution_count": 30,
   "metadata": {},
   "outputs": [
    {
     "name": "stderr",
     "output_type": "stream",
     "text": [
      "[nltk_data] Downloading package stopwords to\n",
      "[nltk_data]     /Users/gazimahmud/nltk_data...\n",
      "[nltk_data]   Package stopwords is already up-to-date!\n"
     ]
    }
   ],
   "source": [
    "from nltk.corpus import stopwords\n",
    "nltk.download('stopwords')\n",
    "stopwords_verbs = ['say', 'get', 'go', 'know', 'may', 'need', 'like', 'make', 'see', 'want', 'come', 'take', 'use', 'would', 'can']\n",
    "stopwords_other = ['one', 'mr', 'bbc', 'image', 'getty', 'de', 'en', 'caption', 'also', 'copyright', 'something']\n",
    "my_stopwords = stopwords.words('English') + stopwords_verbs + stopwords_other"
   ]
  },
  {
   "cell_type": "code",
   "execution_count": 31,
   "metadata": {},
   "outputs": [],
   "source": [
    "from itertools import chain # to flatten list of sentences of tokens into list of tokens"
   ]
  },
  {
   "cell_type": "code",
   "execution_count": 32,
   "metadata": {},
   "outputs": [],
   "source": [
    "df['tokens'] = df['tokens_sentences_lemmatized'].map(lambda sentences: list(chain.from_iterable(sentences)))\n",
    "df['tokens'] = df['tokens'].map(lambda tokens: [token.lower() for token in tokens if token.isalpha() \n",
    "                                                    and token.lower() not in my_stopwords and len(token)>1])"
   ]
  },
  {
   "cell_type": "code",
   "execution_count": 33,
   "metadata": {},
   "outputs": [
    {
     "data": {
      "text/plain": [
       "['smell',\n",
       " 'scent',\n",
       " 'hand',\n",
       " 'sanitizers',\n",
       " 'today',\n",
       " 'someone',\n",
       " 'past',\n",
       " 'think',\n",
       " 'intoxicated',\n",
       " 'http']"
      ]
     },
     "execution_count": 33,
     "metadata": {},
     "output_type": "execute_result"
    }
   ],
   "source": [
    "df['tokens'].head(1).tolist()[0][:30]"
   ]
  },
  {
   "cell_type": "markdown",
   "metadata": {},
   "source": [
    "## Latent Dirichlet Allocation (LDA)"
   ]
  },
  {
   "cell_type": "markdown",
   "metadata": {},
   "source": [
    "## Data prep"
   ]
  },
  {
   "cell_type": "code",
   "execution_count": 34,
   "metadata": {},
   "outputs": [],
   "source": [
    "#!pip3 install gensim\n",
    "from gensim.models import Phrases"
   ]
  },
  {
   "cell_type": "code",
   "execution_count": 36,
   "metadata": {},
   "outputs": [],
   "source": [
    "tokens = df['tokens'].tolist()\n",
    "bigram_model = Phrases(tokens)\n",
    "trigram_model = Phrases(bigram_model[tokens], min_count=1)\n",
    "tokens = list(trigram_model[bigram_model[tokens]])"
   ]
  },
  {
   "cell_type": "markdown",
   "metadata": {},
   "source": [
    "#### Prepare objects for LDA gensim implementation"
   ]
  },
  {
   "cell_type": "code",
   "execution_count": 37,
   "metadata": {},
   "outputs": [],
   "source": [
    "from gensim import corpora"
   ]
  },
  {
   "cell_type": "code",
   "execution_count": 38,
   "metadata": {},
   "outputs": [],
   "source": [
    "dictionary_LDA = corpora.Dictionary(tokens)\n",
    "dictionary_LDA.filter_extremes(no_below=3)\n",
    "corpus = [dictionary_LDA.doc2bow(tok) for tok in tokens]"
   ]
  },
  {
   "cell_type": "code",
   "execution_count": 39,
   "metadata": {},
   "outputs": [],
   "source": [
    "from gensim import models\n",
    "import numpy as np"
   ]
  },
  {
   "cell_type": "code",
   "execution_count": 41,
   "metadata": {},
   "outputs": [
    {
     "name": "stdout",
     "output_type": "stream",
     "text": [
      "CPU times: user 1min 26s, sys: 468 ms, total: 1min 26s\n",
      "Wall time: 1min 27s\n"
     ]
    }
   ],
   "source": [
    "np.random.seed(123456)\n",
    "num_topics = 20\n",
    "%time lda_model = models.LdaModel(corpus, num_topics=num_topics, \\\n",
    "                                  id2word=dictionary_LDA, \\\n",
    "                                  passes=4, alpha=[0.01]*num_topics, \\\n",
    "                                  eta=[0.01]*len(dictionary_LDA.keys()))"
   ]
  },
  {
   "cell_type": "code",
   "execution_count": 42,
   "metadata": {},
   "outputs": [
    {
     "name": "stdout",
     "output_type": "stream",
     "text": [
      "0: 0.085*\"number\" + 0.064*\"school\" + 0.063*\"lockdown\" + 0.052*\"find\" + 0.038*\"daily\" + 0.034*\"rise\" + 0.033*\"cdc\" + 0.020*\"actually\" + 0.019*\"less\" + 0.019*\"company\" + 0.018*\"deaths\" + 0.017*\"add\" + 0.017*\"employee\" + 0.015*\"full\" + 0.015*\"california\" + 0.014*\"office\" + 0.014*\"possible\" + 0.014*\"instead\" + 0.014*\"hour\" + 0.014*\"require\"\n",
      "\n",
      "1: 0.070*\"read\" + 0.052*\"give\" + 0.051*\"really\" + 0.048*\"wear_mask\" + 0.040*\"people\" + 0.038*\"via\" + 0.036*\"increase\" + 0.035*\"usa\" + 0.028*\"post\" + 0.027*\"already\" + 0.026*\"dead\" + 0.019*\"hey\" + 0.016*\"despite\" + 0.016*\"meet\" + 0.016*\"reason\" + 0.016*\"thread\" + 0.014*\"tweet\" + 0.013*\"nearly\" + 0.013*\"policy\" + 0.011*\"twitter\"\n",
      "\n",
      "2: 0.069*\"even\" + 0.055*\"well\" + 0.044*\"total\" + 0.035*\"last\" + 0.034*\"america\" + 0.032*\"safe\" + 0.026*\"cause\" + 0.026*\"person\" + 0.025*\"team\" + 0.025*\"important\" + 0.025*\"someone\" + 0.023*\"americans\" + 0.018*\"enough\" + 0.017*\"money\" + 0.016*\"remain\" + 0.014*\"saw\" + 0.013*\"covidiots\" + 0.012*\"push\" + 0.012*\"active_case\" + 0.012*\"prevent\"\n",
      "\n",
      "3: 0.313*\"amp\" + 0.047*\"start\" + 0.038*\"back\" + 0.037*\"family\" + 0.035*\"talk\" + 0.026*\"include\" + 0.023*\"kill\" + 0.021*\"time\" + 0.019*\"quarantine\" + 0.018*\"top\" + 0.016*\"woman\" + 0.015*\"gop\" + 0.014*\"people\" + 0.014*\"wear\" + 0.014*\"reach\" + 0.013*\"especially\" + 0.012*\"everything\" + 0.012*\"trump\" + 0.011*\"game\" + 0.011*\"god\"\n",
      "\n",
      "4: 0.218*\"case\" + 0.074*\"report\" + 0.061*\"mask\" + 0.057*\"coronavirus\" + 0.052*\"virus\" + 0.040*\"first\" + 0.024*\"close\" + 0.021*\"community\" + 0.020*\"cases\" + 0.018*\"local\" + 0.017*\"result\" + 0.016*\"run\" + 0.015*\"link\" + 0.015*\"online\" + 0.012*\"catch\" + 0.012*\"friday\" + 0.011*\"covid\" + 0.011*\"wish\" + 0.010*\"infect\" + 0.009*\"science\"\n",
      "\n",
      "5: 0.067*\"look\" + 0.049*\"right\" + 0.048*\"great\" + 0.043*\"another\" + 0.037*\"watch\" + 0.030*\"yet\" + 0.029*\"big\" + 0.022*\"travel\" + 0.021*\"protest\" + 0.018*\"expect\" + 0.017*\"vote\" + 0.016*\"stay\" + 0.016*\"official\" + 0.016*\"hold\" + 0.016*\"article\" + 0.016*\"least\" + 0.014*\"away\" + 0.014*\"county\" + 0.014*\"breaking\" + 0.014*\"people\"\n",
      "\n",
      "6: 0.052*\"support\" + 0.044*\"student\" + 0.041*\"continue\" + 0.039*\"global\" + 0.038*\"china\" + 0.038*\"must\" + 0.031*\"bad\" + 0.026*\"free\" + 0.025*\"sign\" + 0.024*\"president\" + 0.024*\"total_case\" + 0.023*\"allow\" + 0.022*\"early\" + 0.021*\"join\" + 0.021*\"visit\" + 0.019*\"ever\" + 0.017*\"food\" + 0.017*\"play\" + 0.017*\"stand\" + 0.015*\"service\"\n",
      "\n",
      "7: 0.115*\"test\" + 0.063*\"update\" + 0.039*\"thanks\" + 0.035*\"test_positive\" + 0.033*\"home\" + 0.033*\"check\" + 0.032*\"end\" + 0.025*\"best\" + 0.019*\"people\" + 0.018*\"move\" + 0.017*\"restriction\" + 0.016*\"expert\" + 0.016*\"pay\" + 0.016*\"symptom\" + 0.016*\"head\" + 0.016*\"guy\" + 0.016*\"leader\" + 0.015*\"fall\" + 0.014*\"almost\" + 0.013*\"demand\"\n",
      "\n",
      "8: 0.168*\"new\" + 0.061*\"due\" + 0.052*\"week\" + 0.043*\"show\" + 0.035*\"fight\" + 0.032*\"ask\" + 0.029*\"record\" + 0.026*\"study\" + 0.025*\"canada\" + 0.022*\"issue\" + 0.018*\"place\" + 0.018*\"affect\" + 0.017*\"national\" + 0.016*\"confirm\" + 0.015*\"research\" + 0.014*\"treatment\" + 0.012*\"nation\" + 0.012*\"old\" + 0.012*\"tonight\" + 0.011*\"available\"\n",
      "\n",
      "9: 0.079*\"work\" + 0.061*\"news\" + 0.039*\"uk\" + 0.034*\"change\" + 0.031*\"happen\" + 0.031*\"spread\" + 0.026*\"lead\" + 0.026*\"anyone\" + 0.025*\"ca\" + 0.025*\"hope\" + 0.023*\"face\" + 0.022*\"joebiden\" + 0.022*\"job\" + 0.018*\"situation\" + 0.018*\"maybe\" + 0.018*\"people\" + 0.017*\"problem\" + 0.016*\"focus\" + 0.016*\"begin\" + 0.015*\"point\"\n",
      "\n",
      "10: 0.082*\"many\" + 0.080*\"help\" + 0.064*\"good\" + 0.054*\"year\" + 0.050*\"way\" + 0.038*\"since\" + 0.029*\"us\" + 0.025*\"around\" + 0.025*\"without\" + 0.024*\"corona\" + 0.019*\"yesterday\" + 0.017*\"miss\" + 0.016*\"group\" + 0.016*\"power\" + 0.016*\"university\" + 0.014*\"people\" + 0.013*\"gt\" + 0.012*\"healthcare\" + 0.011*\"morning\" + 0.011*\"stay_safe\"\n",
      "\n",
      "11: 0.056*\"call\" + 0.039*\"hospital\" + 0.034*\"never\" + 0.033*\"two\" + 0.030*\"kid\" + 0.026*\"feel\" + 0.025*\"lot\" + 0.024*\"leave\" + 0.022*\"might\" + 0.021*\"seem\" + 0.019*\"question\" + 0.019*\"little\" + 0.018*\"information\" + 0.016*\"low\" + 0.016*\"turn\" + 0.015*\"age\" + 0.015*\"reopen\" + 0.015*\"event\" + 0.014*\"pm\" + 0.014*\"effect\"\n",
      "\n",
      "12: 0.072*\"could\" + 0.042*\"infection\" + 0.036*\"late\" + 0.036*\"million\" + 0.035*\"part\" + 0.035*\"crisis\" + 0.033*\"outbreak\" + 0.031*\"open\" + 0.029*\"believe\" + 0.027*\"hit\" + 0.022*\"discuss\" + 0.022*\"story\" + 0.021*\"medium\" + 0.021*\"deal\" + 0.017*\"future\" + 0.017*\"force\" + 0.015*\"flu\" + 0.014*\"second\" + 0.013*\"area\" + 0.013*\"germany\"\n",
      "\n",
      "13: 0.120*\"day\" + 0.084*\"still\" + 0.054*\"government\" + 0.034*\"data\" + 0.032*\"risk\" + 0.032*\"follow\" + 0.029*\"covid\" + 0.027*\"put\" + 0.027*\"month\" + 0.022*\"set\" + 0.022*\"hear\" + 0.017*\"govt\" + 0.016*\"sick\" + 0.016*\"fact\" + 0.015*\"challenge\" + 0.015*\"level\" + 0.014*\"fear\" + 0.014*\"staff\" + 0.013*\"among\" + 0.013*\"send\"\n",
      "\n",
      "14: 0.076*\"realdonaldtrump\" + 0.065*\"think\" + 0.045*\"keep\" + 0.044*\"trump\" + 0.040*\"let\" + 0.037*\"please\" + 0.033*\"much\" + 0.030*\"care\" + 0.030*\"everyone\" + 0.027*\"learn\" + 0.025*\"high\" + 0.023*\"real\" + 0.022*\"every\" + 0.017*\"control\" + 0.017*\"far\" + 0.017*\"friend\" + 0.015*\"economy\" + 0.014*\"time\" + 0.014*\"testing\" + 0.014*\"man\"\n",
      "\n",
      "15: 0.235*\"coronavirus\" + 0.155*\"pandemic\" + 0.044*\"vaccine\" + 0.034*\"health\" + 0.025*\"child\" + 0.022*\"alert\" + 0.020*\"https\" + 0.018*\"sure\" + 0.015*\"australia\" + 0.015*\"global_pandemic_news\" + 0.014*\"covid\" + 0.013*\"become\" + 0.012*\"education\" + 0.012*\"listen\" + 0.011*\"amid\" + 0.011*\"trump\" + 0.010*\"people_die\" + 0.009*\"break\" + 0.009*\"outside\" + 0.009*\"likely\"\n",
      "\n",
      "16: 0.076*\"august\" + 0.073*\"die\" + 0.040*\"share\" + 0.029*\"always\" + 0.027*\"help_slow_spread_identify\" + 0.027*\"city\" + 0.027*\"daily_even\" + 0.027*\"risk_case_sooner_symptom\" + 0.025*\"wonder\" + 0.021*\"recover\" + 0.018*\"count\" + 0.016*\"course\" + 0.015*\"fuck\" + 0.015*\"death_toll\" + 0.014*\"compare\" + 0.013*\"manage\" + 0.012*\"present\" + 0.012*\"resident\" + 0.012*\"isolation\" + 0.011*\"water\"\n",
      "\n",
      "17: 0.148*\"death\" + 0.096*\"today\" + 0.055*\"world\" + 0.039*\"life\" + 0.033*\"live\" + 0.030*\"stop\" + 0.023*\"love\" + 0.019*\"lose\" + 0.019*\"protect\" + 0.017*\"saturday\" + 0.016*\"people\" + 0.016*\"us\" + 0.015*\"remember\" + 0.014*\"create\" + 0.014*\"public\" + 0.014*\"provide\" + 0.012*\"covid\" + 0.011*\"wait\" + 0.010*\"safety\" + 0.010*\"others\"\n",
      "\n",
      "18: 0.085*\"new_case\" + 0.058*\"business\" + 0.050*\"thing\" + 0.045*\"patient\" + 0.044*\"impact\" + 0.029*\"recovery\" + 0.029*\"bring\" + 0.025*\"long\" + 0.020*\"lie\" + 0.018*\"florida\" + 0.018*\"doctor\" + 0.017*\"true\" + 0.016*\"new_death\" + 0.016*\"rate\" + 0.012*\"survive\" + 0.012*\"base\" + 0.012*\"coronavirus_coronavirusupdate_coronaviruspandemic\" + 0.011*\"nyc\" + 0.011*\"pass\" + 0.011*\"new_case_new\"\n",
      "\n",
      "19: 0.099*\"india\" + 0.075*\"country\" + 0.067*\"state\" + 0.040*\"plan\" + 0.037*\"response\" + 0.034*\"tell\" + 0.030*\"try\" + 0.028*\"thank\" + 0.028*\"mean\" + 0.026*\"positive\" + 0.018*\"win\" + 0.017*\"yes\" + 0.017*\"order\" + 0.015*\"next\" + 0.014*\"return\" + 0.014*\"party\" + 0.013*\"experience\" + 0.013*\"people\" + 0.012*\"forget\" + 0.011*\"worker\"\n",
      "\n"
     ]
    }
   ],
   "source": [
    "for i,topic in lda_model.show_topics(formatted=True, num_topics=num_topics, num_words=20):\n",
    "    print(str(i)+\": \"+ topic)\n",
    "    print()"
   ]
  },
  {
   "cell_type": "code",
   "execution_count": 43,
   "metadata": {},
   "outputs": [],
   "source": [
    "document = '''If I smelled the scent of hand sanitizers today on someone in the past, I would think they were so intoxicated that‚Ä¶ https://t.co/QZvYbrOgb0\n",
    "Hey @Yankees @YankeesPR and @MLB - wouldn't it have made more sense to have the players pay their respects to the A‚Ä¶ https://t.co/1QvW0zgyPu\n",
    "@diane3443 @wdunlap @realDonaldTrump Trump never once claimed #COVID19 was a hoax. We all claim that this effort to‚Ä¶ https://t.co/Jkk8vHWHb3\n",
    "@brookbanktv The one gift #COVID19 has give me is an appreciation for the simple things that were always around me‚Ä¶ https://t.co/Z0pOAlFXcW\n",
    "\"25 July : Media Bulletin on Novel #CoronaVirusUpdates #COVID19 \n",
    "@kansalrohit69 @DrSyedSehrish @airnewsalerts @ANI‚Ä¶ https://t.co/MN0EEcsJHh\"\n",
    "#coronavirus #covid19 deaths continue to rise. It's almost  as bad as it ever was.  Politicians and businesses want‚Ä¶ https://t.co/hXMHooXX2C\n",
    "How #COVID19 Will Change Work in General (and recruiting, specifically) via/ @ProactiveTalent #Recruiting‚Ä¶ https://t.co/bjZxzGPMbK\n",
    "You now have to wear face coverings when out shopping - this includes a visit to your local Community Pharmacy‚Ä¶ https://t.co/OSu5Q4kdd7\n",
    "\"Praying for good health and recovery of @ChouhanShivraj .\n",
    "#covid19\n",
    "#covidPositive\"\n",
    "\"POPE AS GOD - Prophet Sadhu Sundar Selvaraj. Watch here at https://t.co/7X5RTyKVji \n",
    "\n",
    "#HurricaneHanna #COVID19‚Ä¶ https://t.co/06dZcGUnwL\"\n",
    "\"49K+ Covid19 cases still no response from \n",
    "@cbseindia29 @HRDMinistry @DrRPNishank.Please cancel the compartment exa‚Ä¶ https://t.co/kV2ZKmumu1\"\n",
    "\"Order here: https://t.co/4NUrGX6EmA\n",
    "\n",
    "#logo #graphicdesigner #logodesign #logodesinger #icon  #minimalist #Abstract‚Ä¶ https://t.co/0yPMoGqi9s\"\n",
    "üëãüèª@PattyHajdu @NavdeepSBains ‚Äî no one will be safe from #COVID19 until everyone is safe. Will you commit to ensure‚Ä¶ https://t.co/aWCJo6eKvC\n",
    "\"Let's all protect ourselves from #COVID19.\n",
    "It's real and the numbers are climbing up fast in the Continent.\n",
    "Let's n‚Ä¶ https://t.co/byMSfxltrw\"\n",
    "Rajasthan Government today started a Plasma Bank at Sawai Man Singh Hospital in Jaipur for treatment of COVID-19 pa‚Ä¶ https://t.co/cwfCcWyaDA\n",
    "\"Nagaland police on Covid-19 Awareness at City Tower Junction Dimapur.\n",
    "\n",
    "#Covid19 #keepsocialdistance‚Ä¶ https://t.co/WOvFMqhuEO\"\n",
    "\"July 25 #COVID19 update\n",
    "#TamilNadu - 6988\n",
    "Discharge- 7758\n",
    "People tested - 61729\n",
    "Actice cases - 52273\n",
    "#chennai - 1329\"\n",
    "Second wave of #COVID19 in Flanders..back to more #homework again... https://t.co/9swImZACMN\n",
    "\"It is during our darkest moments that we must focus to see the #light.~Aristotle \n",
    "https://t.co/YLlS4Kj85c‚Ä¶ https://t.co/tFJB7l1Kaw\"\n",
    "COVID Update: The infection rate in Florida is following the natural curve that experts predicted if the initial cu‚Ä¶ https://t.co/hmEwE747WK\n",
    "\"@EvanAKilgore @realDonaldTrump Good Patriots!\n",
    "Call to Volunteer to be an Election Judge. \n",
    "Polls cannot open without‚Ä¶ https://t.co/qA3mA4zedZ\"\n",
    "Coronavirus - South Africa: COVID-19 update for South Africa (24 July 2020) @nicd_sa @MoetiTshidi @WHOAFRO‚Ä¶ https://t.co/WQzAdkpXC5\n",
    "@JimBnntt Your image doesn't list a source, but I'd be careful with overall \"risk of dying\" statistics related to‚Ä¶ https://t.co/GRjVq8vYMy\n",
    "\"The first comprehensive review of #WASH &amp; #COVID19.\n",
    "\n",
    "Analysis: key ways in which WASH can help reduce transmission‚Ä¶ https://t.co/eCsfDmo9b4\"\n",
    "Holy water in times of #COVID19 https://t.co/YaZ49yxL27\n",
    "\"#Kolar\n",
    "Need #Blood Type :  B-positive\n",
    "At : Jalappa Hospital\n",
    "Blood Component : Need Plasma from B+ve #COVID19 recove‚Ä¶ https://t.co/XtgxULc02Z\"\n",
    "Our Munitions Response Team in #BosniaandHerzegovina modified ops and adopted masks, disinfectants, and sanitizers‚Ä¶ https://t.co/lMbKXlw1wQ\n",
    "I can imagine the same people profiting off the human suffering of #COVID19 will be studying these maps to make 207‚Ä¶ https://t.co/NElsmGju2H\n",
    "\"#TNCoronaUpdate\n",
    "\n",
    "#TN crosses 2 lakh mark and 1,50,055 ppp has recovered so far.\n",
    "\n",
    "#COVID19 positive today 6988/total‚Ä¶ https://t.co/QdJkpcc7qv\"\n",
    "\"@ratasjuri TAX Reform\n",
    "\n",
    "Tax-free minimum:\n",
    "For a company of five hundred thousand euros per year.\n",
    "\n",
    "Tax-free minimum:‚Ä¶ https://t.co/gD0Q6ujjbl\"\n",
    "#FEMA acknowledges #PuertoRico lacks rebuilt homes and a hospital to survive #COVID19  https://t.co/PLXqKc5K5d\n",
    "\"Actor @VishalKOfficial and his father Mr.G.K.Reddy tested positive for #Covid19 15/20 days back..\n",
    "\n",
    "While #Vishal 's‚Ä¶ https://t.co/V5Lo8NRLWY\"\n",
    "An update on the total #covid19 cases, recoveries, and deaths reported in countries in #Africa.  See the total numb‚Ä¶ https://t.co/eqCJ3EhwRi\n",
    "@unionwill @megawedgy @jjhorgan ‚ÄúRegarding the community outbreak of #COVID19 on Haida Gwaii: 13 cases (one recover‚Ä¶ https://t.co/rJzuY60qY7\n",
    "A safe place to visit? Here is what our guests said, \"The hotel were meticulous in applying hand sanitation and als‚Ä¶ https://t.co/PVCji8s1Eg\n",
    "Our CEO @RamneekHH live with @SASCO_Jikelele WSU talking about, ‚ÄúThe effects of Covid-19 on students‚Äù.‚Ä¶ https://t.co/VMN2LxHAds\n",
    "@NicoleKowalski5 @chrisdameanor19 I'm feeling a little anxious because #COVID19 seems to have detracted everyone's‚Ä¶ https://t.co/A3mHdXamLg\n",
    "Actionables for a healthy recovery from #COVID19 #climate  https://t.co/crGlKZOz5Z\n",
    "\"@jfoster2019 @bbclaurak Well #BorisJohnson might have understood more if he hadn't missed #5COBRA meeting #Five \n",
    "In‚Ä¶ https://t.co/mQPAgCYGn2\"\n",
    "\"We released two new #COVID19 podcast episodes this week:\n",
    "-Technology Platforms Used to Conduct Telehealth Visits\n",
    "-C‚Ä¶ https://t.co/G94VeYVCzk\"\n",
    "#PlayYourPart in the fight against #COVID19 . Each one of us can make a difference in containing the spread, lets‚Ä¶ https://t.co/fRzLgrS8Qf\n",
    "Britain didn't understand #Covid19 for months, while plenty of other countries did understand it and took effective‚Ä¶ https://t.co/KV2CAQ6skZ\n",
    "Volume for those at the back please. üîä #COVID19 https://t.co/d0pn2Bv2Hx\n",
    "#Delhi reports 1,142 #COVID19 positive cases and 29 deaths on Saturday. Death toll rises to 3,806, reports ANI quot‚Ä¶ https://t.co/JxsVpWMRQS\n",
    "@realDonaldTrump Venezuela's Economy/Budget are tied to Oil like Louisiana's. Funny how the right-wing \"example\" of‚Ä¶ https://t.co/qvHvKlTbbv\n",
    "\"#TamilNadu | #COVID19 |  25th July\n",
    "\n",
    "‚óè  TN - 6,988 (Highest Spike)\n",
    "\n",
    "‚óè  Total Cases  - 2,06,737\n",
    "\n",
    "‚óè  Chennai - 1,329‚Ä¶ https://t.co/X8zgUzC0Gr\"\n",
    "\"Why has Ruto not eulogisied Mkapa!! \n",
    "Asking for Moses Kuria \n",
    "\n",
    "Raila \n",
    "#RutoSwindlingGEMA \n",
    "#COVID19\"\n",
    "Coronavirus Testing Fiasco: St Mirren¬†have pledged to undertake an \"urgent review\" of their Covid-19 testing proced‚Ä¶ https://t.co/0MCEUERQ74\n",
    "Coronavirus Testing Fiasco: St Mirren¬†have pledged to undertake an \"urgent review\" of their Covid-19 testing proced‚Ä¶ https://t.co/AkxvIaD1Pr\n",
    "\"#TamilNadu | #COVID19 |  25th July\n",
    "‚óè  TN - 6,988 (Highest Spike)\n",
    "‚óè  Total Cases  - 2,06,737\n",
    "‚óè  Chennai - 1,329\n",
    "‚óè  T‚Ä¶ https://t.co/ZWFKJwZdEo\"\n",
    "Coronavirus Testing Fiasco: St Mirren¬†have pledged to undertake an \"urgent review\" of their Covid-19 testing proced‚Ä¶ https://t.co/Ifse0whbVE\n",
    "Coronavirus Testing Fiasco: St Mirren¬†have pledged to undertake an \"urgent review\" of their Covid-19 testing proced‚Ä¶ https://t.co/dx8Yt7CvsM\n",
    "Coronavirus Testing Fiasco: St Mirren¬†have pledged to undertake an \"urgent review\" of their Covid-19 testing proced‚Ä¶ https://t.co/h7p44XIzuk\n",
    "Testing per 10 lakh population in Jammu and Kashmir has reached 44,744 as against 12,742 in the country; Recovery r‚Ä¶ https://t.co/jmxhF67V5V\n",
    "Coronavirus Testing Fiasco: St Mirren¬†have pledged to undertake an \"urgent review\" of their Covid-19 testing proced‚Ä¶ https://t.co/bfel6gyXIq\n",
    "Coronavirus Testing Fiasco: St Mirren¬†have pledged to undertake an \"urgent review\" of their Covid-19 testing proced‚Ä¶ https://t.co/eu5g2djZYx\n",
    ".@nytimes reporting that yesterday 1145 people died of #COVID19 in the USA. Over 73K new cases were reported. Serio‚Ä¶ https://t.co/sFwP0v7FEB\n",
    "Crazy that the world has come to this but as Americans we will fight to get through this!üá∫üá∏üá∫üá∏üá∫üá∏üá∫üá∏üá∫üá∏ #covid19\n",
    "@jimsciutto @JoAnnBaldwin55 People whose relatives have died from #COVID19 should file a class action lawsuit against Sinclair Broadcasting.\n",
    "\"US #CoronaVirus: 4,249,584 cases and 148,521 deaths reported in the United States to date.\n",
    "\n",
    "1,257 new cases and 31‚Ä¶ https://t.co/j4TreMnKW5\"\n",
    "\"#IndiaFightsCorona :\n",
    "\n",
    "üìç Do you agree that a mask is one of the most powerful accessories we have to fight against t‚Ä¶ https://t.co/5VauORkmjG\"\n",
    "I miss isopropyl alcohol so much!!!! Ethanol in hand sanitizer smells like I poured tequila on my hands ü§¢ #COVID19\n",
    "GVMC sanitation staff carrying out the regular sanitation activities to keep the city clean and prevent the spread‚Ä¶ https://t.co/bkrQ5x6BCK\n",
    "@SonuSood sir mom is in ICU due to COVID just want prayers from you and everyone who is listening you . #COVID19\n",
    "Due to #COVID19 aka #Coronavirus Ill be sending the first 500 people to like &amp; retweet this $300 -$1500 through Cas‚Ä¶ https://t.co/3MkuUsGBDk\n",
    "\"This video had me in stitches\n",
    "https://t.co/tadF3G6qKJ #obesity #ÿ≤Ÿàÿßÿ¨_ÿ±ÿßŸÉÿßŸÜ_ÿßŸÑÿ≠ÿ±ÿ®Ÿä #carryminati #my200vsbutch200‚Ä¶ https://t.co/fsZ8NTuVDg\"\n",
    "\"See this Instagram post by @facts.covid19 https://t.co/glmd51L1OJ \n",
    "facts.covid19 Deaths rates not rising in lockste‚Ä¶ https://t.co/SeZieeSxAk\"\n",
    "Local government sales tax revenue dropped 27 percent year-to-year in the second quarter, thanks to #COVID19 shutdo‚Ä¶ https://t.co/oDky9LzrV5\n",
    "Look at Lil‚Äô Donny Micro Dick go!! What an astounding achievement of brilliance + cognitive capabilities. Somebody‚Ä¶ https://t.co/82aEo6gL3q\n",
    "\"While you at it, please follow me\n",
    "\n",
    "https://t.co/KheirQEh6Z\n",
    "\n",
    "#Fergusons #DurbanJuly #alreadyvideo #COVID19 #WiseUp https://t.co/h1TYdOgjwv\"\n",
    "\"Concealed Nation 1 Million Giveaway https://t.co/HaMym0cBe3 \n",
    "I put my family's safety before all others, criminals‚Ä¶ https://t.co/7QQxVLWqZd\"\n",
    "Check out Angel's beautiful mask and hair bow designs at https://t.co/BpmP8tRs7M #etsy #epiconetsy #masksforsale‚Ä¶ https://t.co/fgl69zjMyq\n",
    "Thread by @DrZoeHyde (based on international research and evidence) 1. Updated thread on children and #COVID19, sum‚Ä¶ https://t.co/A1xWVotp75\n",
    "\"1 municipality reports one new fatality due to #COVID19, compared to yesterday.\n",
    "\n",
    "1 new fatality is located and 0 fa‚Ä¶ https://t.co/6iJ5lV7ZqR\"\n",
    "When your home walls need an upgradation, always opt for the experts. Hire #MumbaiPainters and let your walls find‚Ä¶ https://t.co/Kb5Yv2ZS9Z\n",
    "\"Covid to shrink power sector growth, take discoms back to pre-UDAY era\n",
    "\n",
    "\n",
    "@fabeha_monir, a vi‚Ä¶ https://t.co/q3f9kP8rsq\"\n",
    "\"@Haggis_UK ‚ÄúI think the government has hugely overestimated the danger of the disease‚Äù\n",
    "I wonder if he‚Äôd be brave en‚Ä¶ https://t.co/gWJc6nUKqo\"\n",
    "By the time you see a spike in #Covid19 cases, it isvery hard to reverse it without drastic lockdown. By the time y‚Ä¶ https://t.co/A3S4AK3JH4\n",
    "@realDonaldTrump @WhiteHouse See what your #political games with #Covid19 have achieved? This is not only shameful‚Ä¶ https://t.co/JXvuzUqwfC\n",
    "Hi long time no see...... In preparation for us reopening we have been doing our homework and some...... #clean‚Ä¶ https://t.co/GjEe5w9uY2\n",
    "@theJagmeetSingh @MatthewGreenNDP you took money at the beginning of the pandemic from woman front line workers who‚Ä¶ https://t.co/NXYIA38Rj6\n",
    "How Ireland built its COVID-19 contract tracing app, which is so successful that U, S. states want to use it‚Ä¶ https://t.co/f0DavA6psh\n",
    "\"Rakesh Sharma best business Coach in India\n",
    "Website: https://t.co/oG44LxC2Gg\n",
    "#salescoach\n",
    "#BusinessCoach \n",
    "#salesforce‚Ä¶ https://t.co/GkipPLJMX9\"\n",
    "\"Think the link between 5G and #COVID19 is the stuff of loony conspiracy-theories?\n",
    "Think again: this screen-shot is‚Ä¶ https://t.co/UFXNtHGa7L\"\n",
    "#NSTworld There will not be a #NationalDayRally (#NDR) this year, due to safe distancing requirements as a result o‚Ä¶ https://t.co/XJMZjyPCrn\n",
    "The cost of preventing further pandemics over the next decade by protecting wildlife and forests would equate to ju‚Ä¶ https://t.co/8yqpH3GrLf\n",
    "\"Learn new things during this period \n",
    "2d and 3d animations training ongoing...\n",
    "Click the link below to join the What‚Ä¶ https://t.co/lLovm5cWPi\"\n",
    "\"2,000 women lawyers write to #AmitShah seeking 5 Lakh Loan per financially drained lawyer.\n",
    "#COVID19 #Coronavirus \n",
    "https://t.co/JEjVTeCjEn\"\n",
    "I literally am using my own head to make decisions on safety from #COVID19 as government are creating the most conf‚Ä¶ https://t.co/Kji4e3yBty\n",
    "OK I'm angry now. I cannot believe the stupidity there is out there about #COVID19. This virus kills. How many must‚Ä¶ https://t.co/kNBiYfPTXB\n",
    "#DurbanJuly  It's that weekend Y,all... It's a pity that this year we are facing #COVID19 and we can't go in person‚Ä¶ https://t.co/k451xx2Ynv\n",
    "Let's give it a try #alreadyvideo #COVID19 #HurricaneHanna https://t.co/2HChuAfNHy\n",
    "Shout out to Earth. Hands down the worst reaction to a ‚Äúemergency‚Äù I‚Äôve ever seen. The Lottery never shut down and‚Ä¶ https://t.co/wLGZ8wHymT\n",
    "\"#TamilNadu | #COVID19 |  25th July\n",
    "\n",
    "\n",
    "My latest on #FoxNews - #COVID19 keeps Wish Children waiting as #WaltDisneyWorld re-opens. @GKTWVillage unable to b‚Ä¶ https://t.co/jXCXwifFTb\n",
    "@Prof_Wombat @vickihickory @ROhsolovely @realDonaldTrump Imagine thinking your toddler-in-chief didn't ignore it ja‚Ä¶ https://t.co/MtM8ESVchV\n",
    ".@headout with a dashboard to boost post-#COVID19 #travel https://t.co/0gnRgqvLlh\n",
    "#coronavirus #COVID19 disproportionately affecting communities of color, especially #Hispanic #Latinx ones in my ho‚Ä¶ https://t.co/01gV4rcK1u\n",
    "As debates ensue about reopening schools üè´ amid #COVID19, @WomenDeliver Young Leader @olorunisola8 of #Nigeria says‚Ä¶ https://t.co/EGkaAKXGym\n",
    "Companies must protect their workforce‚Äôs physical and mental health during the crisis. The use of smart technology,‚Ä¶ https://t.co/uExGQbwx1I\n",
    "\"Today's cases:  92\n",
    "Total cases: 4102\n",
    "Today's sample: 602\n",
    "Today's cured: 45\n",
    "Total cured: 3233\n",
    "Today's death: 2\n",
    "Total‚Ä¶ https://t.co/tmrdKOWoma\"\n",
    "#DrKawana, Minister of Fisheries and Marine Resources, what‚Äôs the hold up now? Please release announce the names of‚Ä¶ https://t.co/WurEtJyKGX\n",
    "Highest ever number of new cases yesterday #coronavirus #covid19 #STAYatHOME https://t.co/oovQrvMviY\n",
    "@eldiablo0786 @outercircles @RedMajid @A34SafetyAction @BrumLeader @elaina22475794 @CllrMajid @AKAsusangreen‚Ä¶ https://t.co/AkiidjpCpe\n",
    "@toadmeister Yes, evidence has increased. Plus early WHO guidance was due to the global PPE shortage - priority to‚Ä¶ https://t.co/Emdvdhx9Nw\n",
    "@bubbaprog 350 school employees exposed to #COVID19 in Manatee County schools over the summer https://t.co/GxiYb61ay0\n",
    "@BenJamesPhotos Italy #BenPC  #LOCKDOWNPHOTOCHALLENGE #COVID19 https://t.co/27jyDBhbMc\n",
    "\"Cum Check It Out. Ill DM You Nudes!\n",
    "https://t.co/93MX6QIvAS\n",
    "#onlyfansbabe #ihaveajoke #onlyfansgirl #alreadyvideo‚Ä¶ https://t.co/VHgsyRMeiM\"\n",
    "If CM of Madhya Pradesh is tested positive for COVID, then Scindia should also be tested for #COVID19.\n",
    "Four mayors reflect on their evolving response to the coronavirus pandemic https://t.co/TMqFfkPjcC  üëà click the lin‚Ä¶ https://t.co/ZmqzTU7Nsv\n",
    "\"Bihar witnesses biggest single-day spike of 2,803 new #Covid19 cases\n",
    "\n",
    "https://t.co/zTPksALE7T https://t.co/979SPKzt3w\"\n",
    "Lunch in #Amsterdam away from the mass tourists that have invaded so quickly during the #COVID19 pandemic ! #travel https://t.co/DBCPWA0Ao9\n",
    "\"We've captured a snapshot of the amazing VCSE response to the #COVID19 pandemic in Salford. \n",
    "\n",
    "We want to say thank‚Ä¶ https://t.co/kPum9Ajq72\"\n",
    "About 22,000 nonprofits will eventually close their doors for good as a result of the current economic crisis, acco‚Ä¶ https://t.co/2PSnJgFVfd\n",
    "Punjab Govt Warns People Not to Click on Any URL Circulated via SMS/WhatsApp Claiming COVID-19 Relief Package of Rs‚Ä¶ https://t.co/tOVrae0N2V\n",
    "The worst type of spread. #COVID19 #COVID„Éº19 #COVIDIOTS https://t.co/zyhtCU0A4B\n",
    "\"Wells Fargo Tightens Purse Strings to Ride Out Coronavirus Pandemic \n",
    "\n",
    "\n",
    "#facts #SaturdayMotivation #truth‚Ä¶ https://t.co/Cl9uVqkTUK\"\n",
    "#COVID19:  #UttarPradesh CM @myogiadityanath directs officials to enhance #COVID-19 testing capacity to one lakh te‚Ä¶ https://t.co/k67oJRG3Q8\n",
    "Sounds like Plandemic is about to get a second life. Here‚Äôs a thread from it‚Äôs first run, that debunks its major cl‚Ä¶ https://t.co/uGOPrGxbCp\n",
    "@princesscaro85 @NVGOP @marquezjesso @andylukechoi @FlocchiniAmanda @LaCubanaMisfit You should know better. Trump,‚Ä¶ https://t.co/mEmjKjB4eN\n",
    "For me, someone who has been affected by social anxiety, wearing a face mask is amazing. I feel slightly hidden fro‚Ä¶ https://t.co/t5zBRcraUp\n",
    "@badbitchinaz I‚Äôd pay the Republicans to leave America #VoteBlue2020 #VoteForBiden #VoteBlueToEndThisNightmare‚Ä¶ https://t.co/bGRMueT7WS\n",
    "Vietnam‚Äôs high level of preparedness to prevent Covid-19 spread: Deputy PM #Vietnam #covid19 #coronavirus #ncov‚Ä¶ https://t.co/H2hJRzkEZl\n",
    "@KGeorgieva @Lenin You're totally wrong. Ecuador is the Latin American country with the most causable mortality wit‚Ä¶ https://t.co/w1xlNgLeSJ\n",
    "@CBCTheHouse @PattyHajdu @CochraneCBC #Covid19 Fatigue, people in front lines we cannot replace,  that is #Fatigue!‚Ä¶ https://t.co/8pk0Vik8gX\n",
    "We provided a North Devon tourist attraction with a digital #twowayradio solution even before #COVID19 struck. As w‚Ä¶ https://t.co/kLwJHahlkq\n",
    "Mask Print #1 (Londoners Wear Masks) https://t.co/N1zwBuf1No #MaskUp #mask #Masks #MaskMoaners #COVID19 #COVID„Éº19‚Ä¶ https://t.co/W7uBNQomP2\n",
    "\"#RepublicansForBidenNow #COVID19 \n",
    "Republican Group Uses Trump's Own Words Against Him In Searing Swing-State Ad‚Ä¶ https://t.co/9fhivsvvHf\"\n",
    "@SkyNews Of course it's #COVID19 and absolutely nothing to do with this diabolical government who had almost triple‚Ä¶ https://t.co/7JnGp3JLZW\n",
    "I had the opportunity to discuss the legacy of mistrust that Black communities have towards the medical community a‚Ä¶ https://t.co/6EBJDIzuZT\n",
    "How about everyone can spread #COVID19. Another study not accurate! https://t.co/8h5OC3AzYq\n",
    "Learning is fun, interesting and surprisingly quite easy. Let‚Äôs join WLF Nigeria Ambassadors to promote learning a‚Ä¶ https://t.co/rj1wtaf3uV\n",
    "Today's the day for #TheBigSpend to buy local &amp; support our #COVID19 rebuilding process. Shop at a local small busi‚Ä¶ https://t.co/4xXcPttzqg\n",
    "\"@realDonaldTrump You mean you actually did your JOB after almost 4 years of dodging it?\n",
    "\n",
    "\n",
    "\n",
    "What‚Äôs that word we use for people who willfully and intention‚Ä¶ https://t.co/6NUDsOh6zS\"\"'''\n",
    "tokens = word_tokenize(document)\n",
    "topics = lda_model.show_topics(formatted=True, num_topics=num_topics, num_words=20)\n",
    "#topics"
   ]
  },
  {
   "cell_type": "code",
   "execution_count": 44,
   "metadata": {},
   "outputs": [
    {
     "data": {
      "text/html": [
       "<div>\n",
       "<style scoped>\n",
       "    .dataframe tbody tr th:only-of-type {\n",
       "        vertical-align: middle;\n",
       "    }\n",
       "\n",
       "    .dataframe tbody tr th {\n",
       "        vertical-align: top;\n",
       "    }\n",
       "\n",
       "    .dataframe thead th {\n",
       "        text-align: right;\n",
       "    }\n",
       "</style>\n",
       "<table border=\"1\" class=\"dataframe\">\n",
       "  <thead>\n",
       "    <tr style=\"text-align: right;\">\n",
       "      <th></th>\n",
       "      <th>topic #</th>\n",
       "      <th>weight</th>\n",
       "      <th>words in topic</th>\n",
       "    </tr>\n",
       "  </thead>\n",
       "  <tbody>\n",
       "    <tr>\n",
       "      <th>0</th>\n",
       "      <td>0</td>\n",
       "      <td>0.04</td>\n",
       "      <td>0.085*\"number\" + 0.064*\"school\" + 0.063*\"lockd...</td>\n",
       "    </tr>\n",
       "    <tr>\n",
       "      <th>1</th>\n",
       "      <td>1</td>\n",
       "      <td>0.03</td>\n",
       "      <td>0.070*\"read\" + 0.052*\"give\" + 0.051*\"really\" +...</td>\n",
       "    </tr>\n",
       "    <tr>\n",
       "      <th>2</th>\n",
       "      <td>2</td>\n",
       "      <td>0.05</td>\n",
       "      <td>0.069*\"even\" + 0.055*\"well\" + 0.044*\"total\" + ...</td>\n",
       "    </tr>\n",
       "    <tr>\n",
       "      <th>3</th>\n",
       "      <td>3</td>\n",
       "      <td>0.04</td>\n",
       "      <td>0.313*\"amp\" + 0.047*\"start\" + 0.038*\"back\" + 0...</td>\n",
       "    </tr>\n",
       "    <tr>\n",
       "      <th>4</th>\n",
       "      <td>4</td>\n",
       "      <td>0.07</td>\n",
       "      <td>0.218*\"case\" + 0.074*\"report\" + 0.061*\"mask\" +...</td>\n",
       "    </tr>\n",
       "    <tr>\n",
       "      <th>5</th>\n",
       "      <td>5</td>\n",
       "      <td>0.03</td>\n",
       "      <td>0.067*\"look\" + 0.049*\"right\" + 0.048*\"great\" +...</td>\n",
       "    </tr>\n",
       "    <tr>\n",
       "      <th>6</th>\n",
       "      <td>6</td>\n",
       "      <td>0.04</td>\n",
       "      <td>0.052*\"support\" + 0.044*\"student\" + 0.041*\"con...</td>\n",
       "    </tr>\n",
       "    <tr>\n",
       "      <th>7</th>\n",
       "      <td>7</td>\n",
       "      <td>0.04</td>\n",
       "      <td>0.115*\"test\" + 0.063*\"update\" + 0.039*\"thanks\"...</td>\n",
       "    </tr>\n",
       "    <tr>\n",
       "      <th>8</th>\n",
       "      <td>8</td>\n",
       "      <td>0.05</td>\n",
       "      <td>0.168*\"new\" + 0.061*\"due\" + 0.052*\"week\" + 0.0...</td>\n",
       "    </tr>\n",
       "    <tr>\n",
       "      <th>9</th>\n",
       "      <td>9</td>\n",
       "      <td>0.03</td>\n",
       "      <td>0.079*\"work\" + 0.061*\"news\" + 0.039*\"uk\" + 0.0...</td>\n",
       "    </tr>\n",
       "    <tr>\n",
       "      <th>10</th>\n",
       "      <td>10</td>\n",
       "      <td>0.04</td>\n",
       "      <td>0.082*\"many\" + 0.080*\"help\" + 0.064*\"good\" + 0...</td>\n",
       "    </tr>\n",
       "    <tr>\n",
       "      <th>11</th>\n",
       "      <td>11</td>\n",
       "      <td>0.04</td>\n",
       "      <td>0.056*\"call\" + 0.039*\"hospital\" + 0.034*\"never...</td>\n",
       "    </tr>\n",
       "    <tr>\n",
       "      <th>12</th>\n",
       "      <td>12</td>\n",
       "      <td>0.05</td>\n",
       "      <td>0.072*\"could\" + 0.042*\"infection\" + 0.036*\"lat...</td>\n",
       "    </tr>\n",
       "    <tr>\n",
       "      <th>13</th>\n",
       "      <td>13</td>\n",
       "      <td>0.04</td>\n",
       "      <td>0.120*\"day\" + 0.084*\"still\" + 0.054*\"governmen...</td>\n",
       "    </tr>\n",
       "    <tr>\n",
       "      <th>14</th>\n",
       "      <td>14</td>\n",
       "      <td>0.05</td>\n",
       "      <td>0.076*\"realdonaldtrump\" + 0.065*\"think\" + 0.04...</td>\n",
       "    </tr>\n",
       "    <tr>\n",
       "      <th>15</th>\n",
       "      <td>15</td>\n",
       "      <td>0.26</td>\n",
       "      <td>0.235*\"coronavirus\" + 0.155*\"pandemic\" + 0.044...</td>\n",
       "    </tr>\n",
       "    <tr>\n",
       "      <th>16</th>\n",
       "      <td>16</td>\n",
       "      <td>0.02</td>\n",
       "      <td>0.076*\"august\" + 0.073*\"die\" + 0.040*\"share\" +...</td>\n",
       "    </tr>\n",
       "    <tr>\n",
       "      <th>17</th>\n",
       "      <td>17</td>\n",
       "      <td>0.04</td>\n",
       "      <td>0.148*\"death\" + 0.096*\"today\" + 0.055*\"world\" ...</td>\n",
       "    </tr>\n",
       "    <tr>\n",
       "      <th>18</th>\n",
       "      <td>18</td>\n",
       "      <td>0.02</td>\n",
       "      <td>0.085*\"new_case\" + 0.058*\"business\" + 0.050*\"t...</td>\n",
       "    </tr>\n",
       "    <tr>\n",
       "      <th>19</th>\n",
       "      <td>19</td>\n",
       "      <td>0.03</td>\n",
       "      <td>0.099*\"india\" + 0.075*\"country\" + 0.067*\"state...</td>\n",
       "    </tr>\n",
       "  </tbody>\n",
       "</table>\n",
       "</div>"
      ],
      "text/plain": [
       "    topic #  weight                                     words in topic\n",
       "0         0    0.04  0.085*\"number\" + 0.064*\"school\" + 0.063*\"lockd...\n",
       "1         1    0.03  0.070*\"read\" + 0.052*\"give\" + 0.051*\"really\" +...\n",
       "2         2    0.05  0.069*\"even\" + 0.055*\"well\" + 0.044*\"total\" + ...\n",
       "3         3    0.04  0.313*\"amp\" + 0.047*\"start\" + 0.038*\"back\" + 0...\n",
       "4         4    0.07  0.218*\"case\" + 0.074*\"report\" + 0.061*\"mask\" +...\n",
       "5         5    0.03  0.067*\"look\" + 0.049*\"right\" + 0.048*\"great\" +...\n",
       "6         6    0.04  0.052*\"support\" + 0.044*\"student\" + 0.041*\"con...\n",
       "7         7    0.04  0.115*\"test\" + 0.063*\"update\" + 0.039*\"thanks\"...\n",
       "8         8    0.05  0.168*\"new\" + 0.061*\"due\" + 0.052*\"week\" + 0.0...\n",
       "9         9    0.03  0.079*\"work\" + 0.061*\"news\" + 0.039*\"uk\" + 0.0...\n",
       "10       10    0.04  0.082*\"many\" + 0.080*\"help\" + 0.064*\"good\" + 0...\n",
       "11       11    0.04  0.056*\"call\" + 0.039*\"hospital\" + 0.034*\"never...\n",
       "12       12    0.05  0.072*\"could\" + 0.042*\"infection\" + 0.036*\"lat...\n",
       "13       13    0.04  0.120*\"day\" + 0.084*\"still\" + 0.054*\"governmen...\n",
       "14       14    0.05  0.076*\"realdonaldtrump\" + 0.065*\"think\" + 0.04...\n",
       "15       15    0.26  0.235*\"coronavirus\" + 0.155*\"pandemic\" + 0.044...\n",
       "16       16    0.02  0.076*\"august\" + 0.073*\"die\" + 0.040*\"share\" +...\n",
       "17       17    0.04  0.148*\"death\" + 0.096*\"today\" + 0.055*\"world\" ...\n",
       "18       18    0.02  0.085*\"new_case\" + 0.058*\"business\" + 0.050*\"t...\n",
       "19       19    0.03  0.099*\"india\" + 0.075*\"country\" + 0.067*\"state..."
      ]
     },
     "execution_count": 44,
     "metadata": {},
     "output_type": "execute_result"
    }
   ],
   "source": [
    "pd.DataFrame([(el[0], round(el[1],2), topics[el[0]][1]) for el in lda_model[dictionary_LDA.doc2bow(tokens)]], columns=['topic #', 'weight', 'words in topic'])"
   ]
  },
  {
   "cell_type": "markdown",
   "metadata": {},
   "source": [
    "### Allocation of topics in all tweets"
   ]
  },
  {
   "cell_type": "code",
   "execution_count": 46,
   "metadata": {},
   "outputs": [],
   "source": [
    "topics = [lda_model[corpus[i]] for i in range(len(df))]"
   ]
  },
  {
   "cell_type": "code",
   "execution_count": 47,
   "metadata": {},
   "outputs": [
    {
     "data": {
      "text/html": [
       "<div>\n",
       "<style scoped>\n",
       "    .dataframe tbody tr th:only-of-type {\n",
       "        vertical-align: middle;\n",
       "    }\n",
       "\n",
       "    .dataframe tbody tr th {\n",
       "        vertical-align: top;\n",
       "    }\n",
       "\n",
       "    .dataframe thead th {\n",
       "        text-align: right;\n",
       "    }\n",
       "</style>\n",
       "<table border=\"1\" class=\"dataframe\">\n",
       "  <thead>\n",
       "    <tr style=\"text-align: right;\">\n",
       "      <th></th>\n",
       "      <th>0</th>\n",
       "      <th>1</th>\n",
       "      <th>2</th>\n",
       "      <th>3</th>\n",
       "      <th>4</th>\n",
       "      <th>5</th>\n",
       "      <th>6</th>\n",
       "      <th>7</th>\n",
       "      <th>8</th>\n",
       "      <th>9</th>\n",
       "      <th>10</th>\n",
       "      <th>11</th>\n",
       "      <th>12</th>\n",
       "      <th>13</th>\n",
       "      <th>14</th>\n",
       "      <th>15</th>\n",
       "      <th>16</th>\n",
       "      <th>17</th>\n",
       "      <th>18</th>\n",
       "      <th>19</th>\n",
       "    </tr>\n",
       "  </thead>\n",
       "  <tbody>\n",
       "    <tr>\n",
       "      <th>0</th>\n",
       "      <td>NaN</td>\n",
       "      <td>NaN</td>\n",
       "      <td>NaN</td>\n",
       "      <td>NaN</td>\n",
       "      <td>NaN</td>\n",
       "      <td>NaN</td>\n",
       "      <td>NaN</td>\n",
       "      <td>NaN</td>\n",
       "      <td>NaN</td>\n",
       "      <td>0.0385366</td>\n",
       "      <td>NaN</td>\n",
       "      <td>NaN</td>\n",
       "      <td>NaN</td>\n",
       "      <td>NaN</td>\n",
       "      <td>NaN</td>\n",
       "      <td>0.0913012</td>\n",
       "      <td>NaN</td>\n",
       "      <td>NaN</td>\n",
       "      <td>0.869287</td>\n",
       "      <td>NaN</td>\n",
       "    </tr>\n",
       "  </tbody>\n",
       "</table>\n",
       "</div>"
      ],
      "text/plain": [
       "    0    1    2    3    4    5    6    7    8          9    10   11   12   13  \\\n",
       "0  NaN  NaN  NaN  NaN  NaN  NaN  NaN  NaN  NaN  0.0385366  NaN  NaN  NaN  NaN   \n",
       "\n",
       "    14         15   16   17        18   19  \n",
       "0  NaN  0.0913012  NaN  NaN  0.869287  NaN  "
      ]
     },
     "execution_count": 47,
     "metadata": {},
     "output_type": "execute_result"
    }
   ],
   "source": [
    "def topics_document_to_dataframe(topics_document, num_topics):\n",
    "    res = pd.DataFrame(columns=range(num_topics))\n",
    "    for topic_weight in topics_document:\n",
    "        res.loc[0, topic_weight[0]] = topic_weight[1]\n",
    "    return res\n",
    "\n",
    "topics_document_to_dataframe([(9, 0.03853655432967504), (15, 0.09130117862212643), (18, 0.8692868808484044)], 20)"
   ]
  },
  {
   "cell_type": "code",
   "execution_count": 48,
   "metadata": {},
   "outputs": [],
   "source": [
    "# Like TF-IDF, create a matrix of topic weighting, with documents as rows and topics as columns\n",
    "document_topic = \\\n",
    "pd.concat([topics_document_to_dataframe(topics_document, num_topics=num_topics) for topics_document in topics]) \\\n",
    "  .reset_index(drop=True).fillna(0)"
   ]
  },
  {
   "cell_type": "code",
   "execution_count": 49,
   "metadata": {},
   "outputs": [
    {
     "data": {
      "text/html": [
       "<div>\n",
       "<style scoped>\n",
       "    .dataframe tbody tr th:only-of-type {\n",
       "        vertical-align: middle;\n",
       "    }\n",
       "\n",
       "    .dataframe tbody tr th {\n",
       "        vertical-align: top;\n",
       "    }\n",
       "\n",
       "    .dataframe thead th {\n",
       "        text-align: right;\n",
       "    }\n",
       "</style>\n",
       "<table border=\"1\" class=\"dataframe\">\n",
       "  <thead>\n",
       "    <tr style=\"text-align: right;\">\n",
       "      <th></th>\n",
       "      <th>0</th>\n",
       "      <th>1</th>\n",
       "      <th>2</th>\n",
       "      <th>3</th>\n",
       "      <th>4</th>\n",
       "      <th>5</th>\n",
       "      <th>6</th>\n",
       "      <th>7</th>\n",
       "      <th>8</th>\n",
       "      <th>9</th>\n",
       "      <th>10</th>\n",
       "      <th>11</th>\n",
       "      <th>12</th>\n",
       "      <th>13</th>\n",
       "      <th>14</th>\n",
       "      <th>15</th>\n",
       "      <th>16</th>\n",
       "      <th>17</th>\n",
       "      <th>18</th>\n",
       "      <th>19</th>\n",
       "    </tr>\n",
       "  </thead>\n",
       "  <tbody>\n",
       "    <tr>\n",
       "      <th>0</th>\n",
       "      <td>0.0</td>\n",
       "      <td>0.000000</td>\n",
       "      <td>0.162933</td>\n",
       "      <td>0.0</td>\n",
       "      <td>0.324197</td>\n",
       "      <td>0.0</td>\n",
       "      <td>0.000000</td>\n",
       "      <td>0.0</td>\n",
       "      <td>0.0</td>\n",
       "      <td>0.000000</td>\n",
       "      <td>0.000000</td>\n",
       "      <td>0.00000</td>\n",
       "      <td>0.000000</td>\n",
       "      <td>0.000000</td>\n",
       "      <td>0.324119</td>\n",
       "      <td>0.0</td>\n",
       "      <td>0.000000</td>\n",
       "      <td>0.162938</td>\n",
       "      <td>0.0</td>\n",
       "      <td>0.0</td>\n",
       "    </tr>\n",
       "    <tr>\n",
       "      <th>1</th>\n",
       "      <td>0.0</td>\n",
       "      <td>0.194255</td>\n",
       "      <td>0.000000</td>\n",
       "      <td>0.0</td>\n",
       "      <td>0.000000</td>\n",
       "      <td>0.0</td>\n",
       "      <td>0.000000</td>\n",
       "      <td>0.0</td>\n",
       "      <td>0.0</td>\n",
       "      <td>0.578823</td>\n",
       "      <td>0.000000</td>\n",
       "      <td>0.00000</td>\n",
       "      <td>0.000000</td>\n",
       "      <td>0.194223</td>\n",
       "      <td>0.000000</td>\n",
       "      <td>0.0</td>\n",
       "      <td>0.000000</td>\n",
       "      <td>0.000000</td>\n",
       "      <td>0.0</td>\n",
       "      <td>0.0</td>\n",
       "    </tr>\n",
       "    <tr>\n",
       "      <th>2</th>\n",
       "      <td>0.0</td>\n",
       "      <td>0.000000</td>\n",
       "      <td>0.000000</td>\n",
       "      <td>0.0</td>\n",
       "      <td>0.000000</td>\n",
       "      <td>0.0</td>\n",
       "      <td>0.162901</td>\n",
       "      <td>0.0</td>\n",
       "      <td>0.0</td>\n",
       "      <td>0.000000</td>\n",
       "      <td>0.162895</td>\n",
       "      <td>0.16291</td>\n",
       "      <td>0.000000</td>\n",
       "      <td>0.000000</td>\n",
       "      <td>0.324216</td>\n",
       "      <td>0.0</td>\n",
       "      <td>0.000000</td>\n",
       "      <td>0.162883</td>\n",
       "      <td>0.0</td>\n",
       "      <td>0.0</td>\n",
       "    </tr>\n",
       "    <tr>\n",
       "      <th>3</th>\n",
       "      <td>0.0</td>\n",
       "      <td>0.000000</td>\n",
       "      <td>0.000000</td>\n",
       "      <td>0.0</td>\n",
       "      <td>0.000000</td>\n",
       "      <td>0.0</td>\n",
       "      <td>0.000000</td>\n",
       "      <td>0.0</td>\n",
       "      <td>0.0</td>\n",
       "      <td>0.000000</td>\n",
       "      <td>0.315676</td>\n",
       "      <td>0.00000</td>\n",
       "      <td>0.315512</td>\n",
       "      <td>0.000000</td>\n",
       "      <td>0.000000</td>\n",
       "      <td>0.0</td>\n",
       "      <td>0.315677</td>\n",
       "      <td>0.000000</td>\n",
       "      <td>0.0</td>\n",
       "      <td>0.0</td>\n",
       "    </tr>\n",
       "    <tr>\n",
       "      <th>4</th>\n",
       "      <td>0.0</td>\n",
       "      <td>0.000000</td>\n",
       "      <td>0.000000</td>\n",
       "      <td>0.0</td>\n",
       "      <td>0.000000</td>\n",
       "      <td>0.0</td>\n",
       "      <td>0.000000</td>\n",
       "      <td>0.0</td>\n",
       "      <td>0.0</td>\n",
       "      <td>0.000000</td>\n",
       "      <td>0.000000</td>\n",
       "      <td>0.00000</td>\n",
       "      <td>0.000000</td>\n",
       "      <td>0.841664</td>\n",
       "      <td>0.000000</td>\n",
       "      <td>0.0</td>\n",
       "      <td>0.000000</td>\n",
       "      <td>0.000000</td>\n",
       "      <td>0.0</td>\n",
       "      <td>0.0</td>\n",
       "    </tr>\n",
       "  </tbody>\n",
       "</table>\n",
       "</div>"
      ],
      "text/plain": [
       "    0         1         2    3         4    5         6    7    8         9   \\\n",
       "0  0.0  0.000000  0.162933  0.0  0.324197  0.0  0.000000  0.0  0.0  0.000000   \n",
       "1  0.0  0.194255  0.000000  0.0  0.000000  0.0  0.000000  0.0  0.0  0.578823   \n",
       "2  0.0  0.000000  0.000000  0.0  0.000000  0.0  0.162901  0.0  0.0  0.000000   \n",
       "3  0.0  0.000000  0.000000  0.0  0.000000  0.0  0.000000  0.0  0.0  0.000000   \n",
       "4  0.0  0.000000  0.000000  0.0  0.000000  0.0  0.000000  0.0  0.0  0.000000   \n",
       "\n",
       "         10       11        12        13        14   15        16        17  \\\n",
       "0  0.000000  0.00000  0.000000  0.000000  0.324119  0.0  0.000000  0.162938   \n",
       "1  0.000000  0.00000  0.000000  0.194223  0.000000  0.0  0.000000  0.000000   \n",
       "2  0.162895  0.16291  0.000000  0.000000  0.324216  0.0  0.000000  0.162883   \n",
       "3  0.315676  0.00000  0.315512  0.000000  0.000000  0.0  0.315677  0.000000   \n",
       "4  0.000000  0.00000  0.000000  0.841664  0.000000  0.0  0.000000  0.000000   \n",
       "\n",
       "    18   19  \n",
       "0  0.0  0.0  \n",
       "1  0.0  0.0  \n",
       "2  0.0  0.0  \n",
       "3  0.0  0.0  \n",
       "4  0.0  0.0  "
      ]
     },
     "execution_count": 49,
     "metadata": {},
     "output_type": "execute_result"
    }
   ],
   "source": [
    "document_topic.head()"
   ]
  },
  {
   "cell_type": "code",
   "execution_count": 50,
   "metadata": {},
   "outputs": [
    {
     "data": {
      "text/plain": [
       "<AxesSubplot:>"
      ]
     },
     "execution_count": 50,
     "metadata": {},
     "output_type": "execute_result"
    },
    {
     "data": {
      "image/png": "[encoded data removed]",
      "text/plain": [
       "<Figure size 720x1440 with 2 Axes>"
      ]
     },
     "metadata": {},
     "output_type": "display_data"
    }
   ],
   "source": [
    "%matplotlib inline\n",
    "import seaborn as sns; sns.set(rc={'figure.figsize':(10,20)})\n",
    "sns.heatmap(document_topic.loc[document_topic.idxmax(axis=1).sort_values().index])"
   ]
  },
  {
   "cell_type": "code",
   "execution_count": 51,
   "metadata": {},
   "outputs": [
    {
     "data": {
      "text/plain": [
       "<AxesSubplot:>"
      ]
     },
     "execution_count": 51,
     "metadata": {},
     "output_type": "execute_result"
    },
    {
     "data": {
      "image/png": "[encoded data removed]",
      "text/plain": [
       "<Figure size 720x360 with 1 Axes>"
      ]
     },
     "metadata": {},
     "output_type": "display_data"
    }
   ],
   "source": [
    "sns.set(rc={'figure.figsize':(10,5)})\n",
    "document_topic.idxmax(axis=1).value_counts().plot.bar(color='teal')"
   ]
  },
  {
   "cell_type": "code",
   "execution_count": 52,
   "metadata": {},
   "outputs": [
    {
     "data": {
      "text/html": [
       "\n",
       "<link rel=\"stylesheet\" type=\"text/css\" href=\"https://cdn.rawgit.com/bmabey/pyLDAvis/files/ldavis.v1.0.0.css\">\n",
       "\n",
       "\n",
       "<div id=\"ldavis_el2779674233611043281459197\"></div>\n",
       "<script type=\"text/javascript\">\n",
       "\n",
       "var ldavis_el2779674233611043281459197_data = {\"mdsDat\": {\"x\": [-0.31702311152633117, 0.009634747803961103, -0.025972073672525204, 0.0868083430654144, -0.3290488443659382, -0.06372808955610547, 0.06209781917711469, -0.01368040256828386, 0.019753777700197896, 0.06448134847818571, 0.0630478060340341, 0.05295369533107872, 0.0687376911396195, 0.017342343292605016, 0.10962202102673908, 0.07954558577818512, 0.025852587502660906, -0.00750069654095769, 0.012446934888305995, 0.08462851701203927], \"y\": [0.11169386899202813, -0.056750253659640384, 0.11446367016307857, 0.18285134190626592, 0.06422715759942423, -0.2054981576163408, 0.031117652784163792, -0.19469112799225205, -0.04231822532842413, 0.049756729002723224, 0.1725696128866527, 0.06202091576225021, -0.030920013843462067, -0.07450685212743693, 0.10722193487814331, 0.021230751763171084, -0.04957831540401578, -0.17718440433498192, -0.09894670227812913, 0.013240416846780775], \"topics\": [1, 2, 3, 4, 5, 6, 7, 8, 9, 10, 11, 12, 13, 14, 15, 16, 17, 18, 19, 20], \"cluster\": [1, 1, 1, 1, 1, 1, 1, 1, 1, 1, 1, 1, 1, 1, 1, 1, 1, 1, 1, 1], \"Freq\": [6.585157824224449, 6.227517215172449, 5.9364788319620105, 5.829110509187701, 5.604960056467415, 5.265282641365735, 5.244703095511597, 5.192832895036882, 5.13415278014849, 5.053031775382072, 4.9238699860623525, 4.842035464152002, 4.676642006440576, 4.5095761546946544, 4.428107106243096, 4.34450059226261, 4.317677698204741, 4.275952101877739, 4.11888567816842, 3.489525587435025]}, \"tinfo\": {\"Term\": [\"amp\", \"coronavirus\", \"case\", \"pandemic\", \"new\", \"death\", \"day\", \"test\", \"today\", \"india\", \"still\", \"realdonaldtrump\", \"many\", \"help\", \"report\", \"work\", \"number\", \"new_case\", \"country\", \"think\", \"state\", \"look\", \"good\", \"mask\", \"even\", \"read\", \"world\", \"could\", \"due\", \"update\", \"pandemic\", \"vaccine\", \"health\", \"alert\", \"https\", \"sure\", \"australia\", \"global_pandemic_news\", \"become\", \"education\", \"listen\", \"amid\", \"people_die\", \"break\", \"outside\", \"likely\", \"currently\", \"shut\", \"industry\", \"threat\", \"americans_die\", \"surge\", \"via_youtube\", \"house\", \"line\", \"new_case_report\", \"emergency\", \"projectlincoln\", \"zero\", \"meeting\", \"coronavirus\", \"child\", \"covid\", \"trump\", \"us\", \"death\", \"today\", \"world\", \"life\", \"live\", \"stop\", \"love\", \"lose\", \"protect\", \"saturday\", \"remember\", \"create\", \"public\", \"provide\", \"wait\", \"safety\", \"others\", \"system\", \"buy\", \"together\", \"cnn\", \"disease\", \"cure\", \"social_distancing\", \"wake\", \"strategy\", \"treat\", \"along\", \"different\", \"deliver\", \"us\", \"people\", \"covid\", \"new_case_new\", \"realdonaldtrump\", \"think\", \"keep\", \"let\", \"please\", \"much\", \"care\", \"everyone\", \"learn\", \"high\", \"real\", \"every\", \"control\", \"far\", \"friend\", \"economy\", \"testing\", \"man\", \"nothing\", \"video\", \"parent\", \"soon\", \"grow\", \"truth\", \"population\", \"worry\", \"address\", \"track\", \"fail\", \"campaign\", \"trump\", \"time\", \"people\", \"us\", \"amp\", \"start\", \"family\", \"talk\", \"include\", \"kill\", \"quarantine\", \"top\", \"woman\", \"gop\", \"wear\", \"reach\", \"especially\", \"everything\", \"game\", \"god\", \"able\", \"medical\", \"word\", \"wow\", \"cover\", \"action\", \"texas\", \"per\", \"register\", \"funny\", \"strong\", \"stupid\", \"exam\", \"critical\", \"back\", \"wrong\", \"time\", \"people\", \"trump\", \"case\", \"report\", \"mask\", \"virus\", \"first\", \"close\", \"community\", \"cases\", \"local\", \"result\", \"run\", \"link\", \"online\", \"catch\", \"friday\", \"wish\", \"infect\", \"science\", \"agree\", \"three\", \"prepare\", \"regard\", \"children\", \"detail\", \"relate\", \"effective\", \"past\", \"type\", \"digital\", \"four\", \"coronavirus\", \"covid\", \"us\", \"day\", \"still\", \"government\", \"data\", \"risk\", \"follow\", \"put\", \"month\", \"set\", \"hear\", \"govt\", \"sick\", \"fact\", \"challenge\", \"level\", \"fear\", \"staff\", \"among\", \"send\", \"announce\", \"gmt_coronavirus_coronavirusupdate_coronaviruspandemic\", \"release\", \"offer\", \"list\", \"finally\", \"project\", \"wearamask\", \"key\", \"july\", \"evidence\", \"covid\", \"many\", \"help\", \"good\", \"year\", \"way\", \"since\", \"around\", \"without\", \"corona\", \"yesterday\", \"miss\", \"group\", \"power\", \"university\", \"gt\", \"healthcare\", \"morning\", \"stay_safe\", \"trend\", \"hoax\", \"save\", \"restaurant\", \"launch\", \"new_confirm_case\", \"host\", \"election\", \"season\", \"lol\", \"info\", \"thought\", \"us\", \"people\", \"new\", \"due\", \"week\", \"show\", \"fight\", \"ask\", \"record\", \"study\", \"canada\", \"issue\", \"place\", \"affect\", \"national\", \"confirm\", \"research\", \"treatment\", \"nation\", \"old\", \"tonight\", \"available\", \"september\", \"hard\", \"message\", \"ok\", \"view\", \"technology\", \"dear\", \"whole\", \"market\", \"reduce\", \"india\", \"country\", \"state\", \"plan\", \"response\", \"tell\", \"try\", \"thank\", \"mean\", \"positive\", \"win\", \"yes\", \"order\", \"next\", \"return\", \"party\", \"experience\", \"forget\", \"worker\", \"many_people\", \"worldwide\", \"sad\", \"guess\", \"seriously\", \"huge\", \"benefit\", \"potus\", \"develop\", \"black\", \"partner\", \"people\", \"covid\", \"work\", \"news\", \"uk\", \"change\", \"happen\", \"spread\", \"lead\", \"anyone\", \"ca\", \"hope\", \"face\", \"joebiden\", \"job\", \"situation\", \"maybe\", \"problem\", \"focus\", \"begin\", \"point\", \"weekend\", \"understand\", \"concern\", \"act\", \"teacher\", \"drop\", \"name\", \"anything\", \"consider\", \"class\", \"fund\", \"people\", \"look\", \"right\", \"great\", \"another\", \"watch\", \"yet\", \"big\", \"travel\", \"protest\", \"expect\", \"vote\", \"stay\", \"official\", \"hold\", \"article\", \"least\", \"away\", \"county\", \"breaking\", \"current\", \"history\", \"police\", \"matter\", \"speak\", \"social\", \"american\", \"walk\", \"oh\", \"resource\", \"bc\", \"people\", \"trump\", \"test\", \"update\", \"thanks\", \"test_positive\", \"home\", \"check\", \"end\", \"best\", \"move\", \"restriction\", \"expert\", \"pay\", \"symptom\", \"head\", \"guy\", \"leader\", \"fall\", \"almost\", \"demand\", \"happy\", \"major\", \"human\", \"ignore\", \"contact\", \"member\", \"victoria\", \"book\", \"ensure\", \"special\", \"society\", \"people\", \"covid\", \"back\", \"support\", \"student\", \"continue\", \"global\", \"china\", \"must\", \"bad\", \"free\", \"sign\", \"president\", \"total_case\", \"allow\", \"early\", \"join\", \"visit\", \"ever\", \"food\", \"play\", \"stand\", \"service\", \"claim\", \"march\", \"measure\", \"rule\", \"democrats\", \"serious\", \"though\", \"small\", \"massive\", \"process\", \"even\", \"well\", \"total\", \"last\", \"america\", \"safe\", \"cause\", \"person\", \"team\", \"important\", \"someone\", \"americans\", \"enough\", \"money\", \"remain\", \"saw\", \"covidiots\", \"push\", \"active_case\", \"prevent\", \"hand\", \"receive\", \"face_mask\", \"total_confirmed_case\", \"update_new_case\", \"figure\", \"new_death_bring\", \"ppl\", \"icymi\", \"interesting\", \"read\", \"give\", \"really\", \"wear_mask\", \"via\", \"increase\", \"usa\", \"post\", \"already\", \"dead\", \"hey\", \"despite\", \"meet\", \"reason\", \"thread\", \"tweet\", \"nearly\", \"policy\", \"twitter\", \"advice\", \"answer\", \"decision\", \"write\", \"idea\", \"virtual\", \"pakistan\", \"russia\", \"poor\", \"delhi\", \"cost\", \"people\", \"time\", \"call\", \"hospital\", \"never\", \"two\", \"kid\", \"feel\", \"lot\", \"leave\", \"might\", \"seem\", \"question\", \"little\", \"information\", \"low\", \"turn\", \"age\", \"reopen\", \"event\", \"pm\", \"effect\", \"last_hour\", \"masks\", \"across\", \"college\", \"socialdistancing\", \"quick\", \"date\", \"recent\", \"stress\", \"enter\", \"people\", \"number\", \"school\", \"lockdown\", \"find\", \"daily\", \"rise\", \"cdc\", \"actually\", \"less\", \"company\", \"deaths\", \"add\", \"employee\", \"full\", \"california\", \"office\", \"possible\", \"instead\", \"hour\", \"require\", \"public_health\", \"summer\", \"expose\", \"reality\", \"nigeria\", \"fine\", \"young\", \"street\", \"avoid\", \"battle\", \"people\", \"new_case\", \"business\", \"thing\", \"patient\", \"impact\", \"recovery\", \"bring\", \"long\", \"lie\", \"florida\", \"doctor\", \"true\", \"new_death\", \"rate\", \"survive\", \"base\", \"coronavirus_coronavirusupdate_coronaviruspandemic\", \"nyc\", \"pass\", \"step\", \"opportunity\", \"customer\", \"solution\", \"odisha\", \"trust\", \"brother\", \"comment\", \"welcome\", \"mind\", \"fake\", \"new_case_new\", \"covid\", \"could\", \"infection\", \"late\", \"million\", \"part\", \"crisis\", \"outbreak\", \"open\", \"believe\", \"hit\", \"discuss\", \"story\", \"medium\", \"deal\", \"future\", \"force\", \"flu\", \"second\", \"area\", \"germany\", \"africa\", \"program\", \"interview\", \"wave\", \"large\", \"monday\", \"around_world\", \"series\", \"either\", \"sir\", \"us\", \"august\", \"die\", \"share\", \"always\", \"help_slow_spread_identify\", \"city\", \"daily_even\", \"risk_case_sooner_symptom\", \"wonder\", \"recover\", \"count\", \"course\", \"fuck\", \"death_toll\", \"compare\", \"manage\", \"present\", \"resident\", \"isolation\", \"water\", \"cut\", \"total_death\", \"thousand\", \"website\", \"hell\", \"georgia\", \"deliver_copy_official\", \"rally\", \"leadership\", \"immunity\"], \"Freq\": [17985.0, 18360.0, 12041.0, 10082.0, 8607.0, 9088.0, 6226.0, 5470.0, 5904.0, 4996.0, 4356.0, 4419.0, 4215.0, 4128.0, 4111.0, 3955.0, 3607.0, 3572.0, 3784.0, 3833.0, 3375.0, 3254.0, 3287.0, 3360.0, 3083.0, 3043.0, 3400.0, 2911.0, 3137.0, 3008.0, 10082.327851947159, 2854.39922578274, 2220.0817840533527, 1413.7591654011912, 1325.197119322223, 1163.6147764203422, 978.88540594974, 969.1885597181389, 831.1040860856178, 799.1983495709761, 770.8212837193976, 743.6682037767323, 642.0805171881264, 601.2850577752492, 578.1188043473511, 556.541163107282, 522.0436235830479, 463.8087682005554, 431.7056643359681, 425.2470755141103, 411.27002703926587, 405.8522947947283, 399.13155715088743, 390.63073469024584, 372.9197885744273, 350.3003234182115, 328.69106229025107, 325.2967005773804, 319.94758893084816, 303.21525718473185, 15228.72905252572, 1622.6652956213304, 892.6288305877183, 721.0274571663333, 447.6899408758121, 9088.478295656963, 5904.3392259827715, 3400.593246343412, 2415.1647335495113, 2010.87003189102, 1824.9835251567292, 1386.8175728407916, 1161.5358945780752, 1145.4966614017853, 1057.8727561845192, 944.1219185044082, 879.0857461946999, 868.7525939479207, 862.9797896071402, 698.6154995058347, 611.1098896938106, 609.0271129793796, 583.5651847980092, 575.311836157361, 564.2131656985053, 562.7311855613018, 523.0650609514637, 519.424432663021, 502.14644247852704, 492.4077975414176, 474.8012788897797, 460.8792132864289, 457.5867245448779, 455.3014048275132, 454.6759371689121, 963.8638721924818, 972.720761818019, 733.0953225622162, 467.4002117659225, 4419.430482799468, 3832.8923112069647, 2610.375968883891, 2360.899050807606, 2187.670691037947, 1952.5008422434007, 1768.927136056579, 1729.8771758949567, 1590.8390599995416, 1459.6168006722783, 1333.1741380444162, 1271.5417907222557, 1021.9785397021905, 1014.9033805494246, 970.9070441379172, 859.9956453942207, 821.3280791300488, 817.8607540767293, 813.1618219965167, 803.4441880247545, 780.3156795910618, 745.7091408780608, 613.6155401541988, 474.72997849466776, 472.601795126119, 471.3391213202141, 466.1715714050133, 460.63127464479237, 448.845001964254, 434.2427437787824, 2557.3804041394883, 835.8804124566171, 760.6870345739694, 679.0895944683311, 17985.503577758664, 2701.741209738432, 2099.358718663485, 2025.2887562282422, 1469.9051097431075, 1316.073184762301, 1104.564844214316, 1060.7632341587255, 919.6497114252129, 850.4382696279599, 821.0902018897738, 799.6434382028834, 754.9394718237431, 704.9213914620674, 648.6893025931846, 638.9928655034669, 636.8377746551762, 630.2493586490334, 593.7383659708744, 563.5545710309472, 522.5648169504254, 521.919611574901, 474.2092535919569, 448.05320244471835, 417.5223206216655, 407.07195762553596, 393.5963381537652, 382.83814326314194, 366.8344168956846, 341.72313178535614, 2210.3304040727317, 483.4009683943015, 1183.9641730816652, 832.7182413035462, 672.3136879398368, 12041.065290872446, 4111.018933312429, 3360.545722243031, 2873.572168904686, 2220.8570544134514, 1319.7756771868749, 1166.3070871568177, 1124.2228449164288, 984.6725898222402, 936.3009315124086, 863.8566547935384, 847.5935194728322, 840.7795190567705, 680.6201739453678, 648.0804723927399, 591.3851998300034, 573.0396557577451, 518.6807442333354, 513.0822670119857, 499.2817227112593, 484.33008242211105, 462.21353986411157, 441.443536209462, 431.685953481732, 414.3575565017508, 385.60017450945185, 358.32155642574446, 333.7153809173294, 325.4960491992065, 285.2206059213563, 3131.8262581849467, 605.951975042599, 437.5176962990188, 6225.865114886947, 4355.922160307016, 2821.4437098939434, 1771.6554042364312, 1682.3188360649563, 1638.4551368189889, 1424.0848083492372, 1417.2802558849432, 1143.256371540822, 1139.2739569607972, 896.5990067323442, 847.1929341957427, 839.137030904587, 798.0523011781978, 771.6833430913347, 740.2057740166046, 714.0260702945394, 699.6717914110696, 693.8377295285603, 569.96018529599, 569.6449063771615, 560.5792597470779, 551.6392509443533, 548.3061987863803, 540.2582717328215, 519.9852861666479, 519.8181235629514, 468.5939039217724, 463.171270876759, 418.68818052577035, 1512.2324820512754, 4214.977025274598, 4128.594842247546, 3287.041143361786, 2793.4181855667057, 2607.92284447264, 1947.9903780550605, 1293.794824358785, 1269.5776006880694, 1217.4555851505118, 1007.110689739475, 876.836997777298, 845.2778625198362, 828.0224394001115, 806.0261735978003, 663.8623349344463, 621.960702937831, 578.6302116968521, 556.0792360982523, 490.0286116619407, 480.25666669155686, 467.1355650222962, 449.23899946007293, 423.77127115310594, 416.04409627815596, 413.9886846145815, 393.1867061145663, 386.54225060805805, 363.64860206976306, 354.733207030914, 352.22172472189266, 1508.6591600528131, 721.2755692805956, 8607.354607184478, 3136.967866243114, 2664.764965153966, 2216.7185627512163, 1800.5729040092942, 1635.2683917030324, 1470.4501712208687, 1308.758807167655, 1291.4610255791374, 1114.5324223528487, 942.8970579561976, 931.0658639299079, 850.842015654449, 816.9493825415806, 747.9968729110016, 698.4090281483635, 618.0516879996229, 606.2099099748086, 604.5205703184274, 573.3187519655679, 560.7452000968242, 525.801842914221, 505.28118609932847, 492.43197351225785, 482.3580569707159, 479.1430482297308, 439.4583457621722, 438.33958851273263, 435.7068427176014, 427.41790322451317, 4995.825728045401, 3783.9052484650697, 3375.0746409405983, 2003.3890258847637, 1872.8178613685673, 1699.5042541473267, 1522.2591446562137, 1433.3393916058403, 1408.2725411503454, 1328.2905145032894, 901.2070759599131, 865.8807797566026, 857.4290350380847, 784.2674855861851, 712.2696053731454, 693.8518893946452, 664.9715675265754, 618.8335222388057, 567.0618132243452, 562.3831907115947, 535.1494558671344, 529.5818781076687, 511.50576341624344, 499.6732642460099, 446.8493176806495, 442.9624069407304, 406.95592492639594, 397.9792634239861, 387.0953477091265, 383.4518756123836, 634.7322881441728, 465.65468772081704, 3955.6468840385774, 3041.4831192055576, 1946.2064511045355, 1674.6216226955946, 1566.5551971960947, 1557.1464985104597, 1294.8928011162416, 1282.3131063527371, 1261.8098183349641, 1245.5914018607327, 1166.274654196796, 1107.1018409747435, 1095.2917919411643, 917.007881838372, 895.3436767171842, 861.4395529220623, 819.0773983314577, 807.8714678449002, 764.3470043864506, 744.0473315048223, 729.5902393092133, 694.7260764101086, 602.6249982192741, 550.6078490310288, 506.09073278878117, 492.9904717362176, 481.34019725923054, 478.3550481249465, 436.0180844705294, 424.9875626943303, 892.4183734534007, 3254.604895581112, 2356.1357006420662, 2345.600280484276, 2082.4377340435094, 1816.7581004531546, 1451.8735887544428, 1424.2472915111323, 1047.9759440767689, 996.30151916745, 870.0446447343952, 812.8415789446832, 784.3550056874242, 778.4339740660391, 773.0891420281428, 763.318341339608, 753.8985676215572, 696.2596678302435, 692.8469985412792, 678.4902440831693, 641.2571546315451, 637.0550928173274, 593.6079896714647, 567.4244064958975, 528.2492541142034, 463.95824631172144, 459.2303447395295, 449.30389873748845, 446.34058013578885, 425.9910064414674, 419.6132102985408, 662.7414518269766, 494.09376480727724, 5469.966872218019, 3008.124432812201, 1867.601347128672, 1661.0622673451917, 1594.8328831542083, 1566.0404598115497, 1518.237842468844, 1190.8369648216797, 864.4724216580595, 811.3330729289208, 777.4790056133575, 773.5170000148929, 772.074347018154, 771.7773877546812, 743.9064272283794, 742.3903790603838, 725.9723549185845, 681.383521413339, 643.2358143517803, 622.090936688156, 583.2566224672654, 558.5569468179626, 489.53636782523324, 478.24066870344063, 476.80806253208254, 437.93049361607837, 426.7267718469991, 423.4515512277846, 392.1679597404427, 380.06753657862265, 898.6461202766721, 555.0794115867624, 463.7775967428504, 2413.0625427001023, 2043.3279805860234, 1884.5730433618758, 1808.8521324194635, 1772.4969445415854, 1729.7900752895218, 1413.681819738956, 1213.5354156812853, 1147.2606192082478, 1101.5054306551426, 1098.6468906559014, 1083.0684144217519, 1002.023120651505, 965.7654844871313, 958.4642196200473, 863.3350689585611, 805.4843266607692, 804.8872517804903, 771.6526882589095, 701.2654773634475, 598.2658527389577, 580.8612444946584, 546.1181931427283, 528.2548084640999, 432.75026403889467, 427.5789068743215, 407.00339563969584, 394.12592540969615, 354.18345789461216, 349.24664132643795, 3082.911786703987, 2460.975039500338, 1956.6180187422826, 1541.512200960538, 1508.9726964252036, 1426.1089291957974, 1175.7135482908789, 1157.64799733718, 1113.1064432353078, 1108.0907601989118, 1097.5231469600417, 1025.0444072682699, 815.6358314546341, 737.1475794356585, 695.1331604884413, 609.819846676742, 576.7072880165086, 553.7534499907454, 517.0186559949758, 516.7429971290285, 503.14822889109865, 499.26370774664434, 482.17948248244426, 461.23048513943377, 452.18843546823575, 450.27546727324767, 388.6315121423585, 383.50230303050034, 380.43217207727224, 375.2212341277181, 3043.397443381539, 2262.9208965814664, 2213.385606127823, 2100.4836520080858, 1641.8944509571754, 1559.9464836795635, 1526.7750278750736, 1236.7350149452116, 1176.2127154343486, 1140.097535432387, 818.0509046400576, 713.6202478697237, 707.0651682907828, 701.8203077958676, 691.1332489807342, 606.6935156028676, 556.9380393927672, 548.5292282892418, 476.0506307984423, 473.0380375700552, 469.79586735372317, 464.17401599477137, 445.3447594791484, 441.11988429511547, 440.92730306757954, 435.5652757798083, 429.6820961264505, 362.34782010255344, 361.3961346570417, 355.17730995100567, 1757.1641337430922, 443.3384509338878, 2412.536732777837, 1652.2662175108342, 1470.0803566643658, 1406.155238491933, 1281.4700424221753, 1101.2286770188264, 1051.5147691735158, 1027.4682011773807, 962.9921625729403, 907.4460447850242, 810.3836928433008, 807.3037716097438, 772.8640649337943, 694.9564489854358, 689.4604871779172, 642.1614232939879, 638.6559068526755, 623.1499218264946, 595.9746506906089, 589.3404709966319, 553.6726010552652, 537.8727678664288, 516.6383192083614, 476.83722975310025, 424.4203735241389, 421.7156302216174, 411.53221784005785, 411.06378390192464, 379.4086345876081, 377.9150227647764, 435.50710874262813, 3606.902368325931, 2721.2775310135594, 2689.4250192865456, 2225.730924686942, 1627.4337178873, 1444.0257750179903, 1388.22719311793, 851.8384083639119, 821.52451556514, 812.1208401027968, 776.8049096155293, 731.5613312592225, 714.3871029863038, 645.9551095189255, 624.4540060655189, 616.0130872865944, 614.3479744901601, 613.7959760211601, 593.2510885152739, 583.3633589556266, 550.6330011894023, 496.6673713330114, 384.10158400757587, 374.8454516907708, 374.30205528049777, 365.3959117954917, 347.9740076565542, 340.7792774499783, 337.23213727022517, 333.31142196861526, 413.70388438142714, 3571.8923699859224, 2460.429625806868, 2090.5977009947173, 1905.5181908489867, 1845.2550493641406, 1221.48954491861, 1219.5552376146532, 1064.2912734143645, 846.1261262003433, 773.9225079266043, 751.5932557308655, 708.1732544816437, 665.489963957906, 660.5929536255552, 507.54842568580415, 502.0004042716723, 494.38346076739117, 483.1893128499777, 470.3843413959519, 425.14462618220017, 421.77788250653555, 416.8897444231435, 413.1763941720073, 390.90053250097577, 374.10057577798244, 368.1037991521374, 359.1049439859268, 357.67702225417605, 352.9641699743269, 351.500641473525, 448.49155673969574, 376.92348199866825, 2911.1844730210087, 1722.0663409441106, 1469.0782240432407, 1458.2105958378818, 1430.2300003220946, 1425.6865191484126, 1331.1008220990534, 1264.4870229536202, 1164.8550471335714, 1105.6556217588138, 911.1735414888135, 905.0534479945505, 871.666719471226, 837.154671235826, 691.1036165418542, 676.5832182488482, 591.8651887506908, 581.0589354325119, 547.3640845550643, 539.4888129871316, 528.6975346876362, 449.85625463013577, 434.607904040018, 421.60943655997613, 419.55101435796666, 413.4002145122619, 399.07687385147665, 387.2142766648552, 373.7457978029535, 340.370073649419, 393.3181472222111, 2612.9016336637133, 2522.260837087964, 1376.7594524015406, 985.8331328059494, 940.5798851516171, 921.5914416417489, 917.5996312228101, 917.1481585472961, 863.6915126953057, 705.5635605092227, 635.0672491707933, 543.1253449951314, 518.0888271767053, 507.1103393428694, 494.7002551064404, 461.2268496737265, 411.8149081795959, 410.4770215113116, 402.6655382469179, 375.1195217999787, 373.57335924015905, 351.16994078698565, 336.73418848872046, 332.64053080640815, 330.3306579401096, 325.1138290217649, 322.4081326452495, 319.71650073825947, 299.293192999166, 292.0676438649507], \"Total\": [17985.0, 18360.0, 12041.0, 10082.0, 8607.0, 9088.0, 6226.0, 5470.0, 5904.0, 4996.0, 4356.0, 4419.0, 4215.0, 4128.0, 4111.0, 3955.0, 3607.0, 3572.0, 3784.0, 3833.0, 3375.0, 3254.0, 3287.0, 3360.0, 3083.0, 3043.0, 3400.0, 2911.0, 3137.0, 3008.0, 10082.635337936148, 2854.7067117717265, 2220.3892700423394, 1414.066651390178, 1325.5046053112098, 1163.922262409329, 979.1928919387268, 969.4960457071257, 831.4115720746047, 799.505835559963, 771.1287697083844, 743.9756897657192, 642.3880031771132, 601.5925437642361, 578.426290336338, 556.8486490962689, 522.3511095720347, 464.11625418954213, 432.01315032495484, 425.55456150309703, 411.5775130282526, 406.15978078371506, 399.4390431398742, 390.9382206792326, 373.227274563414, 350.60780940719826, 328.9985482792378, 325.60418656636716, 320.2550749198349, 303.5227431737186, 18360.846921683795, 1983.8422119590678, 7035.114148621146, 4445.074497109536, 7260.363260109251, 9088.786575303493, 5904.647505629298, 3400.9015259899393, 2415.4730131960387, 2011.1783115375479, 1825.291804803257, 1387.1258524873194, 1161.844174224603, 1145.8049410483131, 1058.181035831047, 944.4301981509358, 879.3940258412275, 869.0608735944483, 863.2880692536678, 698.9237791523623, 611.4181693403382, 609.3353926259072, 583.8734644445368, 575.6201158038886, 564.5214453450329, 563.0394652078294, 523.3733405979913, 519.7327123095486, 502.4547221250545, 492.7160771879451, 475.1095585363072, 461.1874929329564, 457.89500419140535, 455.60968447404065, 454.9842168154396, 7260.363260109251, 10545.19707867641, 7035.114148621146, 916.1836919941916, 4419.738483898574, 3833.200326715986, 2610.6839699829966, 2361.2070519067115, 2187.978692137053, 1952.8088433425069, 1769.2351371556852, 1730.1851769940629, 1591.1470610986478, 1459.9248017713844, 1333.4821391435223, 1271.8497918213618, 1022.2865408012964, 1015.2113816485305, 971.2150452370231, 860.3036464933266, 821.6360802291547, 818.1687551758353, 813.4698230956226, 803.7521891238604, 780.6236806901677, 746.0171419771667, 613.9235412533047, 475.03797959377357, 472.9097962252248, 471.6471224193199, 466.4795725041191, 460.9392757438982, 449.1530030633598, 434.55074487788823, 4445.074497109536, 5803.963606881016, 10545.19707867641, 7260.363260109251, 17985.810124155618, 2702.0477561353946, 2099.6652650604474, 2025.5953026252043, 1470.2116561400696, 1316.3797311592632, 1104.8713906112782, 1061.0697805556877, 919.956257822175, 850.744816024922, 821.3967482867358, 799.9499845998455, 755.2460182207052, 705.2279378590295, 648.9958489901467, 639.2994119004289, 637.1443210521383, 630.5559050459955, 594.0449123678364, 563.8611174279092, 522.8713633473875, 522.226157971863, 474.51579998891884, 448.3597488416803, 417.8288670186274, 407.3785040224979, 393.90288455072715, 383.1446896601039, 367.1409632926466, 342.0296781823181, 2674.398273109804, 535.5674877017361, 5803.963606881016, 10545.19707867641, 4445.074497109536, 12041.372826859915, 4111.326469299893, 3360.853258230496, 2873.879704892151, 2221.1645904009165, 1320.08321317434, 1166.6146231442829, 1124.530380903894, 984.9801258097051, 936.6084674998735, 864.1641907810033, 847.9010554602971, 841.0870550442354, 680.9277099328327, 648.3880083802048, 591.6927358174684, 573.34719174521, 518.9882802208003, 513.3898029994506, 499.5892586987242, 484.63761840957596, 462.5210758515765, 441.75107219692694, 431.9934894691969, 414.66509248921574, 385.90771049691676, 358.6290924132094, 334.02291690479433, 325.8035851866714, 285.5281419088212, 18360.846921683795, 7035.114148621146, 7260.363260109251, 6226.172141121022, 4356.229186541092, 2821.7507361280204, 1771.962430470508, 1682.625862299033, 1638.7621630530657, 1424.391834583314, 1417.58728211902, 1143.563397774899, 1139.580983194874, 896.9060329664209, 847.4999604298195, 839.4440571386638, 798.3593274122745, 771.9903693254114, 740.5128002506813, 714.3330965286161, 699.9788176451464, 694.144755762637, 570.2672115300667, 569.9519326112382, 560.8862859811546, 551.94627717843, 548.613225020457, 540.5652979668982, 520.2923124007247, 520.1251497970281, 468.900930155849, 463.4782971108356, 418.99520675984695, 7035.114148621146, 4215.284304932663, 4128.90212190561, 3287.3484230198515, 2793.725465224771, 2608.2301241307055, 1948.297657713126, 1294.1021040168505, 1269.8848803461349, 1217.7628648085772, 1007.4179693975403, 877.1442774353634, 845.5851421779015, 828.3297190581768, 806.3334532558656, 664.1696145925116, 622.2679825958963, 578.9374913549175, 556.3865157563176, 490.3358913200059, 480.56394634962203, 467.44284468036136, 449.5462791181381, 424.0785508111711, 416.35137593622113, 414.29596427264664, 393.49398577263145, 386.8495302661232, 363.9558817278282, 355.0404866889792, 352.5290043799578, 7260.363260109251, 10545.19707867641, 8607.661363088273, 3137.274622146908, 2665.07172105776, 2217.0253186550103, 1800.879659913088, 1635.5751476068262, 1470.7569271246625, 1309.0655630714489, 1291.7677814829312, 1114.8391782566425, 943.2038138599913, 931.3726198337016, 851.1487715582427, 817.2561384453743, 748.3036288147953, 698.7157840521572, 618.3584439034166, 606.5166658786023, 604.8273262222211, 573.6255078693616, 561.0519560006179, 526.1085988180147, 505.5879420031221, 492.7387294160515, 482.66481287450955, 479.4498041335245, 439.76510166596586, 438.6463444165263, 436.01359862139503, 427.7246591283068, 4996.1334549033345, 3784.2129753230047, 3375.3823677985333, 2003.696752742698, 1873.1255882265016, 1699.811981005261, 1522.566871514148, 1433.6471184637746, 1408.5802680082797, 1328.5982413612237, 901.5148028178477, 866.1885066145371, 857.7367618960193, 784.5752124441196, 712.5773322310799, 694.1596162525798, 665.27929438451, 619.1412490967402, 567.3695400822797, 562.6909175695292, 535.457182725069, 529.8896049656032, 511.81349027417775, 499.98099110394423, 447.1570445385838, 443.2701337986647, 407.26365178433025, 398.2869902819204, 387.4030745670608, 383.75960247031793, 10545.19707867641, 7035.114148621146, 3955.9541102999224, 3041.7903454669026, 1946.5136773658799, 1674.928848956939, 1566.862423457439, 1557.453724771804, 1295.200027377586, 1282.6203326140815, 1262.1170445963085, 1245.898628122077, 1166.5818804581404, 1107.4090672360878, 1095.5990182025087, 917.3151080997163, 895.6509029785285, 861.7467791834066, 819.3846245928021, 808.1786941062445, 764.654230647795, 744.3545577661666, 729.8974655705576, 695.0333026714529, 602.9322244806184, 550.9150752923731, 506.3979590501254, 493.29769799756184, 481.64742352057476, 478.66227438629073, 436.3253107318736, 425.2947889556745, 10545.19707867641, 3254.9122710888414, 2356.4430761497956, 2345.9076559920054, 2082.745109551239, 1817.0654759608835, 1452.1809642621718, 1424.5546670188612, 1048.2833195844978, 996.608894675179, 870.3520202421242, 813.1489544524122, 784.6623811951532, 778.7413495737682, 773.3965175358718, 763.625716847337, 754.2059431292862, 696.5670433379726, 693.1543740490082, 678.7976195908983, 641.5645301392741, 637.3624683250564, 593.9153651791937, 567.7317820036266, 528.5566296219324, 464.2656218194503, 459.5377202472584, 449.6112742452173, 446.6479556435177, 426.29838194919625, 419.9205858062697, 10545.19707867641, 4445.074497109536, 5470.274009118592, 3008.4315697127754, 1867.9084840292458, 1661.3694042457655, 1595.140020054782, 1566.3475967121235, 1518.544979369418, 1191.1441017222535, 864.7795585586334, 811.6402098294948, 777.7861425139314, 773.8241369154669, 772.3814839187279, 772.0845246552551, 744.2135641289533, 742.6975159609577, 726.2794918191585, 681.690658313913, 643.5429512523542, 622.39807358873, 583.5637593678393, 558.8640837185366, 489.84350472580707, 478.54780560401446, 477.11519943265637, 438.2376305166522, 427.0339087475729, 423.7586881283584, 392.47509664101653, 380.3746734791965, 10545.19707867641, 7035.114148621146, 2674.398273109804, 2413.3699181717834, 2043.635356057704, 1884.8804188335564, 1809.1595078911441, 1772.804320013266, 1730.0974507612025, 1413.9891952106366, 1213.842791152966, 1147.5679946799285, 1101.8128061268233, 1098.954266127582, 1083.3757898934325, 1002.3304961231856, 966.0728599588119, 958.7715950917279, 863.6424444302418, 805.7917021324498, 805.1946272521709, 771.9600637305902, 701.5728528351282, 598.5732282106384, 581.1686199663391, 546.4255686144089, 528.5621839357806, 433.0576395105752, 427.886282346002, 407.31077111137637, 394.4333008813767, 354.4908333662927, 349.5540167981185, 3083.219015716267, 2461.282268512618, 1956.9252477545624, 1541.8194299728177, 1509.2799254374834, 1426.4161582080771, 1176.0207773031586, 1157.9552263494597, 1113.4136722475876, 1108.3979892111915, 1097.8303759723215, 1025.3516362805497, 815.9430604669138, 737.4548084479383, 695.440389500721, 610.1270756890218, 577.0145170287884, 554.0606790030251, 517.3258850072556, 517.0502261413083, 503.45545790337826, 499.57093675892395, 482.48671149472386, 461.5377141517134, 452.49566448051536, 450.5826962855273, 388.9387411546381, 383.80953204277995, 380.73940108955185, 375.5284631399977, 3043.7037624596232, 2263.227215659551, 2213.6919252059074, 2100.78997108617, 1642.2007700352594, 1560.2528027576475, 1527.0813469531577, 1237.0413340232956, 1176.5190345124327, 1140.403854510471, 818.3572237181418, 713.9265669478078, 707.371487368867, 702.1266268739517, 691.4395680588183, 606.9998346809517, 557.2443584708514, 548.835547367326, 476.35694987652624, 473.3443566481392, 470.1021864318071, 464.4803350728553, 445.6510785572324, 441.4262033731994, 441.2336221456635, 435.87159485789226, 429.9884152045345, 362.6541391806374, 361.7024537351257, 355.4836290290896, 10545.19707867641, 5803.963606881016, 2412.8439882709317, 1652.5734730039287, 1470.3876121574604, 1406.4624939850275, 1281.7772979152699, 1101.535932511921, 1051.8220246666103, 1027.7754566704753, 963.2994180660348, 907.7533002781188, 810.6909483363953, 807.6110271028383, 773.1713204268889, 695.2637044785304, 689.7677426710118, 642.4686787870825, 638.96316234577, 623.4571773195892, 596.2819061837034, 589.6477264897264, 553.9798565483597, 538.1800233595234, 516.9455747014559, 477.1444852461947, 424.7276290172333, 422.02288571471183, 411.8394733331523, 411.37103939501907, 379.71589008070254, 378.2222782578708, 10545.19707867641, 3607.2100040174223, 2721.5851667050506, 2689.732654978037, 2226.0385603784334, 1627.7413535787912, 1444.3334107094815, 1388.5348288094212, 852.146044055403, 821.832151256631, 812.4284757942879, 777.1125453070204, 731.8689669507136, 714.6947386777949, 646.2627452104166, 624.76164175701, 616.3207229780855, 614.6556101816512, 614.1036117126512, 593.558724206765, 583.6709946471177, 550.9406368808934, 496.9750070245024, 384.4092196990669, 375.15308738226184, 374.6096909719888, 365.70354748698276, 348.28164334804524, 341.0869131414693, 337.5397729617162, 333.6190576601063, 10545.19707867641, 3572.199424831283, 2460.7366806522286, 2090.904755840078, 1905.8252456943476, 1845.5621042095015, 1221.7965997639708, 1219.862292460014, 1064.5983282597253, 846.4331810457039, 774.229562771965, 751.9003105762262, 708.4803093270043, 665.7970188032666, 660.9000084709159, 507.85548053116474, 502.3074591170329, 494.69051561275177, 483.4963676953383, 470.6913962413125, 425.45168102756077, 422.08493735189614, 417.1967992685041, 413.4834490173679, 391.20758734633637, 374.40763062334304, 368.410853997498, 359.4119988312874, 357.98407709953665, 353.2712248196875, 351.8076963188856, 916.1836919941916, 7035.114148621146, 2911.4903566856783, 1722.3722246087802, 1469.3841077079103, 1458.5164795025514, 1430.5358839867642, 1425.9924028130822, 1331.406705763723, 1264.7929066182899, 1165.160930798241, 1105.9615054234835, 911.479425153483, 905.3593316592201, 871.9726031358955, 837.4605549004955, 691.4095002065237, 676.8891019135177, 592.1710724153603, 581.3648190971815, 547.6699682197338, 539.7946966518011, 529.0034183523057, 450.1621382948053, 434.91378770468754, 421.91532022464565, 419.8568980226362, 413.70609817693145, 399.38275751614617, 387.52016032952474, 374.05168146762304, 340.6759573140885, 7260.363260109251, 2613.2093130274693, 2522.56851645172, 1377.0671317652968, 986.1408121697056, 940.8875645153732, 921.8991210055051, 917.9073105865663, 917.4558379110523, 863.9991920590619, 705.8712398729789, 635.3749285345494, 543.4330243588876, 518.3965065404615, 507.41801870662556, 495.0079344701966, 461.5345290374827, 412.12258754335204, 410.78470087506776, 402.97321761067406, 375.4272011637349, 373.8810386039152, 351.4776201507418, 337.0418678524766, 332.9482101701643, 330.63833730386574, 325.42150838552107, 322.7158120090057, 320.02418010201563, 299.6008723629222, 292.37532322870686], \"Category\": [\"Default\", \"Default\", \"Default\", \"Default\", \"Default\", \"Default\", \"Default\", \"Default\", \"Default\", \"Default\", \"Default\", \"Default\", \"Default\", \"Default\", \"Default\", \"Default\", \"Default\", \"Default\", \"Default\", \"Default\", \"Default\", \"Default\", \"Default\", \"Default\", \"Default\", \"Default\", \"Default\", \"Default\", \"Default\", \"Default\", \"Topic1\", \"Topic1\", \"Topic1\", \"Topic1\", \"Topic1\", \"Topic1\", \"Topic1\", \"Topic1\", \"Topic1\", \"Topic1\", \"Topic1\", \"Topic1\", \"Topic1\", \"Topic1\", \"Topic1\", \"Topic1\", \"Topic1\", \"Topic1\", \"Topic1\", \"Topic1\", \"Topic1\", \"Topic1\", \"Topic1\", \"Topic1\", \"Topic1\", \"Topic1\", \"Topic1\", \"Topic1\", \"Topic1\", \"Topic1\", \"Topic1\", \"Topic1\", \"Topic1\", \"Topic1\", \"Topic1\", \"Topic2\", \"Topic2\", \"Topic2\", \"Topic2\", \"Topic2\", \"Topic2\", \"Topic2\", \"Topic2\", \"Topic2\", \"Topic2\", \"Topic2\", \"Topic2\", \"Topic2\", \"Topic2\", \"Topic2\", \"Topic2\", \"Topic2\", \"Topic2\", \"Topic2\", \"Topic2\", \"Topic2\", \"Topic2\", \"Topic2\", \"Topic2\", \"Topic2\", \"Topic2\", \"Topic2\", \"Topic2\", \"Topic2\", \"Topic2\", \"Topic2\", \"Topic2\", \"Topic2\", \"Topic2\", \"Topic3\", \"Topic3\", \"Topic3\", \"Topic3\", \"Topic3\", \"Topic3\", \"Topic3\", \"Topic3\", \"Topic3\", \"Topic3\", \"Topic3\", \"Topic3\", \"Topic3\", \"Topic3\", \"Topic3\", \"Topic3\", \"Topic3\", \"Topic3\", \"Topic3\", \"Topic3\", \"Topic3\", \"Topic3\", \"Topic3\", \"Topic3\", \"Topic3\", \"Topic3\", \"Topic3\", \"Topic3\", \"Topic3\", \"Topic3\", \"Topic3\", \"Topic3\", \"Topic3\", \"Topic3\", \"Topic4\", \"Topic4\", \"Topic4\", \"Topic4\", \"Topic4\", \"Topic4\", \"Topic4\", \"Topic4\", \"Topic4\", \"Topic4\", \"Topic4\", \"Topic4\", \"Topic4\", \"Topic4\", \"Topic4\", \"Topic4\", \"Topic4\", \"Topic4\", \"Topic4\", \"Topic4\", \"Topic4\", \"Topic4\", \"Topic4\", \"Topic4\", \"Topic4\", \"Topic4\", \"Topic4\", \"Topic4\", \"Topic4\", \"Topic4\", \"Topic4\", \"Topic4\", \"Topic4\", \"Topic4\", \"Topic4\", \"Topic5\", \"Topic5\", \"Topic5\", \"Topic5\", \"Topic5\", \"Topic5\", \"Topic5\", \"Topic5\", \"Topic5\", \"Topic5\", \"Topic5\", \"Topic5\", \"Topic5\", \"Topic5\", \"Topic5\", \"Topic5\", \"Topic5\", \"Topic5\", \"Topic5\", \"Topic5\", \"Topic5\", \"Topic5\", \"Topic5\", \"Topic5\", \"Topic5\", \"Topic5\", \"Topic5\", \"Topic5\", \"Topic5\", \"Topic5\", \"Topic5\", \"Topic5\", \"Topic5\", \"Topic6\", \"Topic6\", \"Topic6\", \"Topic6\", \"Topic6\", \"Topic6\", \"Topic6\", \"Topic6\", \"Topic6\", \"Topic6\", \"Topic6\", \"Topic6\", \"Topic6\", \"Topic6\", \"Topic6\", \"Topic6\", \"Topic6\", \"Topic6\", \"Topic6\", \"Topic6\", \"Topic6\", \"Topic6\", \"Topic6\", \"Topic6\", \"Topic6\", \"Topic6\", \"Topic6\", \"Topic6\", \"Topic6\", \"Topic6\", \"Topic6\", \"Topic7\", \"Topic7\", \"Topic7\", \"Topic7\", \"Topic7\", \"Topic7\", \"Topic7\", \"Topic7\", \"Topic7\", \"Topic7\", \"Topic7\", \"Topic7\", \"Topic7\", \"Topic7\", \"Topic7\", \"Topic7\", \"Topic7\", \"Topic7\", \"Topic7\", \"Topic7\", \"Topic7\", \"Topic7\", \"Topic7\", \"Topic7\", \"Topic7\", \"Topic7\", \"Topic7\", \"Topic7\", \"Topic7\", \"Topic7\", \"Topic7\", \"Topic7\", \"Topic8\", \"Topic8\", \"Topic8\", \"Topic8\", \"Topic8\", \"Topic8\", \"Topic8\", \"Topic8\", \"Topic8\", \"Topic8\", \"Topic8\", \"Topic8\", \"Topic8\", \"Topic8\", \"Topic8\", \"Topic8\", \"Topic8\", \"Topic8\", \"Topic8\", \"Topic8\", \"Topic8\", \"Topic8\", \"Topic8\", \"Topic8\", \"Topic8\", \"Topic8\", \"Topic8\", \"Topic8\", \"Topic8\", \"Topic8\", \"Topic9\", \"Topic9\", \"Topic9\", \"Topic9\", \"Topic9\", \"Topic9\", \"Topic9\", \"Topic9\", \"Topic9\", \"Topic9\", \"Topic9\", \"Topic9\", \"Topic9\", \"Topic9\", \"Topic9\", \"Topic9\", \"Topic9\", \"Topic9\", \"Topic9\", \"Topic9\", \"Topic9\", \"Topic9\", \"Topic9\", \"Topic9\", \"Topic9\", \"Topic9\", \"Topic9\", \"Topic9\", \"Topic9\", \"Topic9\", \"Topic9\", \"Topic9\", \"Topic10\", \"Topic10\", \"Topic10\", \"Topic10\", \"Topic10\", \"Topic10\", \"Topic10\", \"Topic10\", \"Topic10\", \"Topic10\", \"Topic10\", \"Topic10\", \"Topic10\", \"Topic10\", \"Topic10\", \"Topic10\", \"Topic10\", \"Topic10\", \"Topic10\", \"Topic10\", \"Topic10\", \"Topic10\", \"Topic10\", \"Topic10\", \"Topic10\", \"Topic10\", \"Topic10\", \"Topic10\", \"Topic10\", \"Topic10\", \"Topic10\", \"Topic11\", \"Topic11\", \"Topic11\", \"Topic11\", \"Topic11\", \"Topic11\", \"Topic11\", \"Topic11\", \"Topic11\", \"Topic11\", \"Topic11\", \"Topic11\", \"Topic11\", \"Topic11\", \"Topic11\", \"Topic11\", \"Topic11\", \"Topic11\", \"Topic11\", \"Topic11\", \"Topic11\", \"Topic11\", \"Topic11\", \"Topic11\", \"Topic11\", \"Topic11\", \"Topic11\", \"Topic11\", \"Topic11\", \"Topic11\", \"Topic11\", \"Topic11\", \"Topic12\", \"Topic12\", \"Topic12\", \"Topic12\", \"Topic12\", \"Topic12\", \"Topic12\", \"Topic12\", \"Topic12\", \"Topic12\", \"Topic12\", \"Topic12\", \"Topic12\", \"Topic12\", \"Topic12\", \"Topic12\", \"Topic12\", \"Topic12\", \"Topic12\", \"Topic12\", \"Topic12\", \"Topic12\", \"Topic12\", \"Topic12\", \"Topic12\", \"Topic12\", \"Topic12\", \"Topic12\", \"Topic12\", \"Topic12\", \"Topic12\", \"Topic12\", \"Topic12\", \"Topic13\", \"Topic13\", \"Topic13\", \"Topic13\", \"Topic13\", \"Topic13\", \"Topic13\", \"Topic13\", \"Topic13\", \"Topic13\", \"Topic13\", \"Topic13\", \"Topic13\", \"Topic13\", \"Topic13\", \"Topic13\", \"Topic13\", \"Topic13\", \"Topic13\", \"Topic13\", \"Topic13\", \"Topic13\", \"Topic13\", \"Topic13\", \"Topic13\", \"Topic13\", \"Topic13\", \"Topic13\", \"Topic13\", \"Topic13\", \"Topic14\", \"Topic14\", \"Topic14\", \"Topic14\", \"Topic14\", \"Topic14\", \"Topic14\", \"Topic14\", \"Topic14\", \"Topic14\", \"Topic14\", \"Topic14\", \"Topic14\", \"Topic14\", \"Topic14\", \"Topic14\", \"Topic14\", \"Topic14\", \"Topic14\", \"Topic14\", \"Topic14\", \"Topic14\", \"Topic14\", \"Topic14\", \"Topic14\", \"Topic14\", \"Topic14\", \"Topic14\", \"Topic14\", \"Topic14\", \"Topic15\", \"Topic15\", \"Topic15\", \"Topic15\", \"Topic15\", \"Topic15\", \"Topic15\", \"Topic15\", \"Topic15\", \"Topic15\", \"Topic15\", \"Topic15\", \"Topic15\", \"Topic15\", \"Topic15\", \"Topic15\", \"Topic15\", \"Topic15\", \"Topic15\", \"Topic15\", \"Topic15\", \"Topic15\", \"Topic15\", \"Topic15\", \"Topic15\", \"Topic15\", \"Topic15\", \"Topic15\", \"Topic15\", \"Topic15\", \"Topic15\", \"Topic15\", \"Topic16\", \"Topic16\", \"Topic16\", \"Topic16\", \"Topic16\", \"Topic16\", \"Topic16\", \"Topic16\", \"Topic16\", \"Topic16\", \"Topic16\", \"Topic16\", \"Topic16\", \"Topic16\", \"Topic16\", \"Topic16\", \"Topic16\", \"Topic16\", \"Topic16\", \"Topic16\", \"Topic16\", \"Topic16\", \"Topic16\", \"Topic16\", \"Topic16\", \"Topic16\", \"Topic16\", \"Topic16\", \"Topic16\", \"Topic16\", \"Topic16\", \"Topic17\", \"Topic17\", \"Topic17\", \"Topic17\", \"Topic17\", \"Topic17\", \"Topic17\", \"Topic17\", \"Topic17\", \"Topic17\", \"Topic17\", \"Topic17\", \"Topic17\", \"Topic17\", \"Topic17\", \"Topic17\", \"Topic17\", \"Topic17\", \"Topic17\", \"Topic17\", \"Topic17\", \"Topic17\", \"Topic17\", \"Topic17\", \"Topic17\", \"Topic17\", \"Topic17\", \"Topic17\", \"Topic17\", \"Topic17\", \"Topic17\", \"Topic18\", \"Topic18\", \"Topic18\", \"Topic18\", \"Topic18\", \"Topic18\", \"Topic18\", \"Topic18\", \"Topic18\", \"Topic18\", \"Topic18\", \"Topic18\", \"Topic18\", \"Topic18\", \"Topic18\", \"Topic18\", \"Topic18\", \"Topic18\", \"Topic18\", \"Topic18\", \"Topic18\", \"Topic18\", \"Topic18\", \"Topic18\", \"Topic18\", \"Topic18\", \"Topic18\", \"Topic18\", \"Topic18\", \"Topic18\", \"Topic18\", \"Topic18\", \"Topic19\", \"Topic19\", \"Topic19\", \"Topic19\", \"Topic19\", \"Topic19\", \"Topic19\", \"Topic19\", \"Topic19\", \"Topic19\", \"Topic19\", \"Topic19\", \"Topic19\", \"Topic19\", \"Topic19\", \"Topic19\", \"Topic19\", \"Topic19\", \"Topic19\", \"Topic19\", \"Topic19\", \"Topic19\", \"Topic19\", \"Topic19\", \"Topic19\", \"Topic19\", \"Topic19\", \"Topic19\", \"Topic19\", \"Topic19\", \"Topic19\", \"Topic20\", \"Topic20\", \"Topic20\", \"Topic20\", \"Topic20\", \"Topic20\", \"Topic20\", \"Topic20\", \"Topic20\", \"Topic20\", \"Topic20\", \"Topic20\", \"Topic20\", \"Topic20\", \"Topic20\", \"Topic20\", \"Topic20\", \"Topic20\", \"Topic20\", \"Topic20\", \"Topic20\", \"Topic20\", \"Topic20\", \"Topic20\", \"Topic20\", \"Topic20\", \"Topic20\", \"Topic20\", \"Topic20\", \"Topic20\"], \"logprob\": [30.0, 29.0, 28.0, 27.0, 26.0, 25.0, 24.0, 23.0, 22.0, 21.0, 20.0, 19.0, 18.0, 17.0, 16.0, 15.0, 14.0, 13.0, 12.0, 11.0, 10.0, 9.0, 8.0, 7.0, 6.0, 5.0, 4.0, 3.0, 2.0, 1.0, -1.8623000383377075, -3.1242001056671143, -3.3756000995635986, -3.826900005340576, -3.8914999961853027, -4.021599769592285, -4.194499969482422, -4.204400062561035, -4.358099937438965, -4.397299766540527, -4.4334001541137695, -4.469299793243408, -4.616199970245361, -4.68179988861084, -4.721099853515625, -4.759099960327148, -4.8231000900268555, -4.941400051116943, -5.0131001472473145, -5.028200149536133, -5.061600208282471, -5.074900150299072, -5.091599941253662, -5.113100051879883, -5.1595001220703125, -5.222099781036377, -5.285699844360352, -5.29610013961792, -5.312699794769287, -5.366399765014648, -1.4499000310897827, -3.688999891281128, -4.2866997718811035, -4.500199794769287, -4.976799964904785, -1.9103000164031982, -2.341599941253662, -2.8933000564575195, -3.2355000972747803, -3.4186999797821045, -3.515700101852417, -3.790299892425537, -3.9674999713897705, -3.9814000129699707, -4.060999870300293, -4.174799919128418, -4.246099948883057, -4.257999897003174, -4.264599800109863, -4.475900173187256, -4.6097002029418945, -4.6132001876831055, -4.655900001525879, -4.670100212097168, -4.689599990844727, -4.692200183868408, -4.7652997970581055, -4.772299766540527, -4.806099891662598, -4.825699806213379, -4.862100124359131, -4.891900062561035, -4.899099826812744, -4.904099941253662, -4.905399799346924, -4.154099941253662, -4.144899845123291, -4.427700042724609, -4.877799987792969, -2.583400011062622, -2.725800037384033, -3.1098999977111816, -3.210400104522705, -3.286600112915039, -3.4003000259399414, -3.499000072479248, -3.521399974822998, -3.60509991645813, -3.691200017929077, -3.7818000316619873, -3.829200029373169, -4.047699928283691, -4.054599761962891, -4.098899841308594, -4.220200061798096, -4.266200065612793, -4.270500183105469, -4.276199817657471, -4.288300037384033, -4.317500114440918, -4.362800121307373, -4.557799816131592, -4.8144001960754395, -4.818900108337402, -4.821599960327148, -4.832600116729736, -4.844600200653076, -4.870500087738037, -4.903600215911865, -3.1303999423980713, -4.248700141906738, -4.342899799346924, -4.456399917602539, -1.1615999937057495, -3.057300090789795, -3.309499979019165, -3.345400094985962, -3.6659998893737793, -3.7764999866485596, -3.95169997215271, -3.9921998977661133, -4.134900093078613, -4.213200092315674, -4.248300075531006, -4.274700164794922, -4.332300186157227, -4.4008002281188965, -4.484000205993652, -4.499000072479248, -4.502399921417236, -4.512800216674805, -4.572500228881836, -4.624599933624268, -4.700200080871582, -4.701399803161621, -4.797299861907959, -4.854000091552734, -4.924600124359131, -4.949900150299072, -4.98360013961792, -5.011300086975098, -5.053999900817871, -5.124899864196777, -3.257999897003174, -4.77810001373291, -3.8822999000549316, -4.2342000007629395, -4.448200225830078, -1.5235999822616577, -2.598299980163574, -2.799799919128418, -2.956399917602539, -3.2139999866485596, -3.734499931335449, -3.858099937438965, -3.89490008354187, -4.027400016784668, -4.0777997970581055, -4.158299922943115, -4.177299976348877, -4.185400009155273, -4.396699905395508, -4.445700168609619, -4.537199974060059, -4.568699836730957, -4.668399810791016, -4.679299831390381, -4.706500053405762, -4.7368998527526855, -4.783699989318848, -4.829599857330322, -4.8520002365112305, -4.89300012588501, -4.964900016784668, -5.038300037384033, -5.109399795532227, -5.134300231933594, -5.26639986038208, -2.870300054550171, -4.512899875640869, -4.838600158691406, -2.120699882507324, -2.4779000282287598, -2.9121999740600586, -3.377500057220459, -3.42930006980896, -3.455699920654297, -3.595900058746338, -3.6006999015808105, -3.815500020980835, -3.819000005722046, -4.058599948883057, -4.115300178527832, -4.124800205230713, -4.175000190734863, -4.208600044250488, -4.25029993057251, -4.286300182342529, -4.306600093841553, -4.314899921417236, -4.511600017547607, -4.512199878692627, -4.528200149536133, -4.544300079345703, -4.550300121307373, -4.565100193023682, -4.603400230407715, -4.603700160980225, -4.707399845123291, -4.719099998474121, -4.820099830627441, -3.535799980163574, -2.5069000720977783, -2.527600049972534, -2.755500078201294, -2.9182000160217285, -2.986999988555908, -3.278700113296509, -3.6879000663757324, -3.7067999839782715, -3.748699903488159, -3.9384000301361084, -4.076900005340576, -4.11359977722168, -4.134200096130371, -4.161099910736084, -4.355199813842773, -4.420400142669678, -4.492599964141846, -4.532400131225586, -4.65880012512207, -4.678899765014648, -4.706600189208984, -4.745699882507324, -4.804100036621094, -4.822500228881836, -4.827400207519531, -4.879000186920166, -4.895999908447266, -4.957099914550781, -4.981900215148926, -4.988999843597412, -3.5343000888824463, -4.272200107574463, -1.7829999923706055, -2.79229998588562, -2.9554998874664307, -3.1394999027252197, -3.3475000858306885, -3.4437999725341797, -3.549999952316284, -3.6665000915527344, -3.679800033569336, -3.8271000385284424, -3.9944000244140625, -4.006999969482422, -4.097099781036377, -4.137700080871582, -4.225900173187256, -4.29449987411499, -4.416800022125244, -4.436100006103516, -4.438899993896484, -4.4918999671936035, -4.514100074768066, -4.578400135040283, -4.618199825286865, -4.644000053405762, -4.664599895477295, -4.671299934387207, -4.757800102233887, -4.760300159454346, -4.76639986038208, -4.785600185394287, -2.3155999183654785, -2.593400001525879, -2.7077999114990234, -3.2293999195098877, -3.296799898147583, -3.393899917602539, -3.503999948501587, -3.564199924468994, -3.5817999839782715, -3.6403000354766846, -4.028200149536133, -4.06820011138916, -4.078000068664551, -4.167200088500977, -4.263500213623047, -4.289700031280518, -4.332200050354004, -4.404099941253662, -4.491499900817871, -4.499800205230713, -4.5493998527526855, -4.559899806976318, -4.594600200653076, -4.618000030517578, -4.729700088500977, -4.738500118255615, -4.823299884796143, -4.845600128173828, -4.873300075531006, -4.882699966430664, -4.378799915313721, -4.688499927520752, -2.533099889755249, -2.7959001064300537, -3.2423999309539795, -3.392699956893921, -3.459399938583374, -3.465399980545044, -3.649899959564209, -3.659600019454956, -3.6756999492645264, -3.688699960708618, -3.754499912261963, -3.80649995803833, -3.8173000812530518, -3.9948999881744385, -4.018799781799316, -4.057400226593018, -4.107900142669678, -4.121600151062012, -4.177000045776367, -4.20389986038208, -4.223599910736084, -4.272500038146973, -4.414700031280518, -4.505000114440918, -4.589300155639648, -4.615499973297119, -4.639500141143799, -4.645699977874756, -4.738399982452393, -4.763999938964844, -4.02209997177124, -2.7023000717163086, -3.025399923324585, -3.0297999382019043, -3.1487998962402344, -3.2853000164031982, -3.509500026702881, -3.528700113296509, -3.8355000019073486, -3.8861000537872314, -4.021599769592285, -4.089600086212158, -4.12529993057251, -4.132900238037109, -4.139699935913086, -4.152500152587891, -4.164899826049805, -4.2444000244140625, -4.249300003051758, -4.270299911499023, -4.326700210571289, -4.3333001136779785, -4.403900146484375, -4.448999881744385, -4.520599842071533, -4.650300025939941, -4.660600185394287, -4.682400226593018, -4.6890997886657715, -4.7357001304626465, -4.750800132751465, -4.293799877166748, -4.587399959564209, -2.1663999557495117, -2.7643001079559326, -3.240999937057495, -3.3582000732421875, -3.398900032043457, -3.417099952697754, -3.4481000900268555, -3.690999984741211, -4.011300086975098, -4.074699878692627, -4.117300033569336, -4.122399806976318, -4.124300003051758, -4.12470006942749, -4.161499977111816, -4.16349983215332, -4.1859002113342285, -4.249300003051758, -4.3069000244140625, -4.3403000831604, -4.404799938201904, -4.447999954223633, -4.579899787902832, -4.603300094604492, -4.606299877166748, -4.691299915313721, -4.717199802398682, -4.724899768829346, -4.801700115203857, -4.833000183105469, -3.9725000858306885, -4.4542999267578125, -4.633999824523926, -2.950000047683716, -3.116300106048584, -3.197200059890747, -3.2381999492645264, -3.258500099182129, -3.282900094985962, -3.4846999645233154, -3.6373000144958496, -3.69350004196167, -3.7342000007629395, -3.736799955368042, -3.7511000633239746, -3.828900098800659, -3.8657000064849854, -3.873300075531006, -3.977799892425537, -4.0472002029418945, -4.047900199890137, -4.090099811553955, -4.185699939727783, -4.344600200653076, -4.374100208282471, -4.435800075531006, -4.468999862670898, -4.668499946594238, -4.680500030517578, -4.729800224304199, -4.76200008392334, -4.868800163269043, -4.882800102233887, -2.668600082397461, -2.893899917602539, -3.123300075531006, -3.3617000579833984, -3.3831000328063965, -3.439500093460083, -3.6326000690460205, -3.648099899291992, -3.687299966812134, -3.6919000148773193, -3.7014000415802, -3.7697999477386475, -3.998300075531006, -4.0995001792907715, -4.158100128173828, -4.289100170135498, -4.344900131225586, -4.385499954223633, -4.45419979095459, -4.454699993133545, -4.481400012969971, -4.489099979400635, -4.523900032043457, -4.568399906158447, -4.588200092315674, -4.592400074005127, -4.73960018157959, -4.752900123596191, -4.760900020599365, -4.774700164794922, -2.663300037384033, -2.9595999717712402, -2.9816999435424805, -3.03410005569458, -3.280400037765503, -3.3315999507904053, -3.353100061416626, -3.563800096511841, -3.614000082015991, -3.6451001167297363, -3.977099895477295, -4.113699913024902, -4.122900009155273, -4.130300045013428, -4.145699977874756, -4.276000022888184, -4.361599922180176, -4.376800060272217, -4.518499851226807, -4.524799823760986, -4.531700134277344, -4.543799877166748, -4.58519983291626, -4.594699859619141, -4.595099925994873, -4.607399940490723, -4.620999813079834, -4.791399955749512, -4.794000148773193, -4.811399936676025, -3.212599992752075, -4.589700222015381, -2.876499891281128, -3.2551000118255615, -3.3719000816345215, -3.416300058364868, -3.509200096130371, -3.660799980163574, -3.7070000171661377, -3.73009991645813, -3.7948999404907227, -3.854300022125244, -3.967400074005127, -3.971299886703491, -4.014900207519531, -4.121099948883057, -4.129000186920166, -4.200099945068359, -4.205599784851074, -4.230199813842773, -4.274799823760986, -4.285999774932861, -4.348400115966797, -4.377299785614014, -4.417600154876709, -4.497799873352051, -4.614200115203857, -4.62060022354126, -4.645100116729736, -4.646200180053711, -4.72629976272583, -4.730299949645996, -4.588399887084961, -2.4681999683380127, -2.7499001026153564, -2.761699914932251, -2.950900077819824, -3.2639999389648438, -3.3835999965667725, -3.4230000972747803, -3.911400079727173, -3.9475998878479004, -3.9591000080108643, -4.003600120544434, -4.063600063323975, -4.087299823760986, -4.188000202178955, -4.22189998626709, -4.235499858856201, -4.2382001876831055, -4.239099979400635, -4.273099899291992, -4.289999961853027, -4.347700119018555, -4.450799942016602, -4.707900047302246, -4.7322998046875, -4.733699798583984, -4.757800102233887, -4.806600093841553, -4.827499866485596, -4.8379998207092285, -4.849699974060059, -4.633600234985352, -2.4681999683380127, -2.8410000801086426, -3.0037999153137207, -3.0964999198913574, -3.128700017929077, -3.5411999225616455, -3.542799949645996, -3.678999900817871, -3.908400058746338, -3.9976000785827637, -4.026899814605713, -4.086400032043457, -4.148499965667725, -4.155900001525879, -4.41949987411499, -4.430500030517578, -4.445700168609619, -4.468599796295166, -4.495500087738037, -4.59660005569458, -4.604599952697754, -4.616199970245361, -4.625199794769287, -4.680600166320801, -4.7245001792907715, -4.740699768066406, -4.765399932861328, -4.769400119781494, -4.782700061798096, -4.786799907684326, -4.5432000160217285, -4.7170000076293945, -2.6352999210357666, -3.1603000164031982, -3.319200038909912, -3.32669997215271, -3.3459999561309814, -3.3492000102996826, -3.4179000854492188, -3.4691998958587646, -3.551300048828125, -3.6033999919891357, -3.7969000339508057, -3.8036000728607178, -3.841200113296509, -3.8815999031066895, -4.073299884796143, -4.094600200653076, -4.228400230407715, -4.246799945831299, -4.30649995803833, -4.321000099182129, -4.34119987487793, -4.502699851989746, -4.537199974060059, -4.567599773406982, -4.572400093078613, -4.587200164794922, -4.622499942779541, -4.652699947357178, -4.6880998611450195, -4.781599998474121, -4.63700008392334, -2.5776000022888184, -2.6129000186920166, -3.2183001041412354, -3.552299976348877, -3.599299907684326, -3.6196999549865723, -3.6240999698638916, -3.624500036239624, -3.6846001148223877, -3.8868000507354736, -3.9921000003814697, -4.148499965667725, -4.195700168609619, -4.217100143432617, -4.2418999671936035, -4.3119001388549805, -4.42519998550415, -4.428500175476074, -4.447700023651123, -4.518599987030029, -4.52269983291626, -4.584499835968018, -4.626500129699707, -4.638800144195557, -4.645699977874756, -4.661600112915039, -4.670000076293945, -4.678400039672852, -4.7444000244140625, -4.768799781799316], \"loglift\": [30.0, 29.0, 28.0, 27.0, 26.0, 25.0, 24.0, 23.0, 22.0, 21.0, 20.0, 19.0, 18.0, 17.0, 16.0, 15.0, 14.0, 13.0, 12.0, 11.0, 10.0, 9.0, 8.0, 7.0, 6.0, 5.0, 4.0, 3.0, 2.0, 1.0, 2.7203, 2.7202, 2.7202, 2.7201, 2.7201, 2.7201, 2.72, 2.72, 2.72, 2.72, 2.72, 2.7199, 2.7199, 2.7198, 2.7198, 2.7198, 2.7198, 2.7197, 2.7196, 2.7196, 2.7196, 2.7196, 2.7196, 2.7196, 2.7195, 2.7195, 2.7194, 2.7194, 2.7194, 2.7193, 2.5333, 2.5194, 0.6559, 0.9015, -0.0657, 2.7762, 2.7761, 2.7761, 2.7761, 2.776, 2.776, 2.776, 2.7759, 2.7759, 2.7759, 2.7759, 2.7758, 2.7758, 2.7758, 2.7758, 2.7757, 2.7757, 2.7757, 2.7757, 2.7756, 2.7756, 2.7756, 2.7756, 2.7756, 2.7756, 2.7755, 2.7755, 2.7755, 2.7755, 2.7755, 0.757, 0.3929, 0.5148, 2.1032, 2.824, 2.824, 2.8239, 2.8239, 2.8239, 2.8239, 2.8239, 2.8239, 2.8239, 2.8238, 2.8238, 2.8238, 2.8238, 2.8238, 2.8237, 2.8237, 2.8237, 2.8237, 2.8237, 2.8237, 2.8237, 2.8236, 2.8236, 2.8234, 2.8234, 2.8234, 2.8234, 2.8234, 2.8234, 2.8233, 2.2712, 0.8862, 0.1949, 0.4546, 2.8423, 2.8422, 2.8422, 2.8422, 2.8421, 2.8421, 2.842, 2.842, 2.842, 2.8419, 2.8419, 2.8419, 2.8419, 2.8419, 2.8418, 2.8418, 2.8418, 2.8418, 2.8418, 2.8418, 2.8417, 2.8417, 2.8417, 2.8416, 2.8416, 2.8416, 2.8415, 2.8415, 2.8415, 2.8414, 2.6517, 2.7398, 1.2526, 0.3036, 0.9535, 2.8815, 2.8814, 2.8814, 2.8814, 2.8814, 2.8813, 2.8813, 2.8812, 2.8812, 2.8812, 2.8812, 2.8812, 2.8812, 2.8811, 2.881, 2.881, 2.881, 2.8809, 2.8809, 2.8809, 2.8809, 2.8809, 2.8808, 2.8808, 2.8808, 2.8807, 2.8807, 2.8806, 2.8806, 2.8804, 1.1129, 0.4296, 0.0725, 2.944, 2.944, 2.9439, 2.9439, 2.9439, 2.9438, 2.9438, 2.9438, 2.9438, 2.9438, 2.9437, 2.9437, 2.9437, 2.9437, 2.9436, 2.9436, 2.9436, 2.9436, 2.9436, 2.9435, 2.9435, 2.9435, 2.9435, 2.9435, 2.9435, 2.9434, 2.9434, 2.9434, 2.9434, 2.9433, 1.4067, 2.9479, 2.9479, 2.9479, 2.9478, 2.9478, 2.9478, 2.9477, 2.9477, 2.9477, 2.9476, 2.9476, 2.9476, 2.9476, 2.9476, 2.9475, 2.9475, 2.9474, 2.9474, 2.9473, 2.9473, 2.9473, 2.9473, 2.9472, 2.9472, 2.9472, 2.9472, 2.9472, 2.9471, 2.9471, 2.9471, 1.3767, 0.2655, 2.9579, 2.9578, 2.9578, 2.9578, 2.9577, 2.9577, 2.9577, 2.9577, 2.9577, 2.9576, 2.9576, 2.9576, 2.9575, 2.9575, 2.9575, 2.9575, 2.9574, 2.9574, 2.9574, 2.9574, 2.9573, 2.9573, 2.9573, 2.9573, 2.9573, 2.9573, 2.9572, 2.9572, 2.9572, 2.9572, 2.9692, 2.9692, 2.9692, 2.9691, 2.9691, 2.9691, 2.9691, 2.969, 2.969, 2.969, 2.9689, 2.9689, 2.9689, 2.9689, 2.9688, 2.9688, 2.9688, 2.9688, 2.9687, 2.9687, 2.9687, 2.9687, 2.9687, 2.9686, 2.9686, 2.9686, 2.9685, 2.9685, 2.9685, 2.9685, 0.159, 0.254, 2.9851, 2.9851, 2.985, 2.985, 2.985, 2.985, 2.9849, 2.9849, 2.9849, 2.9849, 2.9849, 2.9849, 2.9849, 2.9848, 2.9848, 2.9848, 2.9848, 2.9848, 2.9848, 2.9848, 2.9848, 2.9847, 2.9847, 2.9846, 2.9846, 2.9846, 2.9845, 2.9845, 2.9845, 2.9845, 0.5157, 3.011, 3.0109, 3.0109, 3.0109, 3.0109, 3.0109, 3.0109, 3.0108, 3.0108, 3.0107, 3.0107, 3.0107, 3.0107, 3.0107, 3.0107, 3.0107, 3.0106, 3.0106, 3.0106, 3.0106, 3.0106, 3.0106, 3.0105, 3.0105, 3.0104, 3.0104, 3.0104, 3.0104, 3.0104, 3.0103, 0.244, 0.8142, 3.0278, 3.0277, 3.0277, 3.0277, 3.0276, 3.0276, 3.0276, 3.0276, 3.0275, 3.0275, 3.0274, 3.0274, 3.0274, 3.0274, 3.0274, 3.0274, 3.0274, 3.0274, 3.0274, 3.0273, 3.0273, 3.0273, 3.0272, 3.0272, 3.0272, 3.0271, 3.0271, 3.0271, 3.0271, 3.027, 0.5653, 0.4883, 1.2758, 3.0625, 3.0624, 3.0624, 3.0624, 3.0624, 3.0624, 3.0624, 3.0623, 3.0623, 3.0623, 3.0623, 3.0623, 3.0623, 3.0623, 3.0623, 3.0622, 3.0622, 3.0622, 3.0622, 3.0622, 3.0621, 3.0621, 3.062, 3.062, 3.0619, 3.0619, 3.0618, 3.0618, 3.0617, 3.0617, 3.0989, 3.0988, 3.0988, 3.0988, 3.0988, 3.0988, 3.0987, 3.0987, 3.0987, 3.0987, 3.0987, 3.0987, 3.0986, 3.0986, 3.0985, 3.0985, 3.0984, 3.0984, 3.0984, 3.0984, 3.0984, 3.0984, 3.0983, 3.0983, 3.0983, 3.0983, 3.0982, 3.0982, 3.0982, 3.0981, 3.1171, 3.1171, 3.1171, 3.1171, 3.117, 3.117, 3.117, 3.117, 3.1169, 3.1169, 3.1168, 3.1168, 3.1168, 3.1168, 3.1168, 3.1167, 3.1166, 3.1166, 3.1166, 3.1166, 3.1165, 3.1165, 3.1165, 3.1165, 3.1165, 3.1165, 3.1165, 3.1164, 3.1164, 3.1163, 1.3252, 0.5452, 3.1361, 3.1361, 3.1361, 3.136, 3.136, 3.136, 3.136, 3.136, 3.1359, 3.1359, 3.1359, 3.1359, 3.1359, 3.1358, 3.1358, 3.1358, 3.1358, 3.1358, 3.1357, 3.1357, 3.1357, 3.1357, 3.1357, 3.1356, 3.1355, 3.1355, 3.1355, 3.1355, 3.1354, 3.1354, -0.0507, 3.1424, 3.1423, 3.1423, 3.1423, 3.1423, 3.1422, 3.1422, 3.1421, 3.1421, 3.1421, 3.1421, 3.142, 3.142, 3.142, 3.142, 3.142, 3.142, 3.142, 3.1419, 3.1419, 3.1419, 3.1418, 3.1417, 3.1416, 3.1416, 3.1416, 3.1416, 3.1416, 3.1415, 3.1415, -0.0958, 3.1521, 3.152, 3.152, 3.152, 3.152, 3.1519, 3.1519, 3.1519, 3.1518, 3.1518, 3.1518, 3.1517, 3.1517, 3.1517, 3.1516, 3.1516, 3.1515, 3.1515, 3.1515, 3.1514, 3.1514, 3.1514, 3.1514, 3.1514, 3.1513, 3.1513, 3.1513, 3.1513, 3.1513, 3.1513, 2.4378, 0.2255, 3.1895, 3.1894, 3.1894, 3.1894, 3.1894, 3.1894, 3.1894, 3.1893, 3.1893, 3.1893, 3.1893, 3.1892, 3.1892, 3.1892, 3.1891, 3.1891, 3.1891, 3.1891, 3.189, 3.189, 3.189, 3.1889, 3.1889, 3.1889, 3.1889, 3.1888, 3.1888, 3.1888, 3.1888, 3.1887, 0.274, 3.3553, 3.3553, 3.3552, 3.3551, 3.3551, 3.3551, 3.3551, 3.3551, 3.355, 3.355, 3.3549, 3.3548, 3.3548, 3.3548, 3.3548, 3.3547, 3.3547, 3.3547, 3.3546, 3.3546, 3.3546, 3.3545, 3.3545, 3.3545, 3.3545, 3.3545, 3.3545, 3.3544, 3.3544, 3.3544]}, \"token.table\": {\"Topic\": [4, 16, 10, 4, 14, 17, 17, 3, 15, 8, 19, 16, 5, 1, 13, 12, 2, 15, 20, 14, 11, 14, 1, 1, 6, 4, 6, 11, 15, 10, 10, 19, 7, 19, 11, 8, 20, 1, 8, 17, 11, 4, 12, 13, 18, 17, 11, 1, 10, 19, 9, 12, 11, 9, 12, 1, 11, 18, 18, 18, 2, 10, 17, 16, 3, 8, 3, 5, 5, 5, 14, 17, 6, 10, 12, 1, 3, 5, 13, 20, 13, 10, 5, 2, 16, 18, 5, 17, 20, 10, 8, 10, 12, 13, 3, 7, 1, 5, 18, 15, 19, 20, 9, 11, 20, 4, 1, 2, 3, 5, 6, 8, 9, 10, 12, 14, 17, 18, 19, 14, 2, 19, 4, 2, 11, 1, 18, 20, 17, 20, 6, 16, 6, 15, 19, 8, 2, 20, 17, 15, 15, 2, 20, 12, 13, 15, 5, 9, 20, 2, 5, 19, 2, 18, 10, 8, 13, 3, 1, 16, 5, 19, 7, 1, 17, 12, 14, 12, 16, 4, 14, 16, 13, 3, 3, 4, 6, 4, 11, 9, 12, 17, 10, 14, 6, 3, 18, 12, 4, 3, 6, 16, 8, 14, 6, 17, 17, 5, 18, 19, 10, 6, 13, 19, 9, 5, 13, 5, 3, 20, 17, 10, 4, 19, 4, 20, 19, 15, 13, 1, 6, 4, 7, 4, 6, 6, 11, 7, 3, 7, 9, 12, 14, 10, 12, 8, 12, 1, 7, 6, 20, 7, 20, 15, 3, 11, 19, 7, 11, 12, 10, 16, 7, 17, 1, 1, 9, 12, 14, 15, 12, 20, 18, 14, 4, 15, 9, 1, 5, 19, 7, 16, 17, 14, 19, 20, 8, 10, 10, 13, 6, 3, 6, 16, 4, 19, 14, 16, 19, 7, 10, 12, 20, 3, 11, 16, 17, 3, 6, 18, 2, 1, 1, 5, 6, 1, 16, 2, 5, 17, 7, 18, 11, 2, 16, 2, 16, 12, 3, 20, 7, 9, 13, 8, 5, 16, 13, 11, 10, 9, 13, 4, 19, 15, 1, 12, 8, 16, 19, 18, 7, 19, 14, 6, 7, 12, 3, 13, 10, 8, 8, 15, 16, 8, 18, 2, 18, 1, 7, 18, 14, 10, 9, 17, 3, 17, 18, 18, 6, 17, 11, 11, 8, 8, 5, 19, 18, 9, 2, 19, 1, 15, 1, 3, 19, 9, 9, 18, 5, 18, 12, 1, 2, 3, 4, 5, 7, 9, 10, 11, 12, 13, 14, 15, 16, 17, 18, 19, 20, 1, 4, 14, 8, 9, 13, 3, 16, 10, 11, 15, 15, 3, 9, 17, 15, 9, 7, 14, 5, 20, 13, 14, 10, 13, 19, 6, 1, 2, 11, 2, 2, 17, 14, 6, 4, 16, 16, 20, 18, 4, 15, 3, 3, 17, 15, 15, 14, 16, 8, 20, 18, 8, 5, 4, 5, 6, 14, 2, 16, 5, 17, 8, 20, 11, 9, 7, 12, 5, 9, 11, 17, 6, 20, 13, 5, 15, 9, 14, 2, 2, 7, 14, 17, 5, 7, 19, 16, 6, 8, 19, 13, 9, 13, 6, 20, 8, 1, 6, 13, 7, 19, 10, 13, 11, 2, 16, 12, 18, 14, 3, 11, 12, 10, 6, 13, 4, 9, 11, 7, 18, 6, 2, 19, 2, 17, 16, 4, 13, 8, 4, 17, 13, 1, 1, 18, 12, 2, 4, 10, 14, 8, 9, 12, 12, 3, 4, 9, 12, 18, 3, 13, 7, 20, 15, 1, 5, 1, 2, 3, 4, 5, 6, 8, 9, 13, 14, 15, 16, 17, 18, 19, 20, 2, 2, 8, 4, 14, 13, 14, 20, 3, 11, 2, 8, 7, 18, 1, 3, 4, 11, 18, 3, 9, 16, 15, 15, 16, 5, 10, 10, 7, 12, 14, 1, 2, 3, 5, 6, 7, 8, 9, 11, 13, 14, 15, 16, 17, 18, 19, 20, 15, 1, 15, 1, 12, 3, 8, 15, 5, 13, 11, 2, 2, 11, 11, 20, 19, 7, 4, 15, 6, 20, 8, 10, 18, 14, 8, 9, 5, 7, 4, 20, 4, 10, 9, 2, 9, 3, 4, 15, 4, 10, 7, 9, 7, 11, 17, 1], \"Freq\": [0.9997734876583378, 1.0001052824537195, 1.0001124098474583, 0.9995669348070549, 0.9993700585710088, 0.9998286161668862, 1.0001790389471388, 0.9989719324652423, 0.9992725028970924, 0.9995999239984442, 0.9999935381281346, 0.9992705032905771, 0.9992407270320268, 0.9999528654536103, 0.9996531306154908, 0.998986844978012, 1.0002293010573025, 0.999558838831156, 0.9998572088610796, 0.9998145304706135, 0.9988298670085906, 0.9996570578637537, 0.9985968304633471, 1.00003267611377, 1.0000302614226597, 1.000010556980368, 0.9995314275050994, 0.9996422464046024, 0.9997826293202703, 0.9995163552313121, 0.9986558144215899, 0.9987766935223568, 0.9999211004938996, 0.99904162733883, 0.9991805974660986, 0.9996483514636012, 0.9999199019280905, 0.9998030092535242, 0.9989095536011204, 0.9984008611578422, 0.9991859457845503, 0.8263541082197158, 0.1734969711375331, 1.0000076413521404, 0.9993879065272625, 0.9981444175747988, 1.000189117172186, 0.9995049719195299, 0.9997788928271091, 0.999861881055237, 0.9993905887672834, 0.9998790224272235, 0.9996106383056383, 0.998959547320291, 0.9999205947188775, 0.9990150413757982, 0.9988249522863987, 1.0001128877749867, 0.9988847939927937, 0.9997006259718804, 0.9989226995602429, 0.9999072632789411, 0.9987809082598796, 1.00006465885479, 0.9987326108990033, 0.9994056350576805, 0.9998670967183801, 0.9999690378443326, 0.999528353423882, 1.00010616408484, 0.99998233253735, 0.9996148250671683, 0.9995499176875164, 1.0000424800391403, 0.9997780845625498, 0.8181094192956345, 0.18197011729249787, 0.9982997840996929, 0.9995463007370943, 1.0001094251986973, 0.9990423423841525, 0.9992544307564282, 0.9999369636902359, 0.9999299068533058, 0.9996971876430257, 0.9988536864861854, 0.9994731566602292, 0.9994725987492388, 0.9999839710242119, 0.9999520847830962, 0.9996865873092596, 0.9986164057170792, 0.998855275068448, 1.0000634423092567, 0.9997197059827553, 0.9993735522484526, 0.8294279705591824, 0.17058036665515525, 0.9986041462470805, 0.9986395181392445, 0.9998315788048028, 0.9994099097749825, 0.9999437200484239, 0.9997772876363653, 0.9992031688552634, 1.0002460196936183, 0.12693468522824528, 0.10419162852441634, 0.055720488924380904, 0.08613932726575212, 0.2149218858511835, 0.04975043653962581, 0.0662391526499018, 0.042216799006482474, 0.07888997794140665, 0.046338978034051466, 0.0427853754240782, 0.05358832735839694, 0.03240885580295624, 0.9999748411376838, 0.9995519348214237, 1.0000053276489431, 0.9999132292189502, 0.9985902132149955, 0.9991200727085839, 0.9993278284173218, 0.9995282819310954, 1.000318179805344, 0.9995445507499325, 1.0001009790556896, 1.0000212022156034, 1.0003897797011747, 0.9999723520138666, 0.9996458671120114, 0.9994500577993788, 0.9982602037699958, 0.999913456510726, 0.9991761847407566, 0.999855175022331, 0.9989658656425573, 0.9980579237772047, 1.0000346895210364, 0.9977819121890882, 0.9991563092233431, 0.999866901065086, 1.000102857990712, 1.000015070900284, 0.9992794384729532, 0.999774627944489, 0.9986618272288385, 0.9975335287172762, 0.9994740142890199, 0.9992866648546433, 1.0001325832991044, 0.9992141377290069, 0.9999124647409031, 0.9996702723059271, 0.9996470473017703, 0.9993673147368478, 0.998901502608036, 1.000239149155544, 0.9998618333503535, 0.9987446167146329, 1.0000044125445835, 0.9990279224958614, 0.9996411174006553, 1.0000697837089927, 0.9982096222458368, 0.9994123078659072, 0.9996742541969506, 0.9999289652421217, 0.9992667061408216, 0.9992561222130929, 1.000118102137221, 0.9998929727311705, 0.9996767883874235, 1.0000114398448376, 0.9996160513079707, 0.9995955426839518, 0.9995801847632003, 0.9989892562094377, 0.9989354581573583, 0.9995012090725154, 0.9989912437314262, 0.999471010444487, 0.9996593520196542, 1.0005466159016037, 0.9996151731911659, 0.9996831566099998, 0.9997917855804697, 0.9993075065677357, 0.9995134679713091, 1.0000668229474687, 0.9987067939130134, 0.9989542466580368, 0.9999826775784033, 0.9980761808524491, 0.9999258990524035, 0.999703495212527, 0.9997111098070655, 0.9995305933486448, 0.9995349153951384, 0.9990174853745023, 1.0001638349416009, 0.9997718628875942, 0.9981502982322846, 1.0001295133506414, 0.9994015799564613, 0.9997785812338084, 0.9992351288338968, 0.9995934390271389, 0.9993068597045396, 0.9990708787558487, 0.9994077312990328, 1.0000063960499281, 0.9987047310191258, 0.9985277798082671, 0.9998996054580915, 0.9999118331521083, 0.9994883468485279, 1.0000843358641518, 0.9995316562242114, 0.9998940109246067, 0.9991245130021454, 0.9997339466883419, 1.0001047679802848, 1.0000393638717018, 0.9993080032409339, 1.0001245411546513, 0.9997446215713802, 1.000364409554196, 0.9997130338128098, 0.9990953362482652, 1.00008780384321, 0.9993604196323509, 0.9997935809863996, 0.9998905240908788, 0.9998246838752144, 0.9995693453569982, 0.9994901782291546, 0.9980693790409456, 1.0000237055981227, 1.00011949938427, 0.9995634868150626, 1.0000515082890054, 0.9994312995460669, 1.0000348064343358, 0.9988264905141017, 0.9994873036962525, 0.9999122208376559, 1.000081364467088, 0.9996529818411727, 0.9992856211545139, 0.9990586875670783, 1.0001580283469345, 0.999619310782333, 0.9996487933255175, 1.0002432009596307, 0.9980579864142353, 0.9990344855607969, 1.000319480145563, 0.9987162964898605, 0.99969542926341, 0.9996409329364854, 0.9998560369595862, 0.999837973207162, 0.9999732883629833, 0.9999695603595748, 0.9993944476397395, 0.9997838884049208, 0.9998859659940286, 0.9997784185440372, 0.9998312797536523, 0.9985927481086815, 1.0001982284713655, 1.0000664619586501, 1.0001442555540692, 0.9994532505117689, 0.9996306087351183, 0.9999245813004052, 0.9989680269522496, 0.9997380111913733, 1.0002112809716928, 0.9993935780290897, 0.9997115337236856, 1.0003408351227234, 1.0001171148992365, 1.0000363613431105, 0.9997385927165706, 0.9998147729683078, 0.999845562559174, 0.9990608343962815, 0.9979944238540323, 0.999907575420121, 0.9997269404581569, 0.999245499913972, 1.0002042372558828, 0.9999123109908788, 1.0000124751227104, 0.9994882277119987, 0.9998041736780107, 1.000271798995969, 0.9993910558554975, 1.0001166934975085, 0.9988822270545262, 0.9998330114068587, 0.9992434141160377, 0.9999113397670784, 1.000020177250052, 0.9997276104832646, 1.000121218736629, 0.9994379774569969, 1.0000269527728713, 1.0001341193413489, 1.0001692066996277, 0.9999092710390381, 0.9996207130088458, 0.9990339369798255, 0.9997937403808594, 0.9988418438841458, 0.9999325537942173, 0.9987721188525425, 0.9997098605111391, 0.9999688114741421, 1.000043662057885, 0.9996654960204587, 0.9986153848841967, 0.9987110427373926, 0.9992732626335061, 0.9995880476097395, 0.9992211773407894, 0.999118388961951, 1.0000314194092865, 0.9994748341211084, 0.9982777462793969, 0.9997585500675867, 0.9988371122918939, 0.999689174455606, 0.9996458870984252, 0.9992322476311906, 0.9998355145908433, 0.9982932372037951, 0.9993832727880703, 0.9995857171361313, 1.0001079713199024, 0.9990985465013388, 1.000097888053992, 0.999943673253111, 0.9993965145210078, 0.9994203298961134, 0.9998252108641708, 0.9995614877618109, 0.9997363877699625, 0.9999231657635709, 0.999944173096861, 0.5097231091109191, 0.4889849098109031, 0.9982664122392882, 0.9991560591449206, 0.9988029102252527, 1.0001575025547211, 0.9997401709594875, 0.9992668485634058, 0.998372463428784, 0.9994224455753814, 0.9999417821482008, 0.9989733786466601, 0.9994693677907822, 1.0000973334249932, 0.9994796167545109, 0.999048015654782, 0.9985492922662454, 0.9985007685169643, 0.999148142322101, 0.9998964969871866, 0.9993730937182358, 0.9997987671570822, 0.9991410396187396, 0.9994495763253439, 0.999694529280976, 0.9992630170110524, 1.0002945939667154, 0.999936986917125, 0.9992010482059469, 0.9996253963338055, 0.9980206294111515, 0.9997700582850938, 0.9985311049939863, 0.9982458411029171, 1.0000916948214675, 1.0002272649251214, 0.03489740374261358, 0.0922694941346821, 0.0721655550220895, 0.07899330792825303, 0.02152638763471001, 0.06837235896310977, 0.06021698743630333, 0.08458827211524815, 0.06287222467758914, 0.0852520814255696, 0.018397000886051725, 0.028828290048246004, 0.16661613689068497, 0.04134583704287914, 0.03925957921044028, 0.005310474482571633, 0.013371016107903574, 0.025793733201062215, 0.9993959987185405, 0.9991976335016475, 1.0000386661327842, 0.9997839132359344, 0.9996522663712739, 0.9997582854559833, 1.0000097386062414, 0.9995272266678228, 0.9991444098239792, 1.0001425031675697, 1.0002996391787355, 0.9981962450997655, 1.0001907420304996, 0.9995497198907844, 0.9989333698891034, 0.9999665863846593, 0.9993526262823232, 0.9996019470862983, 1.0004962564535755, 0.9986843398338155, 0.9997025459243019, 1.0001698962583625, 0.9999028602275584, 0.9991334122720896, 0.9984150752916724, 0.9996398224528179, 0.999438176590817, 0.9981444140115686, 0.9992974885868648, 0.9993890334729779, 0.9996663115547086, 0.9999299547404585, 1.000107748666794, 0.9998904831089361, 0.9997249109593298, 1.0001164021349584, 0.9991477043899242, 0.9999457713894518, 0.9999244428905093, 1.0001512960021222, 1.000062523159094, 0.9997687808950716, 0.9996384359944769, 0.9998329123088925, 0.9995919335668272, 0.9996874338303225, 0.9998196523688105, 0.9988571457686709, 0.9990980420119882, 0.9994853485911215, 1.000182413051769, 0.9993480095098278, 0.9983057812711017, 0.9988734008485622, 1.0004095767307646, 0.9983960731171674, 1.0002027398809483, 0.9993667473052044, 0.9995444892044134, 1.0000576522347466, 0.99992059270838, 0.9988503889121244, 0.9995942438295051, 0.9980897514600807, 0.9993000631439605, 0.9999329525861528, 0.9987848211774554, 0.9992112147454729, 0.9993503502039676, 0.9991897970859215, 0.9998119724790808, 0.999769159456529, 0.9996280442889556, 0.9995031500239944, 0.9989363901677671, 0.9998100004805164, 1.0000269421106613, 1.0002083359125415, 0.9997082490928875, 0.9993160665460934, 0.9998289179025923, 0.9990526228277937, 0.9997917225868426, 0.999784990485615, 1.0000225819727464, 1.0003889619143993, 0.9993724782009548, 0.9991701486759806, 0.9997914617067474, 0.9999073953845767, 0.9986577205968267, 1.0002657660661016, 1.000038019237519, 0.9991834734870182, 0.9995073314028805, 0.9999512501869021, 0.9999885798981196, 0.9997495149361981, 0.9994100761614597, 0.9995050448578545, 0.9998472216440093, 0.9980158349904765, 0.9996564887060793, 0.9989014596880932, 0.9994278667061125, 0.9990949988028148, 0.9982868338023666, 0.999014988364579, 0.9988307899179114, 1.0001545084116736, 0.9999770220063291, 0.9989468874464207, 0.9987894858932894, 0.9997086752790229, 0.9995336957922923, 1.000051733595151, 0.9999823259469467, 0.9998867186715849, 0.9991558392360491, 0.999305310705109, 0.9989383494114541, 0.9999473887779368, 0.9998401325188174, 0.9996031060302195, 0.999769403636827, 0.9997451876981476, 0.9981146691529017, 1.0002465466821437, 0.9996891049786251, 0.9999499161284977, 0.9996223628722813, 1.000050290206035, 0.9998467213132152, 1.0000667893322275, 0.9996066060913102, 1.0002845680993422, 0.9995060939099777, 1.0002167174279508, 0.9997061097918065, 1.0001541520852044, 0.9996284649112018, 0.9990618326889561, 1.0001106116422522, 0.9999499094344935, 0.9997776507471358, 0.9992258370287521, 0.9989129972301641, 0.9995486208178843, 1.00004899381931, 1.0000455516491873, 0.9999477390433811, 0.9992370172030354, 0.9984994018268418, 0.9998757784819334, 0.9993642711827263, 0.998696849820765, 0.9988205136750556, 0.05151651875375545, 0.0646110185038739, 0.14403949725130288, 0.20399852242289784, 0.013611387898149434, 0.044107788631977916, 0.05685769628340903, 0.0370436506088877, 0.05151651875375545, 0.051688814803099115, 0.07632714985924303, 0.052894887148504766, 0.04100645974379197, 0.018780269378459346, 0.058063768628814676, 0.03394232172070175, 0.9998903396640221, 0.9990763055162338, 1.0002854926857512, 0.9999342356582325, 1.0000381988251843, 1.0000416158104368, 0.9988349507846793, 0.9986411079301807, 1.0001317402514764, 0.9997297299506682, 0.9995934561629934, 0.9989755719442803, 0.9993149770882535, 0.9993220569143826, 0.1622020059436212, 0.5752434524241877, 0.15117856864648188, 0.11113424540381257, 0.998911265182645, 0.9999200493530938, 0.9996276869510603, 0.9988869548059194, 1.0000002723543546, 0.9992506672220931, 0.9996711650776288, 0.9999313912200795, 0.9997361039011167, 1.0001404778537795, 0.9995864573713031, 0.9998565466081661, 0.998904598387513, 0.06170490152489404, 0.13277572560267378, 0.09352149137366753, 0.06032755997299908, 0.04806922016113397, 0.2078408401809489, 0.04531453705734406, 0.05123710573049237, 0.03484674126294239, 0.03829009514267978, 0.03884103176343776, 0.018318642640202918, 0.049859764178597415, 0.03622408281483735, 0.012396073967054605, 0.05412952298947178, 0.016528098622739476, 0.9999467304388728, 0.9997524397974712, 0.9998777433070775, 0.998900850711981, 0.9994577587589363, 0.9990641529391288, 0.9986226199698498, 0.9994705250598823, 1.0000418580873947, 0.999195225332417, 0.9998168177532584, 1.0001090545920903, 0.9985466737922742, 0.9986404383514549, 0.9999639660971221, 0.9988620932036606, 1.0002007032484843, 0.9999117700050404, 0.9995169833730614, 0.999623964748003, 0.9997593852228123, 1.000155549206314, 0.9999730885074525, 0.9995236708602542, 1.000044479353921, 0.9998853164806698, 0.998526502215843, 0.9994289579979846, 0.9988292304847866, 1.000090653614077, 1.0000475481061768, 1.000000935117701, 0.9999243956695842, 1.0000116001598598, 0.9993486783195549, 1.0000289552665105, 0.9991461824776685, 0.9986279521520232, 1.0002463063470741, 0.9985390396465769, 0.901847126816235, 0.09709327245226547, 0.9997403233661283, 0.9997823722976031, 0.9995851082567146, 0.9998753844964056, 0.9991913345034846, 0.9992035257524061], \"Term\": [\"able\", \"across\", \"act\", \"action\", \"active_case\", \"actually\", \"add\", \"address\", \"advice\", \"affect\", \"africa\", \"age\", \"agree\", \"alert\", \"allow\", \"almost\", \"along\", \"already\", \"always\", \"america\", \"american\", \"americans\", \"americans_die\", \"amid\", \"among\", \"amp\", \"announce\", \"another\", \"answer\", \"anyone\", \"anything\", \"area\", \"around\", \"around_world\", \"article\", \"ask\", \"august\", \"australia\", \"available\", \"avoid\", \"away\", \"back\", \"back\", \"bad\", \"base\", \"battle\", \"bc\", \"become\", \"begin\", \"believe\", \"benefit\", \"best\", \"big\", \"black\", \"book\", \"break\", \"breaking\", \"bring\", \"brother\", \"business\", \"buy\", \"ca\", \"california\", \"call\", \"campaign\", \"canada\", \"care\", \"case\", \"cases\", \"catch\", \"cause\", \"cdc\", \"challenge\", \"change\", \"check\", \"child\", \"child\", \"children\", \"china\", \"city\", \"claim\", \"class\", \"close\", \"cnn\", \"college\", \"comment\", \"community\", \"company\", \"compare\", \"concern\", \"confirm\", \"consider\", \"contact\", \"continue\", \"control\", \"corona\", \"coronavirus\", \"coronavirus\", \"coronavirus_coronavirusupdate_coronaviruspandemic\", \"cost\", \"could\", \"count\", \"country\", \"county\", \"course\", \"cover\", \"covid\", \"covid\", \"covid\", \"covid\", \"covid\", \"covid\", \"covid\", \"covid\", \"covid\", \"covid\", \"covid\", \"covid\", \"covid\", \"covidiots\", \"create\", \"crisis\", \"critical\", \"cure\", \"current\", \"currently\", \"customer\", \"cut\", \"daily\", \"daily_even\", \"data\", \"date\", \"day\", \"dead\", \"deal\", \"dear\", \"death\", \"death_toll\", \"deaths\", \"decision\", \"delhi\", \"deliver\", \"deliver_copy_official\", \"demand\", \"democrats\", \"despite\", \"detail\", \"develop\", \"die\", \"different\", \"digital\", \"discuss\", \"disease\", \"doctor\", \"drop\", \"due\", \"early\", \"economy\", \"education\", \"effect\", \"effective\", \"either\", \"election\", \"emergency\", \"employee\", \"end\", \"enough\", \"ensure\", \"enter\", \"especially\", \"even\", \"event\", \"ever\", \"every\", \"everyone\", \"everything\", \"evidence\", \"exam\", \"expect\", \"experience\", \"expert\", \"expose\", \"face\", \"face_mask\", \"fact\", \"fail\", \"fake\", \"fall\", \"family\", \"far\", \"fear\", \"feel\", \"fight\", \"figure\", \"finally\", \"find\", \"fine\", \"first\", \"florida\", \"flu\", \"focus\", \"follow\", \"food\", \"force\", \"forget\", \"four\", \"free\", \"friday\", \"friend\", \"fuck\", \"full\", \"fund\", \"funny\", \"future\", \"game\", \"georgia\", \"germany\", \"give\", \"global\", \"global_pandemic_news\", \"gmt_coronavirus_coronavirusupdate_coronaviruspandemic\", \"god\", \"good\", \"gop\", \"government\", \"govt\", \"great\", \"group\", \"grow\", \"gt\", \"guess\", \"guy\", \"hand\", \"happen\", \"happy\", \"hard\", \"head\", \"health\", \"healthcare\", \"hear\", \"hell\", \"help\", \"help_slow_spread_identify\", \"hey\", \"high\", \"history\", \"hit\", \"hoax\", \"hold\", \"home\", \"hope\", \"hospital\", \"host\", \"hour\", \"house\", \"https\", \"huge\", \"human\", \"icymi\", \"idea\", \"ignore\", \"immunity\", \"impact\", \"important\", \"include\", \"increase\", \"india\", \"industry\", \"infect\", \"infection\", \"info\", \"information\", \"instead\", \"interesting\", \"interview\", \"isolation\", \"issue\", \"job\", \"joebiden\", \"join\", \"july\", \"keep\", \"key\", \"kid\", \"kill\", \"large\", \"last\", \"last_hour\", \"late\", \"launch\", \"lead\", \"leader\", \"leadership\", \"learn\", \"least\", \"leave\", \"less\", \"let\", \"level\", \"lie\", \"life\", \"likely\", \"line\", \"link\", \"list\", \"listen\", \"little\", \"live\", \"local\", \"lockdown\", \"lol\", \"long\", \"look\", \"lose\", \"lot\", \"love\", \"low\", \"major\", \"man\", \"manage\", \"many\", \"many_people\", \"march\", \"market\", \"mask\", \"masks\", \"massive\", \"matter\", \"maybe\", \"mean\", \"measure\", \"medical\", \"medium\", \"meet\", \"meeting\", \"member\", \"message\", \"might\", \"million\", \"mind\", \"miss\", \"monday\", \"money\", \"month\", \"morning\", \"move\", \"much\", \"must\", \"name\", \"nation\", \"national\", \"nearly\", \"never\", \"new\", \"new_case\", \"new_case_new\", \"new_case_new\", \"new_case_report\", \"new_confirm_case\", \"new_death\", \"new_death_bring\", \"news\", \"next\", \"nigeria\", \"nothing\", \"number\", \"nyc\", \"odisha\", \"offer\", \"office\", \"official\", \"oh\", \"ok\", \"old\", \"online\", \"open\", \"opportunity\", \"order\", \"others\", \"outbreak\", \"outside\", \"pakistan\", \"pandemic\", \"parent\", \"part\", \"partner\", \"party\", \"pass\", \"past\", \"patient\", \"pay\", \"people\", \"people\", \"people\", \"people\", \"people\", \"people\", \"people\", \"people\", \"people\", \"people\", \"people\", \"people\", \"people\", \"people\", \"people\", \"people\", \"people\", \"people\", \"people_die\", \"per\", \"person\", \"place\", \"plan\", \"play\", \"please\", \"pm\", \"point\", \"police\", \"policy\", \"poor\", \"population\", \"positive\", \"possible\", \"post\", \"potus\", \"power\", \"ppl\", \"prepare\", \"present\", \"president\", \"prevent\", \"problem\", \"process\", \"program\", \"project\", \"projectlincoln\", \"protect\", \"protest\", \"provide\", \"public\", \"public_health\", \"push\", \"put\", \"quarantine\", \"question\", \"quick\", \"rally\", \"rate\", \"reach\", \"read\", \"real\", \"realdonaldtrump\", \"reality\", \"really\", \"reason\", \"receive\", \"recent\", \"record\", \"recover\", \"recovery\", \"reduce\", \"regard\", \"register\", \"relate\", \"release\", \"remain\", \"remember\", \"reopen\", \"report\", \"require\", \"research\", \"resident\", \"resource\", \"response\", \"restaurant\", \"restriction\", \"result\", \"return\", \"right\", \"rise\", \"risk\", \"risk_case_sooner_symptom\", \"rule\", \"run\", \"russia\", \"sad\", \"safe\", \"safety\", \"saturday\", \"save\", \"saw\", \"school\", \"science\", \"season\", \"second\", \"seem\", \"send\", \"september\", \"series\", \"serious\", \"seriously\", \"service\", \"set\", \"share\", \"show\", \"shut\", \"sick\", \"sign\", \"since\", \"sir\", \"situation\", \"small\", \"social\", \"social_distancing\", \"socialdistancing\", \"society\", \"solution\", \"someone\", \"soon\", \"speak\", \"special\", \"spread\", \"staff\", \"stand\", \"start\", \"state\", \"stay\", \"stay_safe\", \"step\", \"still\", \"stop\", \"story\", \"strategy\", \"street\", \"stress\", \"strong\", \"student\", \"study\", \"stupid\", \"summer\", \"support\", \"sure\", \"surge\", \"survive\", \"symptom\", \"system\", \"talk\", \"teacher\", \"team\", \"technology\", \"tell\", \"test\", \"test_positive\", \"testing\", \"texas\", \"thank\", \"thanks\", \"thing\", \"think\", \"though\", \"thought\", \"thousand\", \"thread\", \"threat\", \"three\", \"time\", \"time\", \"time\", \"time\", \"time\", \"time\", \"time\", \"time\", \"time\", \"time\", \"time\", \"time\", \"time\", \"time\", \"time\", \"time\", \"today\", \"together\", \"tonight\", \"top\", \"total\", \"total_case\", \"total_confirmed_case\", \"total_death\", \"track\", \"travel\", \"treat\", \"treatment\", \"trend\", \"true\", \"trump\", \"trump\", \"trump\", \"trump\", \"trust\", \"truth\", \"try\", \"turn\", \"tweet\", \"twitter\", \"two\", \"type\", \"uk\", \"understand\", \"university\", \"update\", \"update_new_case\", \"us\", \"us\", \"us\", \"us\", \"us\", \"us\", \"us\", \"us\", \"us\", \"us\", \"us\", \"us\", \"us\", \"us\", \"us\", \"us\", \"us\", \"usa\", \"vaccine\", \"via\", \"via_youtube\", \"victoria\", \"video\", \"view\", \"virtual\", \"virus\", \"visit\", \"vote\", \"wait\", \"wake\", \"walk\", \"watch\", \"water\", \"wave\", \"way\", \"wear\", \"wear_mask\", \"wearamask\", \"website\", \"week\", \"weekend\", \"welcome\", \"well\", \"whole\", \"win\", \"wish\", \"without\", \"woman\", \"wonder\", \"word\", \"work\", \"worker\", \"world\", \"worldwide\", \"worry\", \"wow\", \"write\", \"wrong\", \"wrong\", \"year\", \"yes\", \"yesterday\", \"yet\", \"young\", \"zero\"]}, \"R\": 30, \"lambda.step\": 0.01, \"plot.opts\": {\"xlab\": \"PC1\", \"ylab\": \"PC2\"}, \"topic.order\": [16, 18, 15, 4, 5, 14, 11, 9, 20, 10, 6, 8, 7, 3, 2, 12, 1, 19, 13, 17]};\n",
       "\n",
       "function LDAvis_load_lib(url, callback){\n",
       "  var s = document.createElement('script');\n",
       "  s.src = url;\n",
       "  s.async = true;\n",
       "  s.onreadystatechange = s.onload = callback;\n",
       "  s.onerror = function(){console.warn(\"failed to load library \" + url);};\n",
       "  document.getElementsByTagName(\"head\")[0].appendChild(s);\n",
       "}\n",
       "\n",
       "if(typeof(LDAvis) !== \"undefined\"){\n",
       "   // already loaded: just create the visualization\n",
       "   !function(LDAvis){\n",
       "       new LDAvis(\"#\" + \"ldavis_el2779674233611043281459197\", ldavis_el2779674233611043281459197_data);\n",
       "   }(LDAvis);\n",
       "}else if(typeof define === \"function\" && define.amd){\n",
       "   // require.js is available: use it to load d3/LDAvis\n",
       "   require.config({paths: {d3: \"https://cdnjs.cloudflare.com/ajax/libs/d3/3.5.5/d3.min\"}});\n",
       "   require([\"d3\"], function(d3){\n",
       "      window.d3 = d3;\n",
       "      LDAvis_load_lib(\"https://cdn.rawgit.com/bmabey/pyLDAvis/files/ldavis.v1.0.0.js\", function(){\n",
       "        new LDAvis(\"#\" + \"ldavis_el2779674233611043281459197\", ldavis_el2779674233611043281459197_data);\n",
       "      });\n",
       "    });\n",
       "}else{\n",
       "    // require.js not available: dynamically load d3 & LDAvis\n",
       "    LDAvis_load_lib(\"https://cdnjs.cloudflare.com/ajax/libs/d3/3.5.5/d3.min.js\", function(){\n",
       "         LDAvis_load_lib(\"https://cdn.rawgit.com/bmabey/pyLDAvis/files/ldavis.v1.0.0.js\", function(){\n",
       "                 new LDAvis(\"#\" + \"ldavis_el2779674233611043281459197\", ldavis_el2779674233611043281459197_data);\n",
       "            })\n",
       "         });\n",
       "}\n",
       "</script>"
      ],
      "text/plain": [
       "<IPython.core.display.HTML object>"
      ]
     },
     "execution_count": 52,
     "metadata": {},
     "output_type": "execute_result"
    }
   ],
   "source": [
    "#!pip3 install pyLDAvis\n",
    "# https://cran.r-project.org/web/packages/LDAvis/vignettes/details.pdf\n",
    "# Here a short legend to explain the vis:\n",
    "# size of bubble: proportional to the proportions of the topics across the N total tokens in the corpus\n",
    "# red bars: estimated number of times a given term was generated by a given topic\n",
    "# blue bars: overall frequency of each term in the corpus\n",
    "# -- Relevance of words is computed with a parameter lambda\n",
    "# -- Lambda optimal value ~0.6 (https://nlp.stanford.edu/events/illvi2014/papers/sievert-illvi2014.pdf)\n",
    "%matplotlib inline\n",
    "import pyLDAvis\n",
    "import pyLDAvis.gensim\n",
    "vis = pyLDAvis.gensim.prepare(topic_model=lda_model, corpus=corpus, dictionary=dictionary_LDA)\n",
    "pyLDAvis.enable_notebook()\n",
    "pyLDAvis.display(vis)"
   ]
  },
  {
   "cell_type": "code",
   "execution_count": null,
   "metadata": {},
   "outputs": [],
   "source": []
  }
 ],
 "metadata": {
  "kernelspec": {
   "display_name": "Python 3",
   "language": "python",
   "name": "python3"
  },
  "language_info": {
   "codemirror_mode": {
    "name": "ipython",
    "version": 3
   },
   "file_extension": ".py",
   "mimetype": "text/x-python",
   "name": "python",
   "nbconvert_exporter": "python",
   "pygments_lexer": "ipython3",
   "version": "3.7.5"
  }
 },
 "nbformat": 4,
 "nbformat_minor": 4
}
