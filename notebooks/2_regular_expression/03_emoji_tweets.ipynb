{
 "cells": [
  {
   "cell_type": "markdown",
   "metadata": {},
   "source": [
    "### This file combines tweets with emojis and the emoji sentiment analysis from Noval et al. (2015)."
   ]
  },
  {
   "cell_type": "code",
   "execution_count": 1,
   "metadata": {},
   "outputs": [],
   "source": [
    "import pandas as pd\n",
    "import re\n",
    "import emoji\n",
    "import matplotlib.pyplot as plt\n",
    "import numpy as np\n",
    "import itertools\n",
    "from itertools import groupby, islice"
   ]
  },
  {
   "cell_type": "code",
   "execution_count": 53,
   "metadata": {},
   "outputs": [],
   "source": [
    "emoji_ranking = pd.read_csv('emoji_sentiment.csv',encoding = 'utf-8')"
   ]
  },
  {
   "cell_type": "code",
   "execution_count": 54,
   "metadata": {
    "scrolled": false
   },
   "outputs": [
    {
     "name": "stdout",
     "output_type": "stream",
     "text": [
      "(969, 9)\n"
     ]
    },
    {
     "data": {
      "text/html": [
       "<div>\n",
       "<style scoped>\n",
       "    .dataframe tbody tr th:only-of-type {\n",
       "        vertical-align: middle;\n",
       "    }\n",
       "\n",
       "    .dataframe tbody tr th {\n",
       "        vertical-align: top;\n",
       "    }\n",
       "\n",
       "    .dataframe thead th {\n",
       "        text-align: right;\n",
       "    }\n",
       "</style>\n",
       "<table border=\"1\" class=\"dataframe\">\n",
       "  <thead>\n",
       "    <tr style=\"text-align: right;\">\n",
       "      <th></th>\n",
       "      <th>Emoji</th>\n",
       "      <th>Unicode codepoint</th>\n",
       "      <th>Occurrences</th>\n",
       "      <th>Position</th>\n",
       "      <th>Negative</th>\n",
       "      <th>Neutral</th>\n",
       "      <th>Positive</th>\n",
       "      <th>Unicode name</th>\n",
       "      <th>Unicode block</th>\n",
       "    </tr>\n",
       "  </thead>\n",
       "  <tbody>\n",
       "    <tr>\n",
       "      <td>0</td>\n",
       "      <td>😂</td>\n",
       "      <td>0x1f602</td>\n",
       "      <td>14622</td>\n",
       "      <td>0.805101</td>\n",
       "      <td>3614</td>\n",
       "      <td>4163</td>\n",
       "      <td>6845</td>\n",
       "      <td>FACE WITH TEARS OF JOY</td>\n",
       "      <td>Emoticons</td>\n",
       "    </tr>\n",
       "    <tr>\n",
       "      <td>1</td>\n",
       "      <td>❤</td>\n",
       "      <td>0x2764</td>\n",
       "      <td>8050</td>\n",
       "      <td>0.746943</td>\n",
       "      <td>355</td>\n",
       "      <td>1334</td>\n",
       "      <td>6361</td>\n",
       "      <td>HEAVY BLACK HEART</td>\n",
       "      <td>Dingbats</td>\n",
       "    </tr>\n",
       "    <tr>\n",
       "      <td>2</td>\n",
       "      <td>♥</td>\n",
       "      <td>0x2665</td>\n",
       "      <td>7144</td>\n",
       "      <td>0.753806</td>\n",
       "      <td>252</td>\n",
       "      <td>1942</td>\n",
       "      <td>4950</td>\n",
       "      <td>BLACK HEART SUIT</td>\n",
       "      <td>Miscellaneous Symbols</td>\n",
       "    </tr>\n",
       "    <tr>\n",
       "      <td>3</td>\n",
       "      <td>😍</td>\n",
       "      <td>0x1f60d</td>\n",
       "      <td>6359</td>\n",
       "      <td>0.765292</td>\n",
       "      <td>329</td>\n",
       "      <td>1390</td>\n",
       "      <td>4640</td>\n",
       "      <td>SMILING FACE WITH HEART-SHAPED EYES</td>\n",
       "      <td>Emoticons</td>\n",
       "    </tr>\n",
       "    <tr>\n",
       "      <td>4</td>\n",
       "      <td>😭</td>\n",
       "      <td>0x1f62d</td>\n",
       "      <td>5526</td>\n",
       "      <td>0.803352</td>\n",
       "      <td>2412</td>\n",
       "      <td>1218</td>\n",
       "      <td>1896</td>\n",
       "      <td>LOUDLY CRYING FACE</td>\n",
       "      <td>Emoticons</td>\n",
       "    </tr>\n",
       "  </tbody>\n",
       "</table>\n",
       "</div>"
      ],
      "text/plain": [
       "  Emoji Unicode codepoint  Occurrences  Position  Negative  Neutral  Positive  \\\n",
       "0     😂           0x1f602        14622  0.805101      3614     4163      6845   \n",
       "1     ❤            0x2764         8050  0.746943       355     1334      6361   \n",
       "2     ♥            0x2665         7144  0.753806       252     1942      4950   \n",
       "3     😍           0x1f60d         6359  0.765292       329     1390      4640   \n",
       "4     😭           0x1f62d         5526  0.803352      2412     1218      1896   \n",
       "\n",
       "                          Unicode name          Unicode block  \n",
       "0               FACE WITH TEARS OF JOY              Emoticons  \n",
       "1                    HEAVY BLACK HEART               Dingbats  \n",
       "2                     BLACK HEART SUIT  Miscellaneous Symbols  \n",
       "3  SMILING FACE WITH HEART-SHAPED EYES              Emoticons  \n",
       "4                   LOUDLY CRYING FACE              Emoticons  "
      ]
     },
     "execution_count": 54,
     "metadata": {},
     "output_type": "execute_result"
    }
   ],
   "source": [
    "print(emoji_ranking.shape)\n",
    "emoji_ranking.head()"
   ]
  },
  {
   "cell_type": "code",
   "execution_count": null,
   "metadata": {},
   "outputs": [],
   "source": []
  },
  {
   "cell_type": "code",
   "execution_count": 55,
   "metadata": {},
   "outputs": [],
   "source": [
    "# switch to utf8-encoding\n",
    "def emoji_utf8(text):\n",
    "    return f'0x{ord(text):X}'\n",
    "emoji_ranking['emoji'] = [emoji_utf8(i) for i in emoji_ranking['Emoji']]"
   ]
  },
  {
   "cell_type": "code",
   "execution_count": 56,
   "metadata": {},
   "outputs": [],
   "source": [
    "emoji_ranking['Emoji'] = [emoji.demojize(i) for i in emoji_ranking['Emoji']]\n"
   ]
  },
  {
   "cell_type": "code",
   "execution_count": 57,
   "metadata": {},
   "outputs": [],
   "source": [
    "emoji_ranking = emoji_ranking.rename(columns={\"Unicode codepoint\": \"encode\"})"
   ]
  },
  {
   "cell_type": "code",
   "execution_count": 58,
   "metadata": {},
   "outputs": [],
   "source": [
    "emoji_ranking['Sum'] = [emoji_ranking.Negative[i] + emoji_ranking.Neutral[i] + emoji_ranking.Positive[i] for i in range(len(emoji_ranking))]\n",
    "\n",
    "emoji_ranking['Neg_percent'] =  [emoji_ranking.Negative[i]/emoji_ranking.Sum[i] for i in range(len(emoji_ranking))] \n",
    "emoji_ranking['Neu_percent'] =  [emoji_ranking.Neutral[i]/emoji_ranking.Sum[i] for i in range(len(emoji_ranking))] \n",
    "emoji_ranking['Pos_percent'] =  [emoji_ranking.Positive[i]/emoji_ranking.Sum[i] for i in range(len(emoji_ranking))]\n",
    "\n",
    "emoji_ranking['sentiment_score'] = [-emoji_ranking.Neg_percent[i]+emoji_ranking.Pos_percent[i] for i in range(len(emoji_ranking))]"
   ]
  },
  {
   "cell_type": "code",
   "execution_count": 59,
   "metadata": {},
   "outputs": [
    {
     "data": {
      "text/html": [
       "<div>\n",
       "<style scoped>\n",
       "    .dataframe tbody tr th:only-of-type {\n",
       "        vertical-align: middle;\n",
       "    }\n",
       "\n",
       "    .dataframe tbody tr th {\n",
       "        vertical-align: top;\n",
       "    }\n",
       "\n",
       "    .dataframe thead th {\n",
       "        text-align: right;\n",
       "    }\n",
       "</style>\n",
       "<table border=\"1\" class=\"dataframe\">\n",
       "  <thead>\n",
       "    <tr style=\"text-align: right;\">\n",
       "      <th></th>\n",
       "      <th>Emoji</th>\n",
       "      <th>encode</th>\n",
       "      <th>Occurrences</th>\n",
       "      <th>Position</th>\n",
       "      <th>Negative</th>\n",
       "      <th>Neutral</th>\n",
       "      <th>Positive</th>\n",
       "      <th>Unicode name</th>\n",
       "      <th>Unicode block</th>\n",
       "      <th>emoji</th>\n",
       "      <th>Sum</th>\n",
       "      <th>Neg_percent</th>\n",
       "      <th>Neu_percent</th>\n",
       "      <th>Pos_percent</th>\n",
       "      <th>sentiment_score</th>\n",
       "    </tr>\n",
       "  </thead>\n",
       "  <tbody>\n",
       "    <tr>\n",
       "      <td>968</td>\n",
       "      <td>:notebook_with_decorative_cover:</td>\n",
       "      <td>0x1f4d4</td>\n",
       "      <td>1</td>\n",
       "      <td>0.814815</td>\n",
       "      <td>0</td>\n",
       "      <td>0</td>\n",
       "      <td>1</td>\n",
       "      <td>NOTEBOOK WITH DECORATIVE COVER</td>\n",
       "      <td>Miscellaneous Symbols and Pictographs</td>\n",
       "      <td>0x1F4D4</td>\n",
       "      <td>1</td>\n",
       "      <td>0.0</td>\n",
       "      <td>0.0</td>\n",
       "      <td>1.0</td>\n",
       "      <td>1.0</td>\n",
       "    </tr>\n",
       "    <tr>\n",
       "      <td>919</td>\n",
       "      <td>:white_small_square:</td>\n",
       "      <td>0x25ab</td>\n",
       "      <td>1</td>\n",
       "      <td>0.126761</td>\n",
       "      <td>0</td>\n",
       "      <td>0</td>\n",
       "      <td>1</td>\n",
       "      <td>WHITE SMALL SQUARE</td>\n",
       "      <td>Geometric Shapes</td>\n",
       "      <td>0x25AB</td>\n",
       "      <td>1</td>\n",
       "      <td>0.0</td>\n",
       "      <td>0.0</td>\n",
       "      <td>1.0</td>\n",
       "      <td>1.0</td>\n",
       "    </tr>\n",
       "    <tr>\n",
       "      <td>912</td>\n",
       "      <td>ⓕ</td>\n",
       "      <td>0x24d5</td>\n",
       "      <td>1</td>\n",
       "      <td>0.100000</td>\n",
       "      <td>0</td>\n",
       "      <td>0</td>\n",
       "      <td>1</td>\n",
       "      <td>CIRCLED LATIN SMALL LETTER F</td>\n",
       "      <td>Enclosed Alphanumerics</td>\n",
       "      <td>0x24D5</td>\n",
       "      <td>1</td>\n",
       "      <td>0.0</td>\n",
       "      <td>0.0</td>\n",
       "      <td>1.0</td>\n",
       "      <td>1.0</td>\n",
       "    </tr>\n",
       "    <tr>\n",
       "      <td>913</td>\n",
       "      <td>ⓘ</td>\n",
       "      <td>0x24d8</td>\n",
       "      <td>1</td>\n",
       "      <td>0.166667</td>\n",
       "      <td>0</td>\n",
       "      <td>0</td>\n",
       "      <td>1</td>\n",
       "      <td>CIRCLED LATIN SMALL LETTER I</td>\n",
       "      <td>Enclosed Alphanumerics</td>\n",
       "      <td>0x24D8</td>\n",
       "      <td>1</td>\n",
       "      <td>0.0</td>\n",
       "      <td>0.0</td>\n",
       "      <td>1.0</td>\n",
       "      <td>1.0</td>\n",
       "    </tr>\n",
       "    <tr>\n",
       "      <td>831</td>\n",
       "      <td>:fast_down_button:</td>\n",
       "      <td>0x23ec</td>\n",
       "      <td>3</td>\n",
       "      <td>0.798387</td>\n",
       "      <td>0</td>\n",
       "      <td>0</td>\n",
       "      <td>3</td>\n",
       "      <td>BLACK DOWN-POINTING DOUBLE TRIANGLE</td>\n",
       "      <td>Miscellaneous Technical</td>\n",
       "      <td>0x23EC</td>\n",
       "      <td>3</td>\n",
       "      <td>0.0</td>\n",
       "      <td>0.0</td>\n",
       "      <td>1.0</td>\n",
       "      <td>1.0</td>\n",
       "    </tr>\n",
       "    <tr>\n",
       "      <td>...</td>\n",
       "      <td>...</td>\n",
       "      <td>...</td>\n",
       "      <td>...</td>\n",
       "      <td>...</td>\n",
       "      <td>...</td>\n",
       "      <td>...</td>\n",
       "      <td>...</td>\n",
       "      <td>...</td>\n",
       "      <td>...</td>\n",
       "      <td>...</td>\n",
       "      <td>...</td>\n",
       "      <td>...</td>\n",
       "      <td>...</td>\n",
       "      <td>...</td>\n",
       "      <td>...</td>\n",
       "    </tr>\n",
       "    <tr>\n",
       "      <td>900</td>\n",
       "      <td>:Aries:</td>\n",
       "      <td>0x2648</td>\n",
       "      <td>1</td>\n",
       "      <td>0.524590</td>\n",
       "      <td>1</td>\n",
       "      <td>0</td>\n",
       "      <td>0</td>\n",
       "      <td>ARIES</td>\n",
       "      <td>Miscellaneous Symbols</td>\n",
       "      <td>0x2648</td>\n",
       "      <td>1</td>\n",
       "      <td>1.0</td>\n",
       "      <td>0.0</td>\n",
       "      <td>0.0</td>\n",
       "      <td>-1.0</td>\n",
       "    </tr>\n",
       "    <tr>\n",
       "      <td>939</td>\n",
       "      <td>:ten-thirty:</td>\n",
       "      <td>0x1f565</td>\n",
       "      <td>1</td>\n",
       "      <td>0.811966</td>\n",
       "      <td>1</td>\n",
       "      <td>0</td>\n",
       "      <td>0</td>\n",
       "      <td>CLOCK FACE TEN-THIRTY</td>\n",
       "      <td>Miscellaneous Symbols and Pictographs</td>\n",
       "      <td>0x1F565</td>\n",
       "      <td>1</td>\n",
       "      <td>1.0</td>\n",
       "      <td>0.0</td>\n",
       "      <td>0.0</td>\n",
       "      <td>-1.0</td>\n",
       "    </tr>\n",
       "    <tr>\n",
       "      <td>889</td>\n",
       "      <td>࿎</td>\n",
       "      <td>0xfce</td>\n",
       "      <td>2</td>\n",
       "      <td>0.232143</td>\n",
       "      <td>2</td>\n",
       "      <td>0</td>\n",
       "      <td>0</td>\n",
       "      <td>TIBETAN SIGN RDEL NAG RDEL DKAR</td>\n",
       "      <td>Tibetan</td>\n",
       "      <td>0xFCE</td>\n",
       "      <td>2</td>\n",
       "      <td>1.0</td>\n",
       "      <td>0.0</td>\n",
       "      <td>0.0</td>\n",
       "      <td>-1.0</td>\n",
       "    </tr>\n",
       "    <tr>\n",
       "      <td>932</td>\n",
       "      <td>:postbox:</td>\n",
       "      <td>0x1f4ee</td>\n",
       "      <td>1</td>\n",
       "      <td>0.798319</td>\n",
       "      <td>1</td>\n",
       "      <td>0</td>\n",
       "      <td>0</td>\n",
       "      <td>POSTBOX</td>\n",
       "      <td>Miscellaneous Symbols and Pictographs</td>\n",
       "      <td>0x1F4EE</td>\n",
       "      <td>1</td>\n",
       "      <td>1.0</td>\n",
       "      <td>0.0</td>\n",
       "      <td>0.0</td>\n",
       "      <td>-1.0</td>\n",
       "    </tr>\n",
       "    <tr>\n",
       "      <td>877</td>\n",
       "      <td>꒦</td>\n",
       "      <td>0xa4a6</td>\n",
       "      <td>2</td>\n",
       "      <td>0.953125</td>\n",
       "      <td>2</td>\n",
       "      <td>0</td>\n",
       "      <td>0</td>\n",
       "      <td>YI RADICAL GGUO</td>\n",
       "      <td>Yi Radicals</td>\n",
       "      <td>0xA4A6</td>\n",
       "      <td>2</td>\n",
       "      <td>1.0</td>\n",
       "      <td>0.0</td>\n",
       "      <td>0.0</td>\n",
       "      <td>-1.0</td>\n",
       "    </tr>\n",
       "  </tbody>\n",
       "</table>\n",
       "<p>969 rows × 15 columns</p>\n",
       "</div>"
      ],
      "text/plain": [
       "                                Emoji   encode  Occurrences  Position  \\\n",
       "968  :notebook_with_decorative_cover:  0x1f4d4            1  0.814815   \n",
       "919              :white_small_square:   0x25ab            1  0.126761   \n",
       "912                                 ⓕ   0x24d5            1  0.100000   \n",
       "913                                 ⓘ   0x24d8            1  0.166667   \n",
       "831                :fast_down_button:   0x23ec            3  0.798387   \n",
       "..                                ...      ...          ...       ...   \n",
       "900                           :Aries:   0x2648            1  0.524590   \n",
       "939                      :ten-thirty:  0x1f565            1  0.811966   \n",
       "889                                 ࿎    0xfce            2  0.232143   \n",
       "932                         :postbox:  0x1f4ee            1  0.798319   \n",
       "877                                 ꒦   0xa4a6            2  0.953125   \n",
       "\n",
       "     Negative  Neutral  Positive                         Unicode name  \\\n",
       "968         0        0         1       NOTEBOOK WITH DECORATIVE COVER   \n",
       "919         0        0         1                   WHITE SMALL SQUARE   \n",
       "912         0        0         1         CIRCLED LATIN SMALL LETTER F   \n",
       "913         0        0         1         CIRCLED LATIN SMALL LETTER I   \n",
       "831         0        0         3  BLACK DOWN-POINTING DOUBLE TRIANGLE   \n",
       "..        ...      ...       ...                                  ...   \n",
       "900         1        0         0                                ARIES   \n",
       "939         1        0         0                CLOCK FACE TEN-THIRTY   \n",
       "889         2        0         0      TIBETAN SIGN RDEL NAG RDEL DKAR   \n",
       "932         1        0         0                              POSTBOX   \n",
       "877         2        0         0                      YI RADICAL GGUO   \n",
       "\n",
       "                             Unicode block    emoji  Sum  Neg_percent  \\\n",
       "968  Miscellaneous Symbols and Pictographs  0x1F4D4    1          0.0   \n",
       "919                       Geometric Shapes   0x25AB    1          0.0   \n",
       "912                 Enclosed Alphanumerics   0x24D5    1          0.0   \n",
       "913                 Enclosed Alphanumerics   0x24D8    1          0.0   \n",
       "831                Miscellaneous Technical   0x23EC    3          0.0   \n",
       "..                                     ...      ...  ...          ...   \n",
       "900                  Miscellaneous Symbols   0x2648    1          1.0   \n",
       "939  Miscellaneous Symbols and Pictographs  0x1F565    1          1.0   \n",
       "889                                Tibetan    0xFCE    2          1.0   \n",
       "932  Miscellaneous Symbols and Pictographs  0x1F4EE    1          1.0   \n",
       "877                            Yi Radicals   0xA4A6    2          1.0   \n",
       "\n",
       "     Neu_percent  Pos_percent  sentiment_score  \n",
       "968          0.0          1.0              1.0  \n",
       "919          0.0          1.0              1.0  \n",
       "912          0.0          1.0              1.0  \n",
       "913          0.0          1.0              1.0  \n",
       "831          0.0          1.0              1.0  \n",
       "..           ...          ...              ...  \n",
       "900          0.0          0.0             -1.0  \n",
       "939          0.0          0.0             -1.0  \n",
       "889          0.0          0.0             -1.0  \n",
       "932          0.0          0.0             -1.0  \n",
       "877          0.0          0.0             -1.0  \n",
       "\n",
       "[969 rows x 15 columns]"
      ]
     },
     "execution_count": 59,
     "metadata": {},
     "output_type": "execute_result"
    }
   ],
   "source": [
    "emoji_ranking.sort_values('sentiment_score',ascending=False)"
   ]
  },
  {
   "cell_type": "code",
   "execution_count": 2,
   "metadata": {},
   "outputs": [],
   "source": [
    "covid = pd.read_csv('covid19_tweets_final.csv',encoding = 'utf-8')"
   ]
  },
  {
   "cell_type": "code",
   "execution_count": 3,
   "metadata": {
    "scrolled": true
   },
   "outputs": [
    {
     "data": {
      "text/plain": [
       "(91448, 26)"
      ]
     },
     "execution_count": 3,
     "metadata": {},
     "output_type": "execute_result"
    }
   ],
   "source": [
    "covid.shape"
   ]
  },
  {
   "cell_type": "code",
   "execution_count": 114,
   "metadata": {},
   "outputs": [
    {
     "data": {
      "text/plain": [
       "'2020-01-27 00:24:01'"
      ]
     },
     "execution_count": 114,
     "metadata": {},
     "output_type": "execute_result"
    }
   ],
   "source": [
    "min(covid['date'])"
   ]
  },
  {
   "cell_type": "code",
   "execution_count": 115,
   "metadata": {},
   "outputs": [
    {
     "data": {
      "text/plain": [
       "'2020-09-30 23:59:40'"
      ]
     },
     "execution_count": 115,
     "metadata": {},
     "output_type": "execute_result"
    }
   ],
   "source": [
    "max(covid['date'])"
   ]
  },
  {
   "cell_type": "code",
   "execution_count": 62,
   "metadata": {},
   "outputs": [
    {
     "data": {
      "text/html": [
       "<div>\n",
       "<style scoped>\n",
       "    .dataframe tbody tr th:only-of-type {\n",
       "        vertical-align: middle;\n",
       "    }\n",
       "\n",
       "    .dataframe tbody tr th {\n",
       "        vertical-align: top;\n",
       "    }\n",
       "\n",
       "    .dataframe thead th {\n",
       "        text-align: right;\n",
       "    }\n",
       "</style>\n",
       "<table border=\"1\" class=\"dataframe\">\n",
       "  <thead>\n",
       "    <tr style=\"text-align: right;\">\n",
       "      <th></th>\n",
       "      <th>Unnamed: 0</th>\n",
       "      <th>user_name</th>\n",
       "      <th>user_location</th>\n",
       "      <th>user_description</th>\n",
       "      <th>user_created</th>\n",
       "      <th>user_followers</th>\n",
       "      <th>user_friends</th>\n",
       "      <th>user_favourites</th>\n",
       "      <th>user_verified</th>\n",
       "      <th>date</th>\n",
       "      <th>...</th>\n",
       "      <th>weekday</th>\n",
       "      <th>hour</th>\n",
       "      <th>tweet_length</th>\n",
       "      <th>sentiment_tag_hf</th>\n",
       "      <th>sentiment_score_hf</th>\n",
       "      <th>sentiment_score_tb</th>\n",
       "      <th>subjectivity_score_tb</th>\n",
       "      <th>sentiment_score_nltk</th>\n",
       "      <th>id</th>\n",
       "      <th>topic_list</th>\n",
       "    </tr>\n",
       "  </thead>\n",
       "  <tbody>\n",
       "    <tr>\n",
       "      <td>0</td>\n",
       "      <td>0</td>\n",
       "      <td>Taya ❤</td>\n",
       "      <td>NaN</td>\n",
       "      <td>I don't follow back</td>\n",
       "      <td>2011-10-01 05:55:50</td>\n",
       "      <td>283</td>\n",
       "      <td>0</td>\n",
       "      <td>8324</td>\n",
       "      <td>False</td>\n",
       "      <td>2020-01-27 00:24:01</td>\n",
       "      <td>...</td>\n",
       "      <td>0</td>\n",
       "      <td>0</td>\n",
       "      <td>112</td>\n",
       "      <td>NEGATIVE</td>\n",
       "      <td>0.997167</td>\n",
       "      <td>0.0</td>\n",
       "      <td>0.00</td>\n",
       "      <td>-0.7430</td>\n",
       "      <td>0</td>\n",
       "      <td>['year grabe january', 'coronavirus kobe']</td>\n",
       "    </tr>\n",
       "    <tr>\n",
       "      <td>1</td>\n",
       "      <td>1</td>\n",
       "      <td>Eric Ng</td>\n",
       "      <td>Hong Kong</td>\n",
       "      <td>Hong Kong-based senior business reporter, Sout...</td>\n",
       "      <td>2015-02-23 12:28:27</td>\n",
       "      <td>1000</td>\n",
       "      <td>191</td>\n",
       "      <td>1</td>\n",
       "      <td>True</td>\n",
       "      <td>2020-01-27 00:37:26</td>\n",
       "      <td>...</td>\n",
       "      <td>0</td>\n",
       "      <td>0</td>\n",
       "      <td>102</td>\n",
       "      <td>NEGATIVE</td>\n",
       "      <td>0.999039</td>\n",
       "      <td>0.0</td>\n",
       "      <td>0.00</td>\n",
       "      <td>-0.0516</td>\n",
       "      <td>1</td>\n",
       "      <td>['casinos hurt s', 'wuhan virus shot', 'health...</td>\n",
       "    </tr>\n",
       "    <tr>\n",
       "      <td>2</td>\n",
       "      <td>2</td>\n",
       "      <td>Greg Folkers</td>\n",
       "      <td>Washington, D.C., U.S.A.</td>\n",
       "      <td>Washington, DC</td>\n",
       "      <td>2009-05-21 17:03:17</td>\n",
       "      <td>4188</td>\n",
       "      <td>178</td>\n",
       "      <td>875</td>\n",
       "      <td>False</td>\n",
       "      <td>2020-01-27 00:50:36</td>\n",
       "      <td>...</td>\n",
       "      <td>0</td>\n",
       "      <td>0</td>\n",
       "      <td>137</td>\n",
       "      <td>NEGATIVE</td>\n",
       "      <td>0.980284</td>\n",
       "      <td>0.0</td>\n",
       "      <td>0.00</td>\n",
       "      <td>0.5267</td>\n",
       "      <td>2</td>\n",
       "      <td>['aovlpgufvm s', 'transmission dynamics']</td>\n",
       "    </tr>\n",
       "    <tr>\n",
       "      <td>3</td>\n",
       "      <td>3</td>\n",
       "      <td>Deplorable Chump Texanon</td>\n",
       "      <td>Texas, USA</td>\n",
       "      <td>God, Family, Country.  God Wins! I love my won...</td>\n",
       "      <td>2009-03-26 20:31:39</td>\n",
       "      <td>675</td>\n",
       "      <td>987</td>\n",
       "      <td>3491</td>\n",
       "      <td>False</td>\n",
       "      <td>2020-01-27 00:58:18</td>\n",
       "      <td>...</td>\n",
       "      <td>0</td>\n",
       "      <td>0</td>\n",
       "      <td>212</td>\n",
       "      <td>NEGATIVE</td>\n",
       "      <td>0.971413</td>\n",
       "      <td>0.0</td>\n",
       "      <td>0.45</td>\n",
       "      <td>-0.7430</td>\n",
       "      <td>3</td>\n",
       "      <td>['humanity s', 'coronavirus hits', 'infection ...</td>\n",
       "    </tr>\n",
       "    <tr>\n",
       "      <td>4</td>\n",
       "      <td>4</td>\n",
       "      <td>Luke Waltham⁷</td>\n",
       "      <td>contactlukewaltham@gmail.com</td>\n",
       "      <td>22. Bisexual. Queer. He/They. Intersectional F...</td>\n",
       "      <td>2012-09-09 00:19:29</td>\n",
       "      <td>220029</td>\n",
       "      <td>9268</td>\n",
       "      <td>233087</td>\n",
       "      <td>True</td>\n",
       "      <td>2020-01-27 00:58:25</td>\n",
       "      <td>...</td>\n",
       "      <td>0</td>\n",
       "      <td>0</td>\n",
       "      <td>275</td>\n",
       "      <td>NEGATIVE</td>\n",
       "      <td>0.993612</td>\n",
       "      <td>0.0</td>\n",
       "      <td>0.18</td>\n",
       "      <td>-0.9524</td>\n",
       "      <td>4</td>\n",
       "      <td>['fear getting', 'indigenous people', 'killed ...</td>\n",
       "    </tr>\n",
       "  </tbody>\n",
       "</table>\n",
       "<p>5 rows × 26 columns</p>\n",
       "</div>"
      ],
      "text/plain": [
       "   Unnamed: 0                 user_name                 user_location  \\\n",
       "0           0                    Taya ❤                           NaN   \n",
       "1           1                   Eric Ng                     Hong Kong   \n",
       "2           2              Greg Folkers      Washington, D.C., U.S.A.   \n",
       "3           3  Deplorable Chump Texanon                    Texas, USA   \n",
       "4           4             Luke Waltham⁷  contactlukewaltham@gmail.com   \n",
       "\n",
       "                                    user_description         user_created  \\\n",
       "0                                I don't follow back  2011-10-01 05:55:50   \n",
       "1  Hong Kong-based senior business reporter, Sout...  2015-02-23 12:28:27   \n",
       "2                                     Washington, DC  2009-05-21 17:03:17   \n",
       "3  God, Family, Country.  God Wins! I love my won...  2009-03-26 20:31:39   \n",
       "4  22. Bisexual. Queer. He/They. Intersectional F...  2012-09-09 00:19:29   \n",
       "\n",
       "   user_followers  user_friends  user_favourites  user_verified  \\\n",
       "0             283             0             8324          False   \n",
       "1            1000           191                1           True   \n",
       "2            4188           178              875          False   \n",
       "3             675           987             3491          False   \n",
       "4          220029          9268           233087           True   \n",
       "\n",
       "                  date  ... weekday hour tweet_length sentiment_tag_hf  \\\n",
       "0  2020-01-27 00:24:01  ...       0    0          112         NEGATIVE   \n",
       "1  2020-01-27 00:37:26  ...       0    0          102         NEGATIVE   \n",
       "2  2020-01-27 00:50:36  ...       0    0          137         NEGATIVE   \n",
       "3  2020-01-27 00:58:18  ...       0    0          212         NEGATIVE   \n",
       "4  2020-01-27 00:58:25  ...       0    0          275         NEGATIVE   \n",
       "\n",
       "  sentiment_score_hf sentiment_score_tb  subjectivity_score_tb  \\\n",
       "0           0.997167                0.0                   0.00   \n",
       "1           0.999039                0.0                   0.00   \n",
       "2           0.980284                0.0                   0.00   \n",
       "3           0.971413                0.0                   0.45   \n",
       "4           0.993612                0.0                   0.18   \n",
       "\n",
       "   sentiment_score_nltk  id                                         topic_list  \n",
       "0               -0.7430   0         ['year grabe january', 'coronavirus kobe']  \n",
       "1               -0.0516   1  ['casinos hurt s', 'wuhan virus shot', 'health...  \n",
       "2                0.5267   2          ['aovlpgufvm s', 'transmission dynamics']  \n",
       "3               -0.7430   3  ['humanity s', 'coronavirus hits', 'infection ...  \n",
       "4               -0.9524   4  ['fear getting', 'indigenous people', 'killed ...  \n",
       "\n",
       "[5 rows x 26 columns]"
      ]
     },
     "execution_count": 62,
     "metadata": {},
     "output_type": "execute_result"
    }
   ],
   "source": [
    "covid.head()"
   ]
  },
  {
   "cell_type": "code",
   "execution_count": 4,
   "metadata": {},
   "outputs": [],
   "source": [
    "def extractEmoji(df):\n",
    "    '''Extract Emojis from tweets'''\n",
    "    pattern = \"\\:\\w+\\:\"\n",
    "    emoji_list = []\n",
    "    time_list = []\n",
    "    for i in range(len(df)):\n",
    "        check_emoji = re.findall(pattern, emoji.demojize(str(df['full_text'].iloc[i])))\n",
    "        if len(check_emoji) != 0:\n",
    "            emoji_list.append(check_emoji)\n",
    "            time_list.append(df['date'].iloc[i])\n",
    "        \n",
    "    return emoji_list,time_list\n",
    "\n",
    "def sorted_entities(extracted, extract_type):\n",
    "    individual_entity = list(itertools.chain(*extracted))\n",
    "    entity_freq = {}\n",
    "    if extract_type == \"Hashtags\":\n",
    "        for item in individual_entity: \n",
    "            if (item in entity_freq): \n",
    "                entity_freq[item] += 1\n",
    "            else:\n",
    "                if len(re.findall('covid|coronavirus',item,re.IGNORECASE)) == 0:\n",
    "                    entity_freq[item] = 1\n",
    "    else:\n",
    "        for item in individual_entity: \n",
    "            if (item in entity_freq): \n",
    "                entity_freq[item] += 1\n",
    "            else: \n",
    "                entity_freq[item] = 1\n",
    "    entity_freq_sorted = {k: v for k, v in sorted(entity_freq.items(), key=lambda item: item[1],reverse=True)}\n",
    "    return entity_freq_sorted"
   ]
  },
  {
   "cell_type": "code",
   "execution_count": 5,
   "metadata": {},
   "outputs": [],
   "source": [
    "emojis, time = extractEmoji(covid)\n",
    "emoji_df = pd.DataFrame({'emoji':emojis,'date':time}) # dataset that contains list of emojis and the date for each tweet\n",
    "emojis_sorted = sorted_entities(emojis,'emoji')\n",
    "emoji_exist = list(emojis_sorted.keys())"
   ]
  },
  {
   "cell_type": "code",
   "execution_count": 66,
   "metadata": {},
   "outputs": [],
   "source": [
    "emoji_exist = emoji_exist[:200]"
   ]
  },
  {
   "cell_type": "code",
   "execution_count": 67,
   "metadata": {},
   "outputs": [],
   "source": [
    "emoji_list = []\n",
    "emoji_sentiment = []\n",
    "for i in range(len(emoji_ranking)):\n",
    "    if emoji_ranking.Emoji[i] in emoji_exist:\n",
    "        emoji_list.append(emoji_ranking.Emoji[i])\n",
    "        emoji_sentiment.append(emoji_ranking.sentiment_score[i])\n",
    "        "
   ]
  },
  {
   "cell_type": "code",
   "execution_count": 68,
   "metadata": {
    "collapsed": true
   },
   "outputs": [
    {
     "name": "stdout",
     "output_type": "stream",
     "text": [
      "86\n",
      "[':rolling_on_the_floor_laughing:', ':thinking_face:', ':red_heart_selector:', ':United_States:', ':face_with_rolling_eyes:', ':right_arrow_selector:', ':pleading_face:', ':face_with_symbols_on_mouth:', ':double_exclamation_mark_selector:', ':microbe:', ':down_arrow_selector:', ':folded_hands_light_skin_tone:', ':warning_selector:', ':China:', ':candle:', ':black_small_square_selector:', ':clown_face:', ':smiling_face_with_3_hearts:', ':woozy_face:', ':India:', ':heart_suit_selector:', ':slightly_smiling_face:', ':hugging_face:', ':backhand_index_pointing_down_light_skin_tone:', ':clapping_hands_light_skin_tone:', ':play_button_selector:', ':United_Kingdom:', ':check_mark:', ':Canada:', ':backhand_index_pointing_down_medium_skin_tone:', ':man_facepalming_selector:', ':candle_selector:', ':clapping_hands_medium_skin_tone:', ':speaking_head:', ':folded_hands_medium_skin_tone:', ':face_with_raised_eyebrow:', ':face_vomiting:', ':face_with_monocle:', ':woman_facepalming_selector:', ':exploding_head:', ':man_shrugging_selector:', ':https:', ':thread:', ':keycap_2:', ':victory_hand_selector:', ':zany_face:', ':stop_sign:', ':man_facepalming_light_skin_tone:', ':partying_face:', ':check_box_with_check:', ':nauseated_face:', ':sneezing_face:', ':black_heart:', ':Italy:', ':woman_shrugging_selector:', ':woman_shrugging_light_skin_tone:', ':up_arrow_selector:', ':right_arrow_curving_down_selector:', ':airplane_selector:', ':face_with_thermometer:', ':keycap_1:', ':thumbs_up_light_skin_tone:', ':camera_with_flash:', ':France:', ':handshake:', ':sun_selector:', ':Germany:', ':Spain:', ':exclamation_question_mark_selector:', ':skull_and_crossbones_selector:', ':backhand_index_pointing_right_light_skin_tone:', ':Australia:', ':smiling_face_selector:', ':man_facepalming_medium_skin_tone:', ':Pakistan:', ':Scotland:', ':European_Union:', ':Russia:', ':Sweden:', ':woman_facepalming_light_skin_tone:', ':middle_finger:', ':Philippines:', ':keycap_0:', ':keycap_digit_one:', ':sign_of_the_horns:', ':hot_face:']\n"
     ]
    }
   ],
   "source": [
    "missing_emoji = [i for i in emoji_exist if i not in emoji_list]\n",
    "print(len(missing_emoji))\n",
    "print(missing_emoji)"
   ]
  },
  {
   "cell_type": "code",
   "execution_count": 69,
   "metadata": {},
   "outputs": [
    {
     "name": "stdout",
     "output_type": "stream",
     "text": [
      "114\n"
     ]
    }
   ],
   "source": [
    "print(len(emoji_list))"
   ]
  },
  {
   "cell_type": "code",
   "execution_count": 70,
   "metadata": {},
   "outputs": [
    {
     "data": {
      "text/plain": [
       "10255"
      ]
     },
     "execution_count": 70,
     "metadata": {},
     "output_type": "execute_result"
    }
   ],
   "source": [
    "len(emojis)"
   ]
  },
  {
   "cell_type": "code",
   "execution_count": 109,
   "metadata": {
    "scrolled": true
   },
   "outputs": [
    {
     "name": "stdout",
     "output_type": "stream",
     "text": [
      "(4282, 2)\n"
     ]
    }
   ],
   "source": [
    "emoji_df_filtered = emoji_df.loc[[all(x in emoji_list for x in i) for i in emoji_df['emoji']]]\n",
    "print(emoji_df_filtered.shape)"
   ]
  },
  {
   "cell_type": "code",
   "execution_count": 110,
   "metadata": {
    "scrolled": true
   },
   "outputs": [
    {
     "name": "stderr",
     "output_type": "stream",
     "text": [
      "/Users/ivywang/opt/anaconda3/lib/python3.7/site-packages/ipykernel_launcher.py:1: SettingWithCopyWarning: \n",
      "A value is trying to be set on a copy of a slice from a DataFrame.\n",
      "Try using .loc[row_indexer,col_indexer] = value instead\n",
      "\n",
      "See the caveats in the documentation: http://pandas.pydata.org/pandas-docs/stable/user_guide/indexing.html#returning-a-view-versus-a-copy\n",
      "  \"\"\"Entry point for launching an IPython kernel.\n"
     ]
    }
   ],
   "source": [
    "emoji_df_filtered['encode'] = [[emoji_utf8(emoji.emojize(j)).upper() for j in i] for i in emoji_df_filtered['emoji']]"
   ]
  },
  {
   "cell_type": "code",
   "execution_count": 111,
   "metadata": {},
   "outputs": [
    {
     "data": {
      "text/html": [
       "<div>\n",
       "<style scoped>\n",
       "    .dataframe tbody tr th:only-of-type {\n",
       "        vertical-align: middle;\n",
       "    }\n",
       "\n",
       "    .dataframe tbody tr th {\n",
       "        vertical-align: top;\n",
       "    }\n",
       "\n",
       "    .dataframe thead th {\n",
       "        text-align: right;\n",
       "    }\n",
       "</style>\n",
       "<table border=\"1\" class=\"dataframe\">\n",
       "  <thead>\n",
       "    <tr style=\"text-align: right;\">\n",
       "      <th></th>\n",
       "      <th>emoji</th>\n",
       "      <th>date</th>\n",
       "      <th>encode</th>\n",
       "    </tr>\n",
       "  </thead>\n",
       "  <tbody>\n",
       "    <tr>\n",
       "      <td>3</td>\n",
       "      <td>[:flexed_biceps:]</td>\n",
       "      <td>2020-01-27 06:12:06</td>\n",
       "      <td>[0X1F4AA]</td>\n",
       "    </tr>\n",
       "    <tr>\n",
       "      <td>5</td>\n",
       "      <td>[:folded_hands:, :folded_hands:, :folded_hands:]</td>\n",
       "      <td>2020-01-27 07:33:29</td>\n",
       "      <td>[0X1F64F, 0X1F64F, 0X1F64F]</td>\n",
       "    </tr>\n",
       "    <tr>\n",
       "      <td>8</td>\n",
       "      <td>[:loudspeaker:]</td>\n",
       "      <td>2020-01-27 16:20:46</td>\n",
       "      <td>[0X1F4E2]</td>\n",
       "    </tr>\n",
       "    <tr>\n",
       "      <td>9</td>\n",
       "      <td>[:hundred_points:]</td>\n",
       "      <td>2020-01-27 17:08:50</td>\n",
       "      <td>[0X1F4AF]</td>\n",
       "    </tr>\n",
       "    <tr>\n",
       "      <td>10</td>\n",
       "      <td>[:face_screaming_in_fear:]</td>\n",
       "      <td>2020-01-27 17:46:48</td>\n",
       "      <td>[0X1F631]</td>\n",
       "    </tr>\n",
       "    <tr>\n",
       "      <td>...</td>\n",
       "      <td>...</td>\n",
       "      <td>...</td>\n",
       "      <td>...</td>\n",
       "    </tr>\n",
       "    <tr>\n",
       "      <td>10241</td>\n",
       "      <td>[:grimacing_face:]</td>\n",
       "      <td>2020-09-30 16:27:06</td>\n",
       "      <td>[0X1F62C]</td>\n",
       "    </tr>\n",
       "    <tr>\n",
       "      <td>10243</td>\n",
       "      <td>[:raising_hands:]</td>\n",
       "      <td>2020-09-30 17:12:40</td>\n",
       "      <td>[0X1F64C]</td>\n",
       "    </tr>\n",
       "    <tr>\n",
       "      <td>10245</td>\n",
       "      <td>[:sad_but_relieved_face:, :face_screaming_in_f...</td>\n",
       "      <td>2020-09-30 19:05:36</td>\n",
       "      <td>[0X1F625, 0X1F631]</td>\n",
       "    </tr>\n",
       "    <tr>\n",
       "      <td>10252</td>\n",
       "      <td>[:oncoming_fist:, :purple_heart:, :oncoming_fi...</td>\n",
       "      <td>2020-09-30 22:25:25</td>\n",
       "      <td>[0X1F44A, 0X1F49C, 0X1F44A]</td>\n",
       "    </tr>\n",
       "    <tr>\n",
       "      <td>10253</td>\n",
       "      <td>[:grimacing_face:]</td>\n",
       "      <td>2020-09-30 22:50:21</td>\n",
       "      <td>[0X1F62C]</td>\n",
       "    </tr>\n",
       "  </tbody>\n",
       "</table>\n",
       "<p>4282 rows × 3 columns</p>\n",
       "</div>"
      ],
      "text/plain": [
       "                                                   emoji                 date  \\\n",
       "3                                      [:flexed_biceps:]  2020-01-27 06:12:06   \n",
       "5       [:folded_hands:, :folded_hands:, :folded_hands:]  2020-01-27 07:33:29   \n",
       "8                                        [:loudspeaker:]  2020-01-27 16:20:46   \n",
       "9                                     [:hundred_points:]  2020-01-27 17:08:50   \n",
       "10                            [:face_screaming_in_fear:]  2020-01-27 17:46:48   \n",
       "...                                                  ...                  ...   \n",
       "10241                                 [:grimacing_face:]  2020-09-30 16:27:06   \n",
       "10243                                  [:raising_hands:]  2020-09-30 17:12:40   \n",
       "10245  [:sad_but_relieved_face:, :face_screaming_in_f...  2020-09-30 19:05:36   \n",
       "10252  [:oncoming_fist:, :purple_heart:, :oncoming_fi...  2020-09-30 22:25:25   \n",
       "10253                                 [:grimacing_face:]  2020-09-30 22:50:21   \n",
       "\n",
       "                            encode  \n",
       "3                        [0X1F4AA]  \n",
       "5      [0X1F64F, 0X1F64F, 0X1F64F]  \n",
       "8                        [0X1F4E2]  \n",
       "9                        [0X1F4AF]  \n",
       "10                       [0X1F631]  \n",
       "...                            ...  \n",
       "10241                    [0X1F62C]  \n",
       "10243                    [0X1F64C]  \n",
       "10245           [0X1F625, 0X1F631]  \n",
       "10252  [0X1F44A, 0X1F49C, 0X1F44A]  \n",
       "10253                    [0X1F62C]  \n",
       "\n",
       "[4282 rows x 3 columns]"
      ]
     },
     "execution_count": 111,
     "metadata": {},
     "output_type": "execute_result"
    }
   ],
   "source": [
    "emoji_df_filtered"
   ]
  },
  {
   "cell_type": "code",
   "execution_count": 112,
   "metadata": {},
   "outputs": [],
   "source": [
    "emoji_df_filtered.to_csv('emoji_data.csv',index=None)"
   ]
  },
  {
   "cell_type": "code",
   "execution_count": 98,
   "metadata": {},
   "outputs": [],
   "source": [
    "emoji_ranking = emoji_ranking.loc[[i in emoji_list for i in emoji_ranking['Emoji']]]\n",
    "emoji_ranking = emoji_ranking[['Emoji','encode','sentiment_score']]"
   ]
  },
  {
   "cell_type": "code",
   "execution_count": 104,
   "metadata": {},
   "outputs": [],
   "source": [
    "emoji_ranking['encode'] = [i.upper() for i in emoji_ranking['encode']]"
   ]
  },
  {
   "cell_type": "code",
   "execution_count": 106,
   "metadata": {},
   "outputs": [
    {
     "data": {
      "text/html": [
       "<div>\n",
       "<style scoped>\n",
       "    .dataframe tbody tr th:only-of-type {\n",
       "        vertical-align: middle;\n",
       "    }\n",
       "\n",
       "    .dataframe tbody tr th {\n",
       "        vertical-align: top;\n",
       "    }\n",
       "\n",
       "    .dataframe thead th {\n",
       "        text-align: right;\n",
       "    }\n",
       "</style>\n",
       "<table border=\"1\" class=\"dataframe\">\n",
       "  <thead>\n",
       "    <tr style=\"text-align: right;\">\n",
       "      <th></th>\n",
       "      <th>Emoji</th>\n",
       "      <th>encode</th>\n",
       "      <th>sentiment_score</th>\n",
       "    </tr>\n",
       "  </thead>\n",
       "  <tbody>\n",
       "    <tr>\n",
       "      <td>0</td>\n",
       "      <td>:face_with_tears_of_joy:</td>\n",
       "      <td>0X1F602</td>\n",
       "      <td>0.220968</td>\n",
       "    </tr>\n",
       "    <tr>\n",
       "      <td>1</td>\n",
       "      <td>:red_heart:</td>\n",
       "      <td>0X2764</td>\n",
       "      <td>0.746087</td>\n",
       "    </tr>\n",
       "    <tr>\n",
       "      <td>4</td>\n",
       "      <td>:loudly_crying_face:</td>\n",
       "      <td>0X1F62D</td>\n",
       "      <td>-0.093377</td>\n",
       "    </tr>\n",
       "    <tr>\n",
       "      <td>5</td>\n",
       "      <td>:face_blowing_a_kiss:</td>\n",
       "      <td>0X1F618</td>\n",
       "      <td>0.701754</td>\n",
       "    </tr>\n",
       "    <tr>\n",
       "      <td>6</td>\n",
       "      <td>:smiling_face_with_smiling_eyes:</td>\n",
       "      <td>0X1F60A</td>\n",
       "      <td>0.644696</td>\n",
       "    </tr>\n",
       "  </tbody>\n",
       "</table>\n",
       "</div>"
      ],
      "text/plain": [
       "                              Emoji   encode  sentiment_score\n",
       "0          :face_with_tears_of_joy:  0X1F602         0.220968\n",
       "1                       :red_heart:   0X2764         0.746087\n",
       "4              :loudly_crying_face:  0X1F62D        -0.093377\n",
       "5             :face_blowing_a_kiss:  0X1F618         0.701754\n",
       "6  :smiling_face_with_smiling_eyes:  0X1F60A         0.644696"
      ]
     },
     "execution_count": 106,
     "metadata": {},
     "output_type": "execute_result"
    }
   ],
   "source": [
    "emoji_ranking.head()"
   ]
  },
  {
   "cell_type": "code",
   "execution_count": 107,
   "metadata": {},
   "outputs": [],
   "source": [
    "emoji_ranking.to_csv('emoji_score.csv',index=None)"
   ]
  },
  {
   "cell_type": "code",
   "execution_count": 102,
   "metadata": {},
   "outputs": [
    {
     "data": {
      "text/plain": [
       "(array([ 1.,  0.,  1.,  7.,  9.,  8., 16., 18., 30., 24.]),\n",
       " array([-1.        , -0.8253913 , -0.65078261, -0.47617391, -0.30156522,\n",
       "        -0.12695652,  0.04765217,  0.22226087,  0.39686957,  0.57147826,\n",
       "         0.74608696]),\n",
       " <a list of 10 Patch objects>)"
      ]
     },
     "execution_count": 102,
     "metadata": {},
     "output_type": "execute_result"
    },
    {
     "data": {
      "image/png": "[encoded data removed]",
      "text/plain": [
       "<Figure size 432x288 with 1 Axes>"
      ]
     },
     "metadata": {
      "needs_background": "light"
     },
     "output_type": "display_data"
    }
   ],
   "source": [
    "plt.hist(emoji_ranking['sentiment_score'])"
   ]
  }
 ],
 "metadata": {
  "kernelspec": {
   "display_name": "Python 3",
   "language": "python",
   "name": "python3"
  },
  "language_info": {
   "codemirror_mode": {
    "name": "ipython",
    "version": 3
   },
   "file_extension": ".py",
   "mimetype": "text/x-python",
   "name": "python",
   "nbconvert_exporter": "python",
   "pygments_lexer": "ipython3",
   "version": "3.7.4"
  }
 },
 "nbformat": 4,
 "nbformat_minor": 2
}
